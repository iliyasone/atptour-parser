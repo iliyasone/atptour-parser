{
 "cells": [
  {
   "cell_type": "code",
   "execution_count": null,
   "metadata": {},
   "outputs": [],
   "source": [
    "from typing import TypedDict, NamedTuple\n",
    "from __future__ import annotations"
   ]
  },
  {
   "cell_type": "code",
   "execution_count": null,
   "metadata": {},
   "outputs": [],
   "source": [
    "from atptour import *"
   ]
  },
  {
   "cell_type": "code",
   "execution_count": 1,
   "metadata": {},
   "outputs": [],
   "source": [
    "from court_vision import *"
   ]
  },
  {
   "cell_type": "code",
   "execution_count": 2,
   "metadata": {},
   "outputs": [
    {
     "name": "stdout",
     "output_type": "stream",
     "text": [
      "player 1\n",
      "player 1, set 1\n",
      "Aces\n",
      "found 2 shots\n",
      "Double Fault\n",
      "found 2 shots\n",
      "First Serve\n",
      "found 2 shots\n",
      "Second Serve\n",
      "found 2 shots\n",
      "1St Serve Points Won\n",
      "Element was not closed\n"
     ]
    },
    {
     "ename": "KeyboardInterrupt",
     "evalue": "",
     "output_type": "error",
     "traceback": [
      "\u001b[1;31m---------------------------------------------------------------------------\u001b[0m",
      "\u001b[1;31mKeyboardInterrupt\u001b[0m                         Traceback (most recent call last)",
      "Cell \u001b[1;32mIn[2], line 1\u001b[0m\n\u001b[1;32m----> 1\u001b[0m \u001b[43mparse_court_vision\u001b[49m\u001b[43m(\u001b[49m\u001b[43m)\u001b[49m\n",
      "File \u001b[1;32mc:\\atptour-parser\\atptour.py:15\u001b[0m, in \u001b[0;36msave_as_json.<locals>.wrapper\u001b[1;34m(*args, **kwargs)\u001b[0m\n\u001b[0;32m     12\u001b[0m \u001b[38;5;129m@wraps\u001b[39m(func)\n\u001b[0;32m     13\u001b[0m \u001b[38;5;28;01mdef\u001b[39;00m \u001b[38;5;21mwrapper\u001b[39m(\u001b[38;5;241m*\u001b[39margs, \u001b[38;5;241m*\u001b[39m\u001b[38;5;241m*\u001b[39mkwargs):\n\u001b[0;32m     14\u001b[0m     \u001b[38;5;66;03m# Call the original function\u001b[39;00m\n\u001b[1;32m---> 15\u001b[0m     result \u001b[38;5;241m=\u001b[39m \u001b[43mfunc\u001b[49m\u001b[43m(\u001b[49m\u001b[38;5;241;43m*\u001b[39;49m\u001b[43margs\u001b[49m\u001b[43m,\u001b[49m\u001b[43m \u001b[49m\u001b[38;5;241;43m*\u001b[39;49m\u001b[38;5;241;43m*\u001b[39;49m\u001b[43mkwargs\u001b[49m\u001b[43m)\u001b[49m\n\u001b[0;32m     17\u001b[0m     \u001b[38;5;66;03m# Prepare the filename using the function's name\u001b[39;00m\n\u001b[0;32m     18\u001b[0m     filename \u001b[38;5;241m=\u001b[39m \u001b[38;5;124mf\u001b[39m\u001b[38;5;124m\"\u001b[39m\u001b[38;5;132;01m{\u001b[39;00mfunc\u001b[38;5;241m.\u001b[39m\u001b[38;5;18m__name__\u001b[39m\u001b[38;5;132;01m}\u001b[39;00m\u001b[38;5;124m.json\u001b[39m\u001b[38;5;124m\"\u001b[39m\n",
      "File \u001b[1;32mc:\\atptour-parser\\court_vision.py:369\u001b[0m, in \u001b[0;36mparse_court_vision\u001b[1;34m()\u001b[0m\n\u001b[0;32m    364\u001b[0m option\u001b[38;5;241m.\u001b[39mclick()\n\u001b[0;32m    366\u001b[0m time\u001b[38;5;241m.\u001b[39msleep(\u001b[38;5;241m1\u001b[39m)\n\u001b[0;32m    367\u001b[0m shots: Shots \u001b[38;5;241m=\u001b[39m {\n\u001b[0;32m    368\u001b[0m     \u001b[38;5;124m\"\u001b[39m\u001b[38;5;124mlabel\u001b[39m\u001b[38;5;124m\"\u001b[39m: label,\n\u001b[1;32m--> 369\u001b[0m     \u001b[38;5;124m\"\u001b[39m\u001b[38;5;124mshots\u001b[39m\u001b[38;5;124m\"\u001b[39m: \u001b[43mget_all_current_shots\u001b[49m\u001b[43m(\u001b[49m\u001b[43m)\u001b[49m,\n\u001b[0;32m    370\u001b[0m }\n\u001b[0;32m    372\u001b[0m \u001b[38;5;28mprint\u001b[39m(\u001b[38;5;124mf\u001b[39m\u001b[38;5;124m'\u001b[39m\u001b[38;5;124mfound \u001b[39m\u001b[38;5;132;01m{\u001b[39;00m\u001b[38;5;28mlen\u001b[39m(shots)\u001b[38;5;132;01m}\u001b[39;00m\u001b[38;5;124m shots\u001b[39m\u001b[38;5;124m'\u001b[39m)\n\u001b[0;32m    373\u001b[0m set_[\u001b[38;5;124m\"\u001b[39m\u001b[38;5;124mshotsTypes\u001b[39m\u001b[38;5;124m\"\u001b[39m]\u001b[38;5;241m.\u001b[39mappend(shots)\n",
      "File \u001b[1;32mc:\\atptour-parser\\court_vision.py:275\u001b[0m, in \u001b[0;36mget_all_current_shots\u001b[1;34m(passed_balls)\u001b[0m\n\u001b[0;32m    272\u001b[0m     move_foreground(court_ball)\n\u001b[0;32m    273\u001b[0m     court_ball\u001b[38;5;241m.\u001b[39mclick()\n\u001b[1;32m--> 275\u001b[0m current_shots\u001b[38;5;241m.\u001b[39mappend(\u001b[43mget_selected_shot\u001b[49m\u001b[43m(\u001b[49m\u001b[43mpassed_balls\u001b[49m\u001b[43m,\u001b[49m\u001b[43m \u001b[49m\u001b[43mCourt\u001b[49m\u001b[43m)\u001b[49m)\n\u001b[0;32m    277\u001b[0m \u001b[38;5;28;01mtry\u001b[39;00m:\n\u001b[0;32m    278\u001b[0m     get_selected_group_elements()\u001b[38;5;241m.\u001b[39mfind_element(By\u001b[38;5;241m.\u001b[39mXPATH, \u001b[38;5;124mr\u001b[39m\u001b[38;5;124m\"\u001b[39m\u001b[38;5;124m./*\u001b[39m\u001b[38;5;124m\"\u001b[39m)\n",
      "File \u001b[1;32mc:\\atptour-parser\\court_vision.py:227\u001b[0m, in \u001b[0;36mget_selected_shot\u001b[1;34m(passed_balls, court)\u001b[0m\n\u001b[0;32m    224\u001b[0m \u001b[38;5;66;03m# get all attributes\u001b[39;00m\n\u001b[0;32m    225\u001b[0m attributes \u001b[38;5;241m=\u001b[39m {}\n\u001b[1;32m--> 227\u001b[0m elements \u001b[38;5;241m=\u001b[39m \u001b[43mdriver\u001b[49m\u001b[38;5;241;43m.\u001b[39;49m\u001b[43mfind_elements\u001b[49m\u001b[43m(\u001b[49m\n\u001b[0;32m    228\u001b[0m \u001b[43m    \u001b[49m\u001b[43mBy\u001b[49m\u001b[38;5;241;43m.\u001b[39;49m\u001b[43mXPATH\u001b[49m\u001b[43m,\u001b[49m\u001b[43m \u001b[49m\u001b[38;5;124;43m\"\u001b[39;49m\u001b[38;5;124;43m//div[@class=\u001b[39;49m\u001b[38;5;124;43m'\u001b[39;49m\u001b[38;5;124;43mheader\u001b[39;49m\u001b[38;5;124;43m'\u001b[39;49m\u001b[38;5;124;43m and normalize-space(text())]\u001b[39;49m\u001b[38;5;124;43m\"\u001b[39;49m\n\u001b[0;32m    229\u001b[0m \u001b[43m\u001b[49m\u001b[43m)\u001b[49m\n\u001b[0;32m    230\u001b[0m \u001b[38;5;28;01mfor\u001b[39;00m element \u001b[38;5;129;01min\u001b[39;00m elements:\n\u001b[0;32m    231\u001b[0m     key \u001b[38;5;241m=\u001b[39m to_camel_case(element\u001b[38;5;241m.\u001b[39mtext)\n",
      "File \u001b[1;32mc:\\atptour-parser\\.venv\\Lib\\site-packages\\selenium\\webdriver\\remote\\webdriver.py:778\u001b[0m, in \u001b[0;36mWebDriver.find_elements\u001b[1;34m(self, by, value)\u001b[0m\n\u001b[0;32m    774\u001b[0m     value \u001b[38;5;241m=\u001b[39m \u001b[38;5;124mf\u001b[39m\u001b[38;5;124m'\u001b[39m\u001b[38;5;124m[name=\u001b[39m\u001b[38;5;124m\"\u001b[39m\u001b[38;5;132;01m{\u001b[39;00mvalue\u001b[38;5;132;01m}\u001b[39;00m\u001b[38;5;124m\"\u001b[39m\u001b[38;5;124m]\u001b[39m\u001b[38;5;124m'\u001b[39m\n\u001b[0;32m    776\u001b[0m \u001b[38;5;66;03m# Return empty list if driver returns null\u001b[39;00m\n\u001b[0;32m    777\u001b[0m \u001b[38;5;66;03m# See https://github.com/SeleniumHQ/selenium/issues/4555\u001b[39;00m\n\u001b[1;32m--> 778\u001b[0m \u001b[38;5;28;01mreturn\u001b[39;00m \u001b[38;5;28;43mself\u001b[39;49m\u001b[38;5;241;43m.\u001b[39;49m\u001b[43mexecute\u001b[49m\u001b[43m(\u001b[49m\u001b[43mCommand\u001b[49m\u001b[38;5;241;43m.\u001b[39;49m\u001b[43mFIND_ELEMENTS\u001b[49m\u001b[43m,\u001b[49m\u001b[43m \u001b[49m\u001b[43m{\u001b[49m\u001b[38;5;124;43m\"\u001b[39;49m\u001b[38;5;124;43musing\u001b[39;49m\u001b[38;5;124;43m\"\u001b[39;49m\u001b[43m:\u001b[49m\u001b[43m \u001b[49m\u001b[43mby\u001b[49m\u001b[43m,\u001b[49m\u001b[43m \u001b[49m\u001b[38;5;124;43m\"\u001b[39;49m\u001b[38;5;124;43mvalue\u001b[39;49m\u001b[38;5;124;43m\"\u001b[39;49m\u001b[43m:\u001b[49m\u001b[43m \u001b[49m\u001b[43mvalue\u001b[49m\u001b[43m}\u001b[49m\u001b[43m)\u001b[49m[\u001b[38;5;124m\"\u001b[39m\u001b[38;5;124mvalue\u001b[39m\u001b[38;5;124m\"\u001b[39m] \u001b[38;5;129;01mor\u001b[39;00m []\n",
      "File \u001b[1;32mc:\\atptour-parser\\.venv\\Lib\\site-packages\\selenium\\webdriver\\remote\\webdriver.py:352\u001b[0m, in \u001b[0;36mWebDriver.execute\u001b[1;34m(self, driver_command, params)\u001b[0m\n\u001b[0;32m    349\u001b[0m     \u001b[38;5;28;01melif\u001b[39;00m \u001b[38;5;124m\"\u001b[39m\u001b[38;5;124msessionId\u001b[39m\u001b[38;5;124m\"\u001b[39m \u001b[38;5;129;01mnot\u001b[39;00m \u001b[38;5;129;01min\u001b[39;00m params:\n\u001b[0;32m    350\u001b[0m         params[\u001b[38;5;124m\"\u001b[39m\u001b[38;5;124msessionId\u001b[39m\u001b[38;5;124m\"\u001b[39m] \u001b[38;5;241m=\u001b[39m \u001b[38;5;28mself\u001b[39m\u001b[38;5;241m.\u001b[39msession_id\n\u001b[1;32m--> 352\u001b[0m response \u001b[38;5;241m=\u001b[39m \u001b[38;5;28;43mself\u001b[39;49m\u001b[38;5;241;43m.\u001b[39;49m\u001b[43mcommand_executor\u001b[49m\u001b[38;5;241;43m.\u001b[39;49m\u001b[43mexecute\u001b[49m\u001b[43m(\u001b[49m\u001b[43mdriver_command\u001b[49m\u001b[43m,\u001b[49m\u001b[43m \u001b[49m\u001b[43mparams\u001b[49m\u001b[43m)\u001b[49m\n\u001b[0;32m    353\u001b[0m \u001b[38;5;28;01mif\u001b[39;00m response:\n\u001b[0;32m    354\u001b[0m     \u001b[38;5;28mself\u001b[39m\u001b[38;5;241m.\u001b[39merror_handler\u001b[38;5;241m.\u001b[39mcheck_response(response)\n",
      "File \u001b[1;32mc:\\atptour-parser\\.venv\\Lib\\site-packages\\selenium\\webdriver\\remote\\remote_connection.py:306\u001b[0m, in \u001b[0;36mRemoteConnection.execute\u001b[1;34m(self, command, params)\u001b[0m\n\u001b[0;32m    304\u001b[0m trimmed \u001b[38;5;241m=\u001b[39m \u001b[38;5;28mself\u001b[39m\u001b[38;5;241m.\u001b[39m_trim_large_entries(params)\n\u001b[0;32m    305\u001b[0m LOGGER\u001b[38;5;241m.\u001b[39mdebug(\u001b[38;5;124m\"\u001b[39m\u001b[38;5;132;01m%s\u001b[39;00m\u001b[38;5;124m \u001b[39m\u001b[38;5;132;01m%s\u001b[39;00m\u001b[38;5;124m \u001b[39m\u001b[38;5;132;01m%s\u001b[39;00m\u001b[38;5;124m\"\u001b[39m, command_info[\u001b[38;5;241m0\u001b[39m], url, \u001b[38;5;28mstr\u001b[39m(trimmed))\n\u001b[1;32m--> 306\u001b[0m \u001b[38;5;28;01mreturn\u001b[39;00m \u001b[38;5;28;43mself\u001b[39;49m\u001b[38;5;241;43m.\u001b[39;49m\u001b[43m_request\u001b[49m\u001b[43m(\u001b[49m\u001b[43mcommand_info\u001b[49m\u001b[43m[\u001b[49m\u001b[38;5;241;43m0\u001b[39;49m\u001b[43m]\u001b[49m\u001b[43m,\u001b[49m\u001b[43m \u001b[49m\u001b[43murl\u001b[49m\u001b[43m,\u001b[49m\u001b[43m \u001b[49m\u001b[43mbody\u001b[49m\u001b[38;5;241;43m=\u001b[39;49m\u001b[43mdata\u001b[49m\u001b[43m)\u001b[49m\n",
      "File \u001b[1;32mc:\\atptour-parser\\.venv\\Lib\\site-packages\\selenium\\webdriver\\remote\\remote_connection.py:326\u001b[0m, in \u001b[0;36mRemoteConnection._request\u001b[1;34m(self, method, url, body)\u001b[0m\n\u001b[0;32m    323\u001b[0m     body \u001b[38;5;241m=\u001b[39m \u001b[38;5;28;01mNone\u001b[39;00m\n\u001b[0;32m    325\u001b[0m \u001b[38;5;28;01mif\u001b[39;00m \u001b[38;5;28mself\u001b[39m\u001b[38;5;241m.\u001b[39mkeep_alive:\n\u001b[1;32m--> 326\u001b[0m     response \u001b[38;5;241m=\u001b[39m \u001b[38;5;28;43mself\u001b[39;49m\u001b[38;5;241;43m.\u001b[39;49m\u001b[43m_conn\u001b[49m\u001b[38;5;241;43m.\u001b[39;49m\u001b[43mrequest\u001b[49m\u001b[43m(\u001b[49m\u001b[43mmethod\u001b[49m\u001b[43m,\u001b[49m\u001b[43m \u001b[49m\u001b[43murl\u001b[49m\u001b[43m,\u001b[49m\u001b[43m \u001b[49m\u001b[43mbody\u001b[49m\u001b[38;5;241;43m=\u001b[39;49m\u001b[43mbody\u001b[49m\u001b[43m,\u001b[49m\u001b[43m \u001b[49m\u001b[43mheaders\u001b[49m\u001b[38;5;241;43m=\u001b[39;49m\u001b[43mheaders\u001b[49m\u001b[43m)\u001b[49m\n\u001b[0;32m    327\u001b[0m     statuscode \u001b[38;5;241m=\u001b[39m response\u001b[38;5;241m.\u001b[39mstatus\n\u001b[0;32m    328\u001b[0m \u001b[38;5;28;01melse\u001b[39;00m:\n",
      "File \u001b[1;32mc:\\atptour-parser\\.venv\\Lib\\site-packages\\urllib3\\_request_methods.py:144\u001b[0m, in \u001b[0;36mRequestMethods.request\u001b[1;34m(self, method, url, body, fields, headers, json, **urlopen_kw)\u001b[0m\n\u001b[0;32m    136\u001b[0m     \u001b[38;5;28;01mreturn\u001b[39;00m \u001b[38;5;28mself\u001b[39m\u001b[38;5;241m.\u001b[39mrequest_encode_url(\n\u001b[0;32m    137\u001b[0m         method,\n\u001b[0;32m    138\u001b[0m         url,\n\u001b[1;32m   (...)\u001b[0m\n\u001b[0;32m    141\u001b[0m         \u001b[38;5;241m*\u001b[39m\u001b[38;5;241m*\u001b[39murlopen_kw,\n\u001b[0;32m    142\u001b[0m     )\n\u001b[0;32m    143\u001b[0m \u001b[38;5;28;01melse\u001b[39;00m:\n\u001b[1;32m--> 144\u001b[0m     \u001b[38;5;28;01mreturn\u001b[39;00m \u001b[38;5;28;43mself\u001b[39;49m\u001b[38;5;241;43m.\u001b[39;49m\u001b[43mrequest_encode_body\u001b[49m\u001b[43m(\u001b[49m\n\u001b[0;32m    145\u001b[0m \u001b[43m        \u001b[49m\u001b[43mmethod\u001b[49m\u001b[43m,\u001b[49m\u001b[43m \u001b[49m\u001b[43murl\u001b[49m\u001b[43m,\u001b[49m\u001b[43m \u001b[49m\u001b[43mfields\u001b[49m\u001b[38;5;241;43m=\u001b[39;49m\u001b[43mfields\u001b[49m\u001b[43m,\u001b[49m\u001b[43m \u001b[49m\u001b[43mheaders\u001b[49m\u001b[38;5;241;43m=\u001b[39;49m\u001b[43mheaders\u001b[49m\u001b[43m,\u001b[49m\u001b[43m \u001b[49m\u001b[38;5;241;43m*\u001b[39;49m\u001b[38;5;241;43m*\u001b[39;49m\u001b[43murlopen_kw\u001b[49m\n\u001b[0;32m    146\u001b[0m \u001b[43m    \u001b[49m\u001b[43m)\u001b[49m\n",
      "File \u001b[1;32mc:\\atptour-parser\\.venv\\Lib\\site-packages\\urllib3\\_request_methods.py:279\u001b[0m, in \u001b[0;36mRequestMethods.request_encode_body\u001b[1;34m(self, method, url, fields, headers, encode_multipart, multipart_boundary, **urlopen_kw)\u001b[0m\n\u001b[0;32m    275\u001b[0m     extra_kw[\u001b[38;5;124m\"\u001b[39m\u001b[38;5;124mheaders\u001b[39m\u001b[38;5;124m\"\u001b[39m]\u001b[38;5;241m.\u001b[39msetdefault(\u001b[38;5;124m\"\u001b[39m\u001b[38;5;124mContent-Type\u001b[39m\u001b[38;5;124m\"\u001b[39m, content_type)\n\u001b[0;32m    277\u001b[0m extra_kw\u001b[38;5;241m.\u001b[39mupdate(urlopen_kw)\n\u001b[1;32m--> 279\u001b[0m \u001b[38;5;28;01mreturn\u001b[39;00m \u001b[38;5;28;43mself\u001b[39;49m\u001b[38;5;241;43m.\u001b[39;49m\u001b[43murlopen\u001b[49m\u001b[43m(\u001b[49m\u001b[43mmethod\u001b[49m\u001b[43m,\u001b[49m\u001b[43m \u001b[49m\u001b[43murl\u001b[49m\u001b[43m,\u001b[49m\u001b[43m \u001b[49m\u001b[38;5;241;43m*\u001b[39;49m\u001b[38;5;241;43m*\u001b[39;49m\u001b[43mextra_kw\u001b[49m\u001b[43m)\u001b[49m\n",
      "File \u001b[1;32mc:\\atptour-parser\\.venv\\Lib\\site-packages\\urllib3\\poolmanager.py:443\u001b[0m, in \u001b[0;36mPoolManager.urlopen\u001b[1;34m(self, method, url, redirect, **kw)\u001b[0m\n\u001b[0;32m    441\u001b[0m     response \u001b[38;5;241m=\u001b[39m conn\u001b[38;5;241m.\u001b[39murlopen(method, url, \u001b[38;5;241m*\u001b[39m\u001b[38;5;241m*\u001b[39mkw)\n\u001b[0;32m    442\u001b[0m \u001b[38;5;28;01melse\u001b[39;00m:\n\u001b[1;32m--> 443\u001b[0m     response \u001b[38;5;241m=\u001b[39m \u001b[43mconn\u001b[49m\u001b[38;5;241;43m.\u001b[39;49m\u001b[43murlopen\u001b[49m\u001b[43m(\u001b[49m\u001b[43mmethod\u001b[49m\u001b[43m,\u001b[49m\u001b[43m \u001b[49m\u001b[43mu\u001b[49m\u001b[38;5;241;43m.\u001b[39;49m\u001b[43mrequest_uri\u001b[49m\u001b[43m,\u001b[49m\u001b[43m \u001b[49m\u001b[38;5;241;43m*\u001b[39;49m\u001b[38;5;241;43m*\u001b[39;49m\u001b[43mkw\u001b[49m\u001b[43m)\u001b[49m\n\u001b[0;32m    445\u001b[0m redirect_location \u001b[38;5;241m=\u001b[39m redirect \u001b[38;5;129;01mand\u001b[39;00m response\u001b[38;5;241m.\u001b[39mget_redirect_location()\n\u001b[0;32m    446\u001b[0m \u001b[38;5;28;01mif\u001b[39;00m \u001b[38;5;129;01mnot\u001b[39;00m redirect_location:\n",
      "File \u001b[1;32mc:\\atptour-parser\\.venv\\Lib\\site-packages\\urllib3\\connectionpool.py:789\u001b[0m, in \u001b[0;36mHTTPConnectionPool.urlopen\u001b[1;34m(self, method, url, body, headers, retries, redirect, assert_same_host, timeout, pool_timeout, release_conn, chunked, body_pos, preload_content, decode_content, **response_kw)\u001b[0m\n\u001b[0;32m    786\u001b[0m response_conn \u001b[38;5;241m=\u001b[39m conn \u001b[38;5;28;01mif\u001b[39;00m \u001b[38;5;129;01mnot\u001b[39;00m release_conn \u001b[38;5;28;01melse\u001b[39;00m \u001b[38;5;28;01mNone\u001b[39;00m\n\u001b[0;32m    788\u001b[0m \u001b[38;5;66;03m# Make the request on the HTTPConnection object\u001b[39;00m\n\u001b[1;32m--> 789\u001b[0m response \u001b[38;5;241m=\u001b[39m \u001b[38;5;28;43mself\u001b[39;49m\u001b[38;5;241;43m.\u001b[39;49m\u001b[43m_make_request\u001b[49m\u001b[43m(\u001b[49m\n\u001b[0;32m    790\u001b[0m \u001b[43m    \u001b[49m\u001b[43mconn\u001b[49m\u001b[43m,\u001b[49m\n\u001b[0;32m    791\u001b[0m \u001b[43m    \u001b[49m\u001b[43mmethod\u001b[49m\u001b[43m,\u001b[49m\n\u001b[0;32m    792\u001b[0m \u001b[43m    \u001b[49m\u001b[43murl\u001b[49m\u001b[43m,\u001b[49m\n\u001b[0;32m    793\u001b[0m \u001b[43m    \u001b[49m\u001b[43mtimeout\u001b[49m\u001b[38;5;241;43m=\u001b[39;49m\u001b[43mtimeout_obj\u001b[49m\u001b[43m,\u001b[49m\n\u001b[0;32m    794\u001b[0m \u001b[43m    \u001b[49m\u001b[43mbody\u001b[49m\u001b[38;5;241;43m=\u001b[39;49m\u001b[43mbody\u001b[49m\u001b[43m,\u001b[49m\n\u001b[0;32m    795\u001b[0m \u001b[43m    \u001b[49m\u001b[43mheaders\u001b[49m\u001b[38;5;241;43m=\u001b[39;49m\u001b[43mheaders\u001b[49m\u001b[43m,\u001b[49m\n\u001b[0;32m    796\u001b[0m \u001b[43m    \u001b[49m\u001b[43mchunked\u001b[49m\u001b[38;5;241;43m=\u001b[39;49m\u001b[43mchunked\u001b[49m\u001b[43m,\u001b[49m\n\u001b[0;32m    797\u001b[0m \u001b[43m    \u001b[49m\u001b[43mretries\u001b[49m\u001b[38;5;241;43m=\u001b[39;49m\u001b[43mretries\u001b[49m\u001b[43m,\u001b[49m\n\u001b[0;32m    798\u001b[0m \u001b[43m    \u001b[49m\u001b[43mresponse_conn\u001b[49m\u001b[38;5;241;43m=\u001b[39;49m\u001b[43mresponse_conn\u001b[49m\u001b[43m,\u001b[49m\n\u001b[0;32m    799\u001b[0m \u001b[43m    \u001b[49m\u001b[43mpreload_content\u001b[49m\u001b[38;5;241;43m=\u001b[39;49m\u001b[43mpreload_content\u001b[49m\u001b[43m,\u001b[49m\n\u001b[0;32m    800\u001b[0m \u001b[43m    \u001b[49m\u001b[43mdecode_content\u001b[49m\u001b[38;5;241;43m=\u001b[39;49m\u001b[43mdecode_content\u001b[49m\u001b[43m,\u001b[49m\n\u001b[0;32m    801\u001b[0m \u001b[43m    \u001b[49m\u001b[38;5;241;43m*\u001b[39;49m\u001b[38;5;241;43m*\u001b[39;49m\u001b[43mresponse_kw\u001b[49m\u001b[43m,\u001b[49m\n\u001b[0;32m    802\u001b[0m \u001b[43m\u001b[49m\u001b[43m)\u001b[49m\n\u001b[0;32m    804\u001b[0m \u001b[38;5;66;03m# Everything went great!\u001b[39;00m\n\u001b[0;32m    805\u001b[0m clean_exit \u001b[38;5;241m=\u001b[39m \u001b[38;5;28;01mTrue\u001b[39;00m\n",
      "File \u001b[1;32mc:\\atptour-parser\\.venv\\Lib\\site-packages\\urllib3\\connectionpool.py:536\u001b[0m, in \u001b[0;36mHTTPConnectionPool._make_request\u001b[1;34m(self, conn, method, url, body, headers, retries, timeout, chunked, response_conn, preload_content, decode_content, enforce_content_length)\u001b[0m\n\u001b[0;32m    534\u001b[0m \u001b[38;5;66;03m# Receive the response from the server\u001b[39;00m\n\u001b[0;32m    535\u001b[0m \u001b[38;5;28;01mtry\u001b[39;00m:\n\u001b[1;32m--> 536\u001b[0m     response \u001b[38;5;241m=\u001b[39m \u001b[43mconn\u001b[49m\u001b[38;5;241;43m.\u001b[39;49m\u001b[43mgetresponse\u001b[49m\u001b[43m(\u001b[49m\u001b[43m)\u001b[49m\n\u001b[0;32m    537\u001b[0m \u001b[38;5;28;01mexcept\u001b[39;00m (BaseSSLError, \u001b[38;5;167;01mOSError\u001b[39;00m) \u001b[38;5;28;01mas\u001b[39;00m e:\n\u001b[0;32m    538\u001b[0m     \u001b[38;5;28mself\u001b[39m\u001b[38;5;241m.\u001b[39m_raise_timeout(err\u001b[38;5;241m=\u001b[39me, url\u001b[38;5;241m=\u001b[39murl, timeout_value\u001b[38;5;241m=\u001b[39mread_timeout)\n",
      "File \u001b[1;32mc:\\atptour-parser\\.venv\\Lib\\site-packages\\urllib3\\connection.py:464\u001b[0m, in \u001b[0;36mHTTPConnection.getresponse\u001b[1;34m(self)\u001b[0m\n\u001b[0;32m    461\u001b[0m \u001b[38;5;28;01mfrom\u001b[39;00m \u001b[38;5;21;01m.\u001b[39;00m\u001b[38;5;21;01mresponse\u001b[39;00m \u001b[38;5;28;01mimport\u001b[39;00m HTTPResponse\n\u001b[0;32m    463\u001b[0m \u001b[38;5;66;03m# Get the response from http.client.HTTPConnection\u001b[39;00m\n\u001b[1;32m--> 464\u001b[0m httplib_response \u001b[38;5;241m=\u001b[39m \u001b[38;5;28;43msuper\u001b[39;49m\u001b[43m(\u001b[49m\u001b[43m)\u001b[49m\u001b[38;5;241;43m.\u001b[39;49m\u001b[43mgetresponse\u001b[49m\u001b[43m(\u001b[49m\u001b[43m)\u001b[49m\n\u001b[0;32m    466\u001b[0m \u001b[38;5;28;01mtry\u001b[39;00m:\n\u001b[0;32m    467\u001b[0m     assert_header_parsing(httplib_response\u001b[38;5;241m.\u001b[39mmsg)\n",
      "File \u001b[1;32m~\\AppData\\Local\\Programs\\Python\\Python312\\Lib\\http\\client.py:1428\u001b[0m, in \u001b[0;36mHTTPConnection.getresponse\u001b[1;34m(self)\u001b[0m\n\u001b[0;32m   1426\u001b[0m \u001b[38;5;28;01mtry\u001b[39;00m:\n\u001b[0;32m   1427\u001b[0m     \u001b[38;5;28;01mtry\u001b[39;00m:\n\u001b[1;32m-> 1428\u001b[0m         \u001b[43mresponse\u001b[49m\u001b[38;5;241;43m.\u001b[39;49m\u001b[43mbegin\u001b[49m\u001b[43m(\u001b[49m\u001b[43m)\u001b[49m\n\u001b[0;32m   1429\u001b[0m     \u001b[38;5;28;01mexcept\u001b[39;00m \u001b[38;5;167;01mConnectionError\u001b[39;00m:\n\u001b[0;32m   1430\u001b[0m         \u001b[38;5;28mself\u001b[39m\u001b[38;5;241m.\u001b[39mclose()\n",
      "File \u001b[1;32m~\\AppData\\Local\\Programs\\Python\\Python312\\Lib\\http\\client.py:331\u001b[0m, in \u001b[0;36mHTTPResponse.begin\u001b[1;34m(self)\u001b[0m\n\u001b[0;32m    329\u001b[0m \u001b[38;5;66;03m# read until we get a non-100 response\u001b[39;00m\n\u001b[0;32m    330\u001b[0m \u001b[38;5;28;01mwhile\u001b[39;00m \u001b[38;5;28;01mTrue\u001b[39;00m:\n\u001b[1;32m--> 331\u001b[0m     version, status, reason \u001b[38;5;241m=\u001b[39m \u001b[38;5;28;43mself\u001b[39;49m\u001b[38;5;241;43m.\u001b[39;49m\u001b[43m_read_status\u001b[49m\u001b[43m(\u001b[49m\u001b[43m)\u001b[49m\n\u001b[0;32m    332\u001b[0m     \u001b[38;5;28;01mif\u001b[39;00m status \u001b[38;5;241m!=\u001b[39m CONTINUE:\n\u001b[0;32m    333\u001b[0m         \u001b[38;5;28;01mbreak\u001b[39;00m\n",
      "File \u001b[1;32m~\\AppData\\Local\\Programs\\Python\\Python312\\Lib\\http\\client.py:292\u001b[0m, in \u001b[0;36mHTTPResponse._read_status\u001b[1;34m(self)\u001b[0m\n\u001b[0;32m    291\u001b[0m \u001b[38;5;28;01mdef\u001b[39;00m \u001b[38;5;21m_read_status\u001b[39m(\u001b[38;5;28mself\u001b[39m):\n\u001b[1;32m--> 292\u001b[0m     line \u001b[38;5;241m=\u001b[39m \u001b[38;5;28mstr\u001b[39m(\u001b[38;5;28;43mself\u001b[39;49m\u001b[38;5;241;43m.\u001b[39;49m\u001b[43mfp\u001b[49m\u001b[38;5;241;43m.\u001b[39;49m\u001b[43mreadline\u001b[49m\u001b[43m(\u001b[49m\u001b[43m_MAXLINE\u001b[49m\u001b[43m \u001b[49m\u001b[38;5;241;43m+\u001b[39;49m\u001b[43m \u001b[49m\u001b[38;5;241;43m1\u001b[39;49m\u001b[43m)\u001b[49m, \u001b[38;5;124m\"\u001b[39m\u001b[38;5;124miso-8859-1\u001b[39m\u001b[38;5;124m\"\u001b[39m)\n\u001b[0;32m    293\u001b[0m     \u001b[38;5;28;01mif\u001b[39;00m \u001b[38;5;28mlen\u001b[39m(line) \u001b[38;5;241m>\u001b[39m _MAXLINE:\n\u001b[0;32m    294\u001b[0m         \u001b[38;5;28;01mraise\u001b[39;00m LineTooLong(\u001b[38;5;124m\"\u001b[39m\u001b[38;5;124mstatus line\u001b[39m\u001b[38;5;124m\"\u001b[39m)\n",
      "File \u001b[1;32m~\\AppData\\Local\\Programs\\Python\\Python312\\Lib\\socket.py:720\u001b[0m, in \u001b[0;36mSocketIO.readinto\u001b[1;34m(self, b)\u001b[0m\n\u001b[0;32m    718\u001b[0m \u001b[38;5;28;01mwhile\u001b[39;00m \u001b[38;5;28;01mTrue\u001b[39;00m:\n\u001b[0;32m    719\u001b[0m     \u001b[38;5;28;01mtry\u001b[39;00m:\n\u001b[1;32m--> 720\u001b[0m         \u001b[38;5;28;01mreturn\u001b[39;00m \u001b[38;5;28;43mself\u001b[39;49m\u001b[38;5;241;43m.\u001b[39;49m\u001b[43m_sock\u001b[49m\u001b[38;5;241;43m.\u001b[39;49m\u001b[43mrecv_into\u001b[49m\u001b[43m(\u001b[49m\u001b[43mb\u001b[49m\u001b[43m)\u001b[49m\n\u001b[0;32m    721\u001b[0m     \u001b[38;5;28;01mexcept\u001b[39;00m timeout:\n\u001b[0;32m    722\u001b[0m         \u001b[38;5;28mself\u001b[39m\u001b[38;5;241m.\u001b[39m_timeout_occurred \u001b[38;5;241m=\u001b[39m \u001b[38;5;28;01mTrue\u001b[39;00m\n",
      "\u001b[1;31mKeyboardInterrupt\u001b[0m: "
     ]
    }
   ],
   "source": [
    "parse_court_vision()"
   ]
  },
  {
   "cell_type": "code",
   "execution_count": null,
   "metadata": {},
   "outputs": [],
   "source": [
    "current_set = 1"
   ]
  },
  {
   "cell_type": "code",
   "execution_count": null,
   "metadata": {},
   "outputs": [],
   "source": [
    "mathes_option = driver.find_element(By.CLASS_NAME, \"SetCustomDropdown\")\n",
    "mathes_option.click()\n",
    "time.sleep(2)\n",
    "mathes_option.find_elements(\n",
    "    By.XPATH,\n",
    "    \"./div[@id='RGDropDown']/div[@class='dropdown-container']/div[@class='sublink-container']/*\",\n",
    ")[current_set].click()"
   ]
  },
  {
   "cell_type": "code",
   "execution_count": null,
   "metadata": {},
   "outputs": [],
   "source": [
    "driver.get(url)\n",
    "\n",
    "driver.maximize_window()\n",
    "time.sleep(1)\n",
    "driver.fullscreen_window()\n",
    "time.sleep(3)\n"
   ]
  },
  {
   "cell_type": "code",
   "execution_count": null,
   "metadata": {},
   "outputs": [],
   "source": [
    "court_ball = court_balls()[2]"
   ]
  },
  {
   "cell_type": "code",
   "execution_count": null,
   "metadata": {},
   "outputs": [],
   "source": [
    "court_ball.click()"
   ]
  },
  {
   "cell_type": "code",
   "execution_count": null,
   "metadata": {},
   "outputs": [],
   "source": [
    "get_selected_group_elements()"
   ]
  },
  {
   "cell_type": "code",
   "execution_count": null,
   "metadata": {},
   "outputs": [],
   "source": [
    "def click_on_court_ball():\n",
    "    court_ball.click()\n",
    "    try:\n",
    "        time.sleep(2)\n",
    "        get_selected_group_elements().find_element(By.XPATH, r'./*')\n",
    "        court_ball.click()\n",
    "    except (NoSuchElementException, ElementClickInterceptedException):\n",
    "        court_ball.click()"
   ]
  },
  {
   "cell_type": "code",
   "execution_count": null,
   "metadata": {},
   "outputs": [],
   "source": [
    "get_selected_group_elements().find_element(By.XPATH, r'./*')\n"
   ]
  },
  {
   "cell_type": "code",
   "execution_count": null,
   "metadata": {},
   "outputs": [],
   "source": [
    "get_all_current_shots()"
   ]
  },
  {
   "cell_type": "code",
   "execution_count": null,
   "metadata": {},
   "outputs": [],
   "source": [
    "parse_court_vision()"
   ]
  },
  {
   "cell_type": "code",
   "execution_count": null,
   "metadata": {},
   "outputs": [],
   "source": [
    "def options_stable_iterator():\n",
    "    start_index = -1\n",
    "    while True:\n",
    "        start_index += 1\n",
    "        stroke_dropdown = driver.find_element(\n",
    "            By.XPATH, \"//div[contains(@class, 'DropdownFixWidth')]\"\n",
    "        )\n",
    "        \n",
    "        options_fact = lambda: stroke_dropdown.find_elements(\n",
    "            By.XPATH,\n",
    "            \"./div[@id='RGDropDown']/div[@class='dropdown-container']/div[@class='sublink-container']/*\",)\n",
    "        options = options_fact()\n",
    "        if len(options) == 0:\n",
    "            stroke_dropdown.click()\n",
    "            time.sleep(1)\n",
    "            options = options_fact()\n",
    "        \n",
    "        \n",
    "        \n",
    "        if start_index < len(options):\n",
    "            yield options[start_index]\n",
    "        else:\n",
    "            break\n"
   ]
  },
  {
   "cell_type": "code",
   "execution_count": null,
   "metadata": {},
   "outputs": [],
   "source": [
    "stroke_dropdown = driver.find_element(\n",
    "            By.XPATH, \"//div[contains(@class, 'DropdownFixWidth')]\"\n",
    "        )\n",
    "stroke_dropdown.click()\n",
    "stroke_dropdown.find_elements(\n",
    "            By.XPATH,\n",
    "            \"./div[@id='RGDropDown']/div[@class='dropdown-container']/div[@class='sublink-container']/*\",)\n",
    "        "
   ]
  },
  {
   "cell_type": "code",
   "execution_count": null,
   "metadata": {},
   "outputs": [],
   "source": [
    "stroke_dropdown = driver.find_element(\n",
    "    By.XPATH, \"//div[contains(@class, 'DropdownFixWidth')]\"\n",
    ")\n",
    "stroke_dropdown.click()"
   ]
  },
  {
   "cell_type": "code",
   "execution_count": null,
   "metadata": {},
   "outputs": [],
   "source": [
    "options = stroke_dropdown.find_elements(\n",
    "            By.XPATH,\n",
    "            \"./div[@id='RGDropDown']/div[@class='dropdown-container']/div[@class='sublink-container']/*\",)"
   ]
  },
  {
   "cell_type": "code",
   "execution_count": null,
   "metadata": {},
   "outputs": [],
   "source": [
    "[el.text for el in ]"
   ]
  },
  {
   "cell_type": "code",
   "execution_count": null,
   "metadata": {},
   "outputs": [],
   "source": [
    "a = options_stable_iterator()"
   ]
  },
  {
   "cell_type": "code",
   "execution_count": null,
   "metadata": {},
   "outputs": [],
   "source": [
    "el = a.__next__()\n",
    "print(el.text)"
   ]
  },
  {
   "cell_type": "code",
   "execution_count": null,
   "metadata": {},
   "outputs": [],
   "source": [
    "driver.find_element(By.XPATH, \"//button[text()='2D']\").click()"
   ]
  },
  {
   "cell_type": "code",
   "execution_count": null,
   "metadata": {},
   "outputs": [],
   "source": [
    "stroke_dropdown = driver.find_element(By.XPATH, \"//div[contains(@class, 'DropdownFixWidth')]\")\n",
    "stroke_dropdown.click()"
   ]
  },
  {
   "cell_type": "code",
   "execution_count": null,
   "metadata": {},
   "outputs": [],
   "source": [
    "options = stroke_dropdown.find_elements(By.XPATH, \"./div[@id='RGDropDown']/div[@class='dropdown-container']/div[@class='sublink-container']/*\")"
   ]
  },
  {
   "cell_type": "code",
   "execution_count": null,
   "metadata": {},
   "outputs": [],
   "source": [
    "import re"
   ]
  },
  {
   "cell_type": "code",
   "execution_count": null,
   "metadata": {},
   "outputs": [],
   "source": [
    "for option in options:\n",
    "    print (format_description(option.text))\n",
    "    \n",
    "    \n",
    "    option.click()\n",
    "    \n",
    "    get_all"
   ]
  },
  {
   "cell_type": "code",
   "execution_count": null,
   "metadata": {},
   "outputs": [],
   "source": [
    "def to_camel_case(_s: str, /) -> str:\n",
    "    # Split the string into words\n",
    "    words = _s.split()\n",
    "    \n",
    "    # Convert the first word to lowercase and keep the rest of the words capitalized\n",
    "    camel_case = words[0].lower() + ''.join(word.capitalize() for word in words[1:])\n",
    "    \n",
    "    return camel_case\n",
    "\n",
    "def sibling_of_div_text(s: str, /):\n",
    "    s = s.replace('*', '')\n",
    "    return driver.find_element(By.XPATH, rf\"//div[contains(normalize-space(text()), '{s}')]/following-sibling::div[@class]\")\n",
    "\n",
    "def close_pop_ups():\n",
    "    active_element = driver.switch_to.active_element\n",
    "    active_element.send_keys(Keys.ESCAPE)"
   ]
  },
  {
   "cell_type": "code",
   "execution_count": null,
   "metadata": {},
   "outputs": [],
   "source": [
    "class Dictable:\n",
    "    @classmethod\n",
    "    def to_dict(cls):\n",
    "        return {k: v for k, v in cls.__dict__.items() if not k.startswith('_')}\n",
    "    \n",
    "class Court(Dictable):\n",
    "    heightM: float = 8.23\n",
    "    widthM: float = 23.77\n",
    "    \n",
    "    \n",
    "CourtType = type[Court] | Court"
   ]
  },
  {
   "cell_type": "code",
   "execution_count": null,
   "metadata": {},
   "outputs": [],
   "source": [
    "from typing import NotRequired  \n",
    "from typing import Literal\n",
    "\n",
    "\n",
    "class CourtVision(TypedDict):\n",
    "    playerSets: list[PlayerSet]\n",
    "\n",
    "\n",
    "class PlayerSet(TypedDict):\n",
    "    player: str\n",
    "    playerIndex: Literal[1, 2]\n",
    "    set: Literal[1, 2]\n",
    "    shotTypes: list[ShotType]\n",
    "    \n",
    "class ShotType(TypedDict):\n",
    "    label: str\n",
    "    shots: list[Shot]\n",
    "    \n",
    "  \n",
    "class Shot(TypedDict):\n",
    "    shotDescription: str\n",
    "    type: str\n",
    "    player: str\n",
    "\n",
    "    balls: list[Ball]\n",
    "    \n",
    "    currentScore: CurrentScore\n",
    "    attributes: dict[str, str]\n",
    "\n",
    "\n",
    "class Ball(TypedDict):\n",
    "    type: str\n",
    "    x: float\n",
    "    y: float\n",
    "    rotate: NotRequired[float]\n",
    "    \n",
    "\n",
    "class CurrentScore(TypedDict):\n",
    "    player1: Score\n",
    "    player2: Score\n",
    "    \n",
    "    \n",
    "class Score(TypedDict):\n",
    "    game_score: int\n",
    "    set_score_1: int\n",
    "    set_score_2: int | None"
   ]
  },
  {
   "cell_type": "code",
   "execution_count": null,
   "metadata": {},
   "outputs": [],
   "source": [
    "player1, player2 = driver.find_elements(By.CLASS_NAME, \"playerName\")[:2]"
   ]
  },
  {
   "cell_type": "code",
   "execution_count": null,
   "metadata": {},
   "outputs": [],
   "source": [
    "scroll_to_the_header()\n",
    "player1.click()"
   ]
  },
  {
   "cell_type": "code",
   "execution_count": null,
   "metadata": {},
   "outputs": [],
   "source": [
    "player1.text"
   ]
  },
  {
   "cell_type": "code",
   "execution_count": null,
   "metadata": {},
   "outputs": [],
   "source": [
    "\n",
    "import re\n",
    "\n",
    "def to_real_pos(x: float, y: float, width: float, height: float, court: CourtType):\n",
    "    x_real = (x / width + 0.5) * court.widthM\n",
    "    y_real = (0.5 - y / height) * court.heightM \n",
    "    \n",
    "    return x_real, y_real\n",
    "\n",
    "def extract_first_number(string: str, /):\n",
    "    numbers = re.findall(r'-?\\d+\\.\\d+|-?\\d+', string)\n",
    "    # Convert the first found number to a float and return it\n",
    "    if numbers:\n",
    "        return float(numbers[0])\n",
    "    return None\n",
    "\n",
    "\n",
    "def get_selected_group_elements():\n",
    "    return driver.find_element(By.ID, \"plottedBallsSelected\")\n",
    "\n",
    "def get_balls(passed_balls: set[str], court: CourtType) -> list[Ball]:\n",
    "    height, width = driver.find_element(By.XPATH, '//*[@id=\"CourtDoublesAlley\"]').size.values()\n",
    "    selected = get_selected_group_elements()\n",
    "    \n",
    "    selected_balls = selected.find_elements(By.XPATH, r\".//*[local-name()='g']\")\n",
    "    balls: list[Ball] = []\n",
    "    for ballEl in selected_balls:\n",
    "        passed_balls.add(ballEl.get_attribute('class').strip())\n",
    "        \n",
    "        \n",
    "        components = ballEl.find_elements(By.XPATH, r'./*')\n",
    "        angle = None\n",
    "        while len(components) > 1:\n",
    "            for component in components:\n",
    "                if component.get_attribute('transform') is not None:\n",
    "                    angle = extract_first_number(component.get_attribute('transform'))\n",
    "                    components.remove(component)\n",
    "        if len(components) == 1:\n",
    "            component = components[0]\n",
    "            xlinkhref = component.get_attribute('xlink:href')\n",
    "            typ = xlinkhref.replace('#', '').replace('Selected', '')\n",
    "            \n",
    "            x, y = component.get_attribute('x'), component.get_attribute('y')\n",
    "            x, y = to_real_pos(float(x), float(y), width, height, court)\n",
    "            balls.append(\n",
    "                {'x': x,\n",
    "                'y': y,\n",
    "                'type': typ}\n",
    "                )\n",
    "            \n",
    "            if angle:\n",
    "                balls[-1]['rotate'] = angle\n",
    "        \n",
    "    return balls"
   ]
  },
  {
   "cell_type": "code",
   "execution_count": null,
   "metadata": {},
   "outputs": [],
   "source": [
    "selected = driver.find_element(By.ID, \"plottedBallsSelected\")"
   ]
  },
  {
   "cell_type": "code",
   "execution_count": null,
   "metadata": {},
   "outputs": [],
   "source": [
    "selected_balls = selected.find_elements(By.XPATH, r\".//*[local-name()='g']/*\")\n",
    "[el.get_attribute('xlink:href') for el in selected_balls]\n"
   ]
  },
  {
   "cell_type": "code",
   "execution_count": null,
   "metadata": {},
   "outputs": [],
   "source": [
    "selected_balls = selected.find_elements(By.XPATH, r\".//*[local-name()='g']\")"
   ]
  },
  {
   "cell_type": "code",
   "execution_count": null,
   "metadata": {},
   "outputs": [],
   "source": [
    "ballEl = selected_balls[0]"
   ]
  },
  {
   "cell_type": "code",
   "execution_count": null,
   "metadata": {},
   "outputs": [],
   "source": [
    "component = ballEl.find_elements(By.XPATH, r'./*')[0]"
   ]
  },
  {
   "cell_type": "code",
   "execution_count": null,
   "metadata": {},
   "outputs": [],
   "source": [
    "component.get_attribute('x')"
   ]
  },
  {
   "cell_type": "code",
   "execution_count": null,
   "metadata": {},
   "outputs": [],
   "source": [
    "extract_first_number(component.get_attribute('transform'))"
   ]
  },
  {
   "cell_type": "code",
   "execution_count": null,
   "metadata": {},
   "outputs": [],
   "source": [
    "height, width = driver.find_element(By.XPATH, '//*[@id=\"CourtDoublesAlley\"]').size.values()"
   ]
  },
  {
   "cell_type": "code",
   "execution_count": null,
   "metadata": {},
   "outputs": [],
   "source": [
    "height/ width"
   ]
  },
  {
   "cell_type": "code",
   "execution_count": null,
   "metadata": {},
   "outputs": [],
   "source": [
    "Court.heightM/ Court.widthM"
   ]
  },
  {
   "cell_type": "code",
   "execution_count": null,
   "metadata": {},
   "outputs": [],
   "source": [
    "to_real_pos(0, 0, width, height, Court)"
   ]
  },
  {
   "cell_type": "code",
   "execution_count": null,
   "metadata": {},
   "outputs": [],
   "source": [
    "width, height"
   ]
  },
  {
   "cell_type": "code",
   "execution_count": null,
   "metadata": {},
   "outputs": [],
   "source": [
    "to_real_pos(-460, 96.68677287884401, width, height, Court)"
   ]
  },
  {
   "cell_type": "code",
   "execution_count": null,
   "metadata": {},
   "outputs": [],
   "source": [
    "def format_description(input_string):\n",
    "    # Remove brackets and numbers inside\n",
    "    formatted_string = re.sub(r'\\s*\\([^)]*\\)', '', input_string)\n",
    "    # Capitalize each word\n",
    "    capitalized_string = formatted_string.title()\n",
    "    return capitalized_string.strip()\n"
   ]
  },
  {
   "cell_type": "code",
   "execution_count": null,
   "metadata": {},
   "outputs": [],
   "source": [
    "def get_curret_score_from_pop_up():\n",
    "    game_scores = driver.find_element(By.CLASS_NAME, 'game-scores').text.split('\\n')\n",
    "    set_score_1 = tuple(map(int, driver.find_element(By.CLASS_NAME, 'set-scores-1').text.split('\\n')))\n",
    "\n",
    "    try:\n",
    "        set_score_2 = tuple(map(int, driver.find_element(By.CLASS_NAME, 'set-scores-2').text.split('\\n')))\n",
    "    except:\n",
    "        set_score_2 = None, None\n",
    "        \n",
    "    currentScore: CurrentScore =  {\n",
    "        'player1': {\n",
    "            'game_score': game_scores[0],\n",
    "            'set_score_1':set_score_1[0],\n",
    "            'set_score_2':set_score_2[0]\n",
    "        },\n",
    "        'player2': {\n",
    "            'game_score': game_scores[1],\n",
    "            'set_score_1':set_score_1[1],\n",
    "            'set_score_2':set_score_2[1]\n",
    "        }\n",
    "    }\n",
    "\n",
    "    return currentScore"
   ]
  },
  {
   "cell_type": "code",
   "execution_count": null,
   "metadata": {},
   "outputs": [],
   "source": [
    "def get_selected_shot(passed_balls: set[str], court: CourtType) -> Shot:\n",
    "    \n",
    "    try:\n",
    "        shot_description = format_description(driver.find_element(By.CLASS_NAME, 'shot-description').text)\n",
    "        player, typ = shot_description.lower().replace(' ','').split(\"'s\")\n",
    "    except:\n",
    "        shot_description = \"\"\n",
    "        player = \"\"\n",
    "        typ = \"notavailable\"\n",
    "        \n",
    "    \n",
    "    shot_description, player, typ\n",
    "\n",
    "    shot: Shot =  {'shotDescription': shot_description, 'player': player, 'type': typ}\n",
    "    \n",
    "    # get all attributes\n",
    "    attributes = {}\n",
    "\n",
    "    elements = driver.find_elements(By.XPATH, \"//div[@class='header' and normalize-space(text())]\")\n",
    "    for element in elements:\n",
    "        key = to_camel_case(element.text)\n",
    "        value = sibling_of_div_text(element.text).text\n",
    "        \n",
    "        if value == 'NA':\n",
    "            \n",
    "            value = None\n",
    "        attributes[key] = value\n",
    "\n",
    "\n",
    "    shot['attributes'] = attributes\n",
    "    shot['currentScore'] = get_curret_score_from_pop_up()\n",
    "    shot['balls'] = get_balls(passed_balls, court)\n",
    "        \n",
    "    return shot\n",
    "    "
   ]
  },
  {
   "cell_type": "code",
   "execution_count": null,
   "metadata": {},
   "outputs": [],
   "source": [
    "{'label': 'second serve', 'shots': []}"
   ]
  },
  {
   "cell_type": "code",
   "execution_count": null,
   "metadata": {},
   "outputs": [],
   "source": [
    "def scroll_to_the_court():\n",
    "    scroll_to(driver.find_element(By.CLASS_NAME, 'filter-description-text'))\n",
    "    \n",
    "def scroll_to_the_header():\n",
    "    scroll_to(driver.find_element(By.ID, 'tabCourtVision'))\n",
    "    \n",
    "def scroll_to(el: WebElement):\n",
    "    driver.execute_script(\"arguments[0].scrollIntoView(true);\", el)"
   ]
  },
  {
   "cell_type": "code",
   "execution_count": null,
   "metadata": {},
   "outputs": [],
   "source": [
    "def get_all_current_shots(passed_balls: set[str] | None = None) -> list[Shot]:\n",
    "    current_shots: list[Shot] = []\n",
    "\n",
    "    court_balls = lambda : driver.find_elements(By.XPATH, \"//*[local-name()='g' and starts-with(@class, 'court-ball-')]\")\n",
    "        \n",
    "    passed_balls: set[str] = passed_balls or set()\n",
    "\n",
    "    for i in range(len(court_balls())):\n",
    "        court_ball = court_balls()[i]\n",
    "        \n",
    "        cls = court_ball.get_attribute('class').strip()\n",
    "        if cls in passed_balls:\n",
    "            continue\n",
    "        \n",
    "        \n",
    "        passed_balls.add(cls)\n",
    "        \n",
    "        \n",
    "        \n",
    "        scroll_to_the_court()\n",
    "        court_ball.click()\n",
    "        current_shots.append(get_selected_shot(passed_balls, Court))\n",
    "\n",
    "        time.sleep(1)\n",
    "\n",
    "        get_selected_group_elements().find_element(By.XPATH, r\".//*[local-name()='g']\").click()\n",
    "        \n",
    "        \n",
    "        \n",
    "        time.sleep(1)\n",
    "    print(passed_balls)\n",
    "    return current_shots\n",
    "    "
   ]
  },
  {
   "cell_type": "code",
   "execution_count": null,
   "metadata": {},
   "outputs": [],
   "source": [
    "court_balls = lambda : driver.find_elements(By.XPATH, \"//*[local-name()='g' and starts-with(@class, 'court-ball-')]\")\n",
    "el = court_balls()[5]      \n",
    "driver.execute_script(\"arguments[0].scrollIntoView(true);\", driver.find_element(By.CLASS_NAME, 'filter-description-text'))"
   ]
  },
  {
   "cell_type": "code",
   "execution_count": null,
   "metadata": {},
   "outputs": [],
   "source": [
    "el.click()"
   ]
  },
  {
   "cell_type": "code",
   "execution_count": null,
   "metadata": {},
   "outputs": [],
   "source": [
    "with open('data.json', 'w') as file:\n",
    "    json.dump(get_all_current_shots(),file,indent=4)\n"
   ]
  },
  {
   "cell_type": "code",
   "execution_count": null,
   "metadata": {},
   "outputs": [],
   "source": [
    "player1, player2 = (el.text for el in driver.find_elements(By.XPATH, r\"//div[@class='player-info']/div[@class='name']/a\"))\n",
    "player1, player2"
   ]
  },
  {
   "cell_type": "code",
   "execution_count": null,
   "metadata": {},
   "outputs": [],
   "source": [
    "scroll_to_the_court()"
   ]
  },
  {
   "cell_type": "code",
   "execution_count": null,
   "metadata": {},
   "outputs": [],
   "source": [
    "driver.find_element(By.XPATH, r'//*[@id=\"RGDropDown\"]/div[2]/div/div/div[1]')"
   ]
  },
  {
   "cell_type": "code",
   "execution_count": null,
   "metadata": {},
   "outputs": [],
   "source": [
    "driver.find_element(By.XPATH, r\"//div[contains(@class, 'SetCustomDropdown')]\").click()"
   ]
  },
  {
   "cell_type": "code",
   "execution_count": null,
   "metadata": {},
   "outputs": [],
   "source": [
    "mathes_option = driver.find_element(By.XPATH, r\"/html/body/div[3]/div/div[2]/div/div[4]/div/div/div[3]/div/div[5]/div[1]/div[2]/div[2]/div\")\n",
    "mathes_option.click()"
   ]
  },
  {
   "cell_type": "code",
   "execution_count": null,
   "metadata": {},
   "outputs": [],
   "source": [
    "mathes_option = driver.find_element(By.CLASS_NAME, 'SetCustomDropdown')\n",
    "mathes_option.click()"
   ]
  },
  {
   "cell_type": "code",
   "execution_count": null,
   "metadata": {},
   "outputs": [],
   "source": [
    "mathes_option.find_elements(\n",
    "            By.XPATH,\n",
    "            \"./div[@id='RGDropDown']/div[@class='dropdown-container']/div[@class='sublink-container']/*\",\n",
    "        )"
   ]
  },
  {
   "cell_type": "markdown",
   "metadata": {},
   "source": [
    "### Stroke Summary"
   ]
  },
  {
   "cell_type": "code",
   "execution_count": null,
   "metadata": {},
   "outputs": [],
   "source": [
    "from typing import Mapping\n",
    "\n",
    "\n",
    "class StrokeSummary(TypedDict):\n",
    "    strokes: list[Stroke]\n",
    "    \n",
    "class Stroke(TypedDict):\n",
    "    strokeLabel: str\n",
    "    player1: Hands\n",
    "    player2: Hands\n",
    "    \n",
    "\n",
    "class Hand(TypedDict):\n",
    "    backhand: int\n",
    "    forehand: int    \n",
    "\n",
    "class Hands(Mapping[str, Hand]):\n",
    "    winners: Hand\n",
    "    forcingShots: Hand\n",
    "    unforcedErrors: Hand\n",
    "    ralliesContinued: Hand\n",
    "\n",
    "\n",
    "\n"
   ]
  },
  {
   "cell_type": "code",
   "execution_count": null,
   "metadata": {},
   "outputs": [],
   "source": [
    "data: StrokeSummary = {'strokes': []}\n",
    "\n",
    "stats_wrapper = driver.find_element(By.CLASS_NAME, r\"stats-wrapper\")\n",
    "strokes = stats_wrapper.find_elements(By.XPATH, './*')\n",
    "len(strokes)"
   ]
  },
  {
   "cell_type": "code",
   "execution_count": null,
   "metadata": {},
   "outputs": [],
   "source": [
    "if 'expand all' in driver.find_element(By.CLASS_NAME, 'expand-all').text.lower():\n",
    "    driver.find_element(By.CLASS_NAME, 'expand-all').click()"
   ]
  },
  {
   "cell_type": "code",
   "execution_count": null,
   "metadata": {},
   "outputs": [],
   "source": [
    "handsLabes = [\n",
    "    \"winners\",\n",
    "    \"forcingShots\",\n",
    "    \"unforcedErrors\",\n",
    "    \"ralliesContinued\"\n",
    "]\n"
   ]
  },
  {
   "cell_type": "code",
   "execution_count": null,
   "metadata": {},
   "outputs": [],
   "source": [
    "for stroke in strokes:\n",
    "    strokeData: Stroke = {}\n",
    "    strokeData[\"strokeLabel\"] = stroke.find_element(By.XPATH, \".//div[@class='stroke-label-us']\").text\n",
    "    \n",
    "    \n",
    "    for player, i in (('player1', 1), ('player2', 3)):\n",
    "        handsData: Hands = {}\n",
    "\n",
    "        for hand, shot_label in zip(stroke.find_elements(By.XPATH, rf\"./div/div[1]/div[1]/div[2]/div/div[3]/div[{i}]/div/*\"), handsLabes):\n",
    "            backhand, forehand = map(int, ' '.join(el.text for el in hand.find_elements(By.XPATH, './span')).split())            \n",
    "            handsData[shot_label] = {\"backhand\": backhand, \"forehand\" : forehand}\n",
    "            \n",
    "\n",
    "        strokeData[player] = handsData\n",
    "    data['strokes'].append(strokeData)\n",
    "\n",
    "\n"
   ]
  },
  {
   "cell_type": "code",
   "execution_count": null,
   "metadata": {},
   "outputs": [],
   "source": [
    "from typing import Literal\n",
    "\n",
    "\n",
    "handsData: Hands = {}\n",
    "\n",
    "for hand, shot_label in zip(stroke.find_elements(By.XPATH, r\"./div/div[1]/div[1]/div[2]/div/div[3]/div[1]/div/*\"), handsLabes):\n",
    "    backhand, forehand = map(int, ' '.join(el.text for el in hand.find_elements(By.XPATH, './span')).split())\n",
    "    \n",
    "    print(f\"{backhand=} {forehand=}\", shot_label)\n",
    "    \n",
    "    handsData[shot_label] = {\"backhand\": backhand, \"forehand\" : forehand}\n",
    "    \n",
    "\n",
    "handsData"
   ]
  },
  {
   "cell_type": "code",
   "execution_count": null,
   "metadata": {},
   "outputs": [],
   "source": [
    "# labels = stroke.find_elements(By.XPATH, r\"./div/div[1]/div[1]/div[2]/div/div[3]/div[2]/*\")\n",
    "# labels = [_lbl.text for _lbl in labels]\n",
    "# labels"
   ]
  },
  {
   "cell_type": "code",
   "execution_count": null,
   "metadata": {},
   "outputs": [],
   "source": [
    "for hand in stroke.find_elements(By.XPATH, r\"./div/div[1]/div[1]/div[2]/div/div[3]/div[3]/div/*\"):\n",
    "    backhand, forehand = map(int, ' '.join(el.text for el in hand.find_elements(By.XPATH, './span')).split())\n",
    "    print(f\"{backhand=} {forehand=}\")"
   ]
  },
  {
   "cell_type": "code",
   "execution_count": null,
   "metadata": {},
   "outputs": [],
   "source": [
    "Stroke()['player1']['forcingShots']['forehand']"
   ]
  },
  {
   "cell_type": "markdown",
   "metadata": {},
   "source": [
    "### Rally Analysis"
   ]
  },
  {
   "cell_type": "code",
   "execution_count": null,
   "metadata": {},
   "outputs": [],
   "source": [
    "try:\n",
    "    driver.find_element(By.XPATH, r\"//button[text()='Expand All (X+E)']\").click()\n",
    "except NoSuchElementException:\n",
    "    pass"
   ]
  },
  {
   "cell_type": "code",
   "execution_count": null,
   "metadata": {},
   "outputs": [],
   "source": [
    "class RallyAnalysis(TypedDict):\n",
    "    shortRally: list[Shot]\n",
    "    mediumRally: list[Shot]\n",
    "    longRally: list[Shot]\n",
    "    \n",
    "class Shot(TypedDict):\n",
    "    i: int\n",
    "    label: str\n",
    "    player1: Point\n",
    "    player2: Point\n",
    "        \n",
    "class Point(TypedDict):\n",
    "    type: str\n",
    "    count: int"
   ]
  },
  {
   "cell_type": "code",
   "execution_count": null,
   "metadata": {},
   "outputs": [],
   "source": [
    "rallies = driver.find_element(By.CLASS_NAME, 'rallies')\n",
    "\n",
    "shortRally = driver.find_element(By.ID, \"shortRally\")\n",
    "mediumRally = driver.find_element(By.ID, \"mediumRally\")\n",
    "longRally = driver.find_element(By.ID, \"longRally\")\n",
    "\n",
    "rallies = [shortRally, mediumRally, longRally]\n",
    "ralliesLabels = ['shortRally', 'mediumRally', 'longRally']\n"
   ]
  },
  {
   "cell_type": "code",
   "execution_count": null,
   "metadata": {},
   "outputs": [],
   "source": [
    "data: RallyAnalysis = {}\n",
    "\n",
    "for rally, rally_label in zip(rallies, ralliesLabels):\n",
    "    shotTypes = rally.find_elements(By.XPATH, r\"./div/div[4]/div[2]/div[2]/*\")\n",
    "    data[rally_label] = []\n",
    "    \n",
    "    for i, shot in enumerate(shotTypes):\n",
    "        shotData: Shot = {}\n",
    "        \n",
    "        player1, shot_label, player2 = shot.find_elements(By.XPATH, './*')\n",
    "        \n",
    "        shotData['i'] = i\n",
    "        shotData['label'] = shot_label.find_element(By.XPATH, r\"./div\").text\n",
    "        \n",
    "        for player, playerLabel in ((player1, 'player1'), (player2, 'player2')):\n",
    "            shotData[playerLabel] = []    \n",
    "            \n",
    "            points = player.find_elements(By.XPATH,'./div')\n",
    "            for point in points:\n",
    "                count, type = point.find_element(By.XPATH, r'./div/div').text.split('\\n')\n",
    "                point: Point = {'count': int(count), 'type': type}\n",
    "                shotData[playerLabel].append(point)\n",
    "        \n",
    "        data[rally_label].append(shotData)\n",
    "with open('rally_analysis.json', mode='w') as file:\n",
    "    json.dump(data, file, indent=4)\n"
   ]
  },
  {
   "cell_type": "code",
   "execution_count": null,
   "metadata": {},
   "outputs": [],
   "source": [
    "shot = shotTypes[0]"
   ]
  },
  {
   "cell_type": "code",
   "execution_count": null,
   "metadata": {},
   "outputs": [],
   "source": []
  },
  {
   "cell_type": "code",
   "execution_count": null,
   "metadata": {},
   "outputs": [],
   "source": [
    "player1, shot_label, player2 = shot.find_elements(By.XPATH, './*')"
   ]
  },
  {
   "cell_type": "code",
   "execution_count": null,
   "metadata": {},
   "outputs": [],
   "source": [
    "pointsEl = player1.find_elements(By.XPATH,'./div')"
   ]
  },
  {
   "cell_type": "code",
   "execution_count": null,
   "metadata": {},
   "outputs": [],
   "source": [
    "for pointEl in pointsEl:\n",
    "    print(pointEl.find_element(By.XPATH, r'./div/div').text)\n",
    "    print()"
   ]
  },
  {
   "cell_type": "code",
   "execution_count": null,
   "metadata": {},
   "outputs": [],
   "source": []
  }
 ],
 "metadata": {
  "kernelspec": {
   "display_name": ".venv",
   "language": "python",
   "name": "python3"
  },
  "language_info": {
   "codemirror_mode": {
    "name": "ipython",
    "version": 3
   },
   "file_extension": ".py",
   "mimetype": "text/x-python",
   "name": "python",
   "nbconvert_exporter": "python",
   "pygments_lexer": "ipython3",
   "version": "3.12.5"
  }
 },
 "nbformat": 4,
 "nbformat_minor": 2
}
