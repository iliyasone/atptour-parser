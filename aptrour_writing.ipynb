{
 "cells": [
  {
   "cell_type": "code",
   "execution_count": 1,
   "metadata": {},
   "outputs": [],
   "source": [
    "from typing import TypedDict, NamedTuple\n",
    "from __future__ import annotations"
   ]
  },
  {
   "cell_type": "code",
   "execution_count": 1,
   "metadata": {},
   "outputs": [],
   "source": [
    "import json\n",
    "from tournament_traversal import Tournaments\n",
    "\n",
    "with open('traverse.json') as f:\n",
    "    data: Tournaments = json.load(f)"
   ]
  },
  {
   "cell_type": "code",
   "execution_count": 2,
   "metadata": {},
   "outputs": [],
   "source": [
    "exit = [[m['link'] for m in t['matches']] for t in data['tournaments']]\n",
    "\n",
    "with open('only_links.json','w') as f:\n",
    "    json.dump(exit,f)"
   ]
  },
  {
   "cell_type": "markdown",
   "metadata": {},
   "source": [
    "### Обход"
   ]
  },
  {
   "cell_type": "code",
   "execution_count": 1,
   "metadata": {},
   "outputs": [],
   "source": [
    "from atptour import *"
   ]
  },
  {
   "cell_type": "code",
   "execution_count": null,
   "metadata": {},
   "outputs": [],
   "source": [
    "driver.find_element(By.ID, 'serve-spd-0')"
   ]
  },
  {
   "cell_type": "code",
   "execution_count": null,
   "metadata": {},
   "outputs": [],
   "source": [
    "for g in driver.find_elements(By.ID, 'serve-spd-0'):\n",
    "    scroll_to(g)\n",
    "    ActionChains(driver).move_to_element(g).perform()\n",
    "    print(driver.find_element(By.CLASS_NAME, 'KphSpeed').text)"
   ]
  },
  {
   "cell_type": "code",
   "execution_count": null,
   "metadata": {},
   "outputs": [],
   "source": [
    "# KphSpeed"
   ]
  },
  {
   "cell_type": "code",
   "execution_count": 2,
   "metadata": {},
   "outputs": [],
   "source": [
    "driver.get(url)"
   ]
  },
  {
   "cell_type": "code",
   "execution_count": null,
   "metadata": {},
   "outputs": [],
   "source": [
    "months_elements = driver.find_elements(By.XPATH, \"//h3[contains(text(), '2024')]\")\n"
   ]
  },
  {
   "cell_type": "code",
   "execution_count": null,
   "metadata": {},
   "outputs": [],
   "source": [
    "cur_month = 9"
   ]
  },
  {
   "cell_type": "code",
   "execution_count": null,
   "metadata": {},
   "outputs": [],
   "source": [
    "[el.text for el in months_elements][:cur_month-1]"
   ]
  },
  {
   "cell_type": "code",
   "execution_count": null,
   "metadata": {},
   "outputs": [],
   "source": [
    "months_elements[0].click()"
   ]
  },
  {
   "cell_type": "code",
   "execution_count": null,
   "metadata": {},
   "outputs": [],
   "source": [
    "months_elements[0].click()"
   ]
  },
  {
   "cell_type": "code",
   "execution_count": 2,
   "metadata": {},
   "outputs": [],
   "source": [
    "from typing import Literal\n",
    "\n",
    "CHEVRON_TYPE = Literal['chevron ', 'icon-chevron-']\n",
    "DIRECTION = Literal['down','up']\n",
    "\n",
    "\n",
    "def toggle(\n",
    "    chevron: CHEVRON_TYPE = 'chevron ', \n",
    "    direction: DIRECTION = 'down'):\n",
    "    \n",
    "    xpath = rf\"//span[@class='{chevron}{direction}']/.\"\n",
    "    toggled = driver.find_elements(By.XPATH, xpath)\n",
    "    while toggled:\n",
    "        scroll_to(toggled[0], align_to_bottom=False)\n",
    "        toggled[0].click()\n",
    "        toggled = driver.find_elements(By.XPATH, xpath)\n",
    "        \n",
    "toggle()"
   ]
  },
  {
   "cell_type": "code",
   "execution_count": null,
   "metadata": {},
   "outputs": [],
   "source": []
  },
  {
   "cell_type": "code",
   "execution_count": null,
   "metadata": {},
   "outputs": [],
   "source": [
    "chevron = 'icon-chevron-'\n",
    "direction = 'down'\n",
    "\n",
    "xpath = rf\"//span[@class='{chevron}{direction}']/*\"\n",
    "g = driver.find_elements(By.XPATH, xpath)\n",
    "g"
   ]
  },
  {
   "cell_type": "code",
   "execution_count": null,
   "metadata": {},
   "outputs": [],
   "source": [
    "g.get_attribute('class')"
   ]
  },
  {
   "cell_type": "code",
   "execution_count": null,
   "metadata": {},
   "outputs": [],
   "source": []
  },
  {
   "cell_type": "code",
   "execution_count": null,
   "metadata": {},
   "outputs": [],
   "source": [
    "scroll_to(driver.find_element(By.XPATH, xpath))"
   ]
  },
  {
   "cell_type": "code",
   "execution_count": null,
   "metadata": {},
   "outputs": [],
   "source": [
    "driver.find_element(By.CLASS_NAME, 'tournament-day').click()"
   ]
  },
  {
   "cell_type": "code",
   "execution_count": null,
   "metadata": {},
   "outputs": [],
   "source": [
    "g.click()"
   ]
  },
  {
   "cell_type": "code",
   "execution_count": null,
   "metadata": {},
   "outputs": [],
   "source": [
    "g"
   ]
  },
  {
   "cell_type": "code",
   "execution_count": null,
   "metadata": {},
   "outputs": [],
   "source": []
  },
  {
   "cell_type": "code",
   "execution_count": null,
   "metadata": {},
   "outputs": [],
   "source": [
    "events_show = driver.find_element(By.XPATH, r\"//ul[contains(@class, 'events') and contains(@class, 'show')]\")"
   ]
  },
  {
   "cell_type": "code",
   "execution_count": 4,
   "metadata": {},
   "outputs": [],
   "source": [
    "tournaments = [el.find_element(By.XPATH, './*').get_attribute('href') for el in driver.find_elements(By.CLASS_NAME, 'non-live-cta')]"
   ]
  },
  {
   "cell_type": "code",
   "execution_count": null,
   "metadata": {},
   "outputs": [],
   "source": [
    "tournaments"
   ]
  },
  {
   "cell_type": "code",
   "execution_count": 30,
   "metadata": {},
   "outputs": [],
   "source": [
    "driver.get(tournaments[1])"
   ]
  },
  {
   "cell_type": "code",
   "execution_count": null,
   "metadata": {},
   "outputs": [],
   "source": [
    "driver.refresh()"
   ]
  },
  {
   "cell_type": "code",
   "execution_count": null,
   "metadata": {},
   "outputs": [],
   "source": []
  },
  {
   "cell_type": "code",
   "execution_count": null,
   "metadata": {},
   "outputs": [],
   "source": [
    "toggle('icon-chevron-')"
   ]
  },
  {
   "cell_type": "code",
   "execution_count": null,
   "metadata": {},
   "outputs": [],
   "source": [
    "scroll_to(driver.find_elements(By.CLASS_NAME, 'non-live-cta')[0], align_to_bottom=False)"
   ]
  },
  {
   "cell_type": "code",
   "execution_count": null,
   "metadata": {},
   "outputs": [],
   "source": [
    "driver.find_elements(By.CLASS_NAME, 'non-live-cta')[0].click()"
   ]
  },
  {
   "cell_type": "code",
   "execution_count": 83,
   "metadata": {},
   "outputs": [],
   "source": [
    "driver.switch_to.window(\n",
    "        driver.window_handles[0]\n",
    "    )"
   ]
  },
  {
   "cell_type": "code",
   "execution_count": 86,
   "metadata": {},
   "outputs": [],
   "source": [
    "    driver.execute_script(\"window.open('')\")  # Create a separate tab than the main one\n",
    "    driver.switch_to.window(\n",
    "        driver.window_handles[-1]\n",
    "    )  # Switch window to the second tab\n",
    "    time.sleep(2)\n",
    "    driver.get(\"chrome://settings/clearBrowserData\")  # Open your chrome settings.\n",
    "    time.sleep(1)\n",
    "\n",
    "    with open(\"findClearButton.js\") as f:\n",
    "        findClearButton = f.read()\n",
    "    with open(\"findDeleteBrowserData.js\") as f:\n",
    "        findDeleteBrowserData = f.read()\n",
    "        \n",
    "\n",
    "    try:\n",
    "        driver.execute_script(findClearButton).click()\n",
    "    except (AttributeError, NoSuchElementException, ElementNotInteractableException):\n",
    "        driver.execute_script(findDeleteBrowserData).click()\n",
    "        driver.execute_script(findClearButton).click()\n",
    "        \n",
    "        \n",
    "    driver.close()  # Close that window\n",
    "    driver.switch_to.window(\n",
    "        driver.window_handles[0]\n",
    "    )"
   ]
  },
  {
   "cell_type": "code",
   "execution_count": null,
   "metadata": {},
   "outputs": [],
   "source": [
    "driver.find_elements(By.XPATH, r\"//h2[contains(text(), 'Verify you are human')]\")"
   ]
  },
  {
   "cell_type": "code",
   "execution_count": null,
   "metadata": {},
   "outputs": [],
   "source": [
    "driver.find_elements(By.CLASS_NAME, 'action-button')"
   ]
  },
  {
   "cell_type": "code",
   "execution_count": null,
   "metadata": {},
   "outputs": [],
   "source": [
    "driver.refresh()"
   ]
  },
  {
   "cell_type": "code",
   "execution_count": null,
   "metadata": {},
   "outputs": [],
   "source": [
    "driver.switch_to.window(driver.window_handles[0])"
   ]
  },
  {
   "cell_type": "code",
   "execution_count": 13,
   "metadata": {},
   "outputs": [],
   "source": [
    "def delete_cache():\n",
    "    driver.execute_script(\"window.open('')\")  # Create a separate tab than the main one\n",
    "    driver.switch_to.window(driver.window_handles[-1])  # Switch window to the second tab\n",
    "    driver.get('chrome://settings/clearBrowserData')  # Open your chrome settings.\n",
    "    time.sleep(5)\n",
    "    \n",
    "    \n",
    "    with open('findClearButton.js') as f:\n",
    "        scr = f.read()\n",
    "\n",
    "    driver.execute_script(scr).click()\n",
    "    \n",
    "    driver.close()  # Close that window\n",
    "    driver.switch_to.window(driver.window_handles[0])  # Switch Selenium controls to the original tab to continue normal functionality.\n",
    "\n",
    "delete_cache()\n"
   ]
  },
  {
   "cell_type": "code",
   "execution_count": 14,
   "metadata": {},
   "outputs": [],
   "source": [
    "cookies_ok()"
   ]
  },
  {
   "cell_type": "code",
   "execution_count": 26,
   "metadata": {},
   "outputs": [],
   "source": [
    "driver.find_elements(By.CLASS_NAME, \"icon-chevron-down\")[2].click()"
   ]
  },
  {
   "cell_type": "code",
   "execution_count": 33,
   "metadata": {},
   "outputs": [],
   "source": [
    "chevrons = driver.find_elements(By.CLASS_NAME, \"icon-chevron-down\")\n",
    "\n",
    "for chevron in chevrons[1:]:\n",
    "    try:\n",
    "        scroll_to(chevron, align_to_bottom=False)\n",
    "        chevron.click()\n",
    "    except (ElementClickInterceptedException, ElementNotInteractableException):\n",
    "        pass\n"
   ]
  },
  {
   "cell_type": "code",
   "execution_count": 34,
   "metadata": {},
   "outputs": [],
   "source": []
  },
  {
   "cell_type": "code",
   "execution_count": null,
   "metadata": {},
   "outputs": [],
   "source": [
    "def is_apt_tournament():\n",
    "    logo_name = driver.find_element(By.XPATH, r\"//div[@class='badge']/*\").get_attribute('src').split('/')[-1].split('.')[0]\n",
    "    if logo_name.isnumeric():\n",
    "        return True\n",
    "    return False\n",
    "    \n",
    "is_apt_tournament()"
   ]
  },
  {
   "cell_type": "code",
   "execution_count": null,
   "metadata": {},
   "outputs": [],
   "source": [
    "tournament_name, info = driver.find_element(By.CLASS_NAME, 'schedule').text.split('\\n')\n",
    "location, date = map(str.strip, info.split('|'))\n",
    "date, year = date.split(',')\n",
    "year = int(year)\n",
    "print(location, date,year, tournament_name, sep='\\n')"
   ]
  },
  {
   "cell_type": "code",
   "execution_count": 55,
   "metadata": {},
   "outputs": [],
   "source": [
    "match = driver.find_elements(By.CLASS_NAME, 'match')[0]"
   ]
  },
  {
   "cell_type": "code",
   "execution_count": null,
   "metadata": {},
   "outputs": [],
   "source": [
    "match.find_element(By.XPATH, r\"./div[@class='match-footer']/div[@class='match-cta']/a[text()='Stats']\").get_attribute('href')"
   ]
  },
  {
   "cell_type": "code",
   "execution_count": null,
   "metadata": {},
   "outputs": [],
   "source": [
    "match.find_element(By.XPATH, r\"./div[@class='match-header']\").text.split('\\n')"
   ]
  },
  {
   "cell_type": "code",
   "execution_count": null,
   "metadata": {},
   "outputs": [],
   "source": [
    "match.find_element(By.XPATH, r\"./div[@class='match-notes']\").text"
   ]
  },
  {
   "cell_type": "code",
   "execution_count": null,
   "metadata": {},
   "outputs": [],
   "source": [
    "match.find_element(By.XPATH, r\"./ancestor::div[contains(@class, 'atp_accordion-item')]/div[@class='atp_accordion-header']\").text"
   ]
  },
  {
   "cell_type": "code",
   "execution_count": null,
   "metadata": {},
   "outputs": [],
   "source": [
    "elements = driver.find_elements(By.XPATH, r'//a[text()=\"Stats\"]')\n",
    "\n",
    "[el.get_attribute('href') for el in elements]"
   ]
  },
  {
   "cell_type": "code",
   "execution_count": null,
   "metadata": {},
   "outputs": [],
   "source": [
    "driver.implicitly_wait(1)\n",
    "driver.find_element(By.XPATH, r\"//div[@class='badge']/*\").get_attribute(\"src\")"
   ]
  },
  {
   "cell_type": "code",
   "execution_count": null,
   "metadata": {},
   "outputs": [],
   "source": [
    "for match in driver.find_elements(By.CLASS_NAME, \"match\"):\n",
    "    print(link)\n",
    "    link = match.find_element(\n",
    "        By.XPATH,\n",
    "        r\"./div[@class='match-footer']/div[@class='match-cta']/a[text()='Stats']\",\n",
    "    ).get_attribute(\"href\")\n",
    "\n",
    "    arena, duration = match.find_element(\n",
    "        By.XPATH, r\"./div[@class='match-header']\"\n",
    "    ).text.split(\"\\n\")"
   ]
  },
  {
   "cell_type": "markdown",
   "metadata": {},
   "source": []
  },
  {
   "cell_type": "code",
   "execution_count": null,
   "metadata": {},
   "outputs": [],
   "source": [
    "from court_vision import *"
   ]
  },
  {
   "cell_type": "code",
   "execution_count": null,
   "metadata": {},
   "outputs": [],
   "source": []
  },
  {
   "cell_type": "markdown",
   "metadata": {},
   "source": [
    "## Stats"
   ]
  },
  {
   "cell_type": "code",
   "execution_count": null,
   "metadata": {},
   "outputs": [],
   "source": [
    "from stats import *"
   ]
  },
  {
   "cell_type": "code",
   "execution_count": null,
   "metadata": {},
   "outputs": [],
   "source": [
    "scroll_to_header_button()\n",
    "driver.find_element(By.ID, \"tabStats\").click()\n"
   ]
  },
  {
   "cell_type": "code",
   "execution_count": null,
   "metadata": {},
   "outputs": [],
   "source": [
    "element_exists = "
   ]
  },
  {
   "cell_type": "code",
   "execution_count": null,
   "metadata": {},
   "outputs": [],
   "source": [
    "driver.find_element(By.XPATH, r\"//div[@class='dd-label']\").click()"
   ]
  },
  {
   "cell_type": "code",
   "execution_count": null,
   "metadata": {},
   "outputs": [],
   "source": [
    "driver.find_elements(By.XPATH, r\"//div[@class='dropdown-link']\")"
   ]
  },
  {
   "cell_type": "code",
   "execution_count": null,
   "metadata": {},
   "outputs": [],
   "source": [
    "for topStatsWrapper in driver.find_elements(By.CLASS_NAME, 'topStatsWrapper'):\n",
    "    stat_section = topStatsWrapper.find_element(By.XPATH, r\"./div[contains(@class, 'stat-section')]\")\n",
    "    \n",
    "    statsTiles = stat_section.find_elements(By.XPATH, r'./*')\n",
    "    print(statsTiles[0].text)\n",
    "    \n",
    "    for statTileWrapper in statsTiles[1:]:\n",
    "        tile = tuple(\n",
    "        el.text for el in statTileWrapper.find_element(By.XPATH, r'./*').find_elements(By.XPATH, r'./*'))\n",
    "        \n",
    "        print(tile)"
   ]
  },
  {
   "cell_type": "code",
   "execution_count": null,
   "metadata": {},
   "outputs": [],
   "source": []
  },
  {
   "cell_type": "code",
   "execution_count": null,
   "metadata": {},
   "outputs": [],
   "source": [
    "driver.fullscreen_window()"
   ]
  },
  {
   "cell_type": "code",
   "execution_count": null,
   "metadata": {},
   "outputs": [],
   "source": [
    "parse_court_vision()"
   ]
  },
  {
   "cell_type": "code",
   "execution_count": null,
   "metadata": {},
   "outputs": [],
   "source": [
    "current_set = 1"
   ]
  },
  {
   "cell_type": "code",
   "execution_count": null,
   "metadata": {},
   "outputs": [],
   "source": [
    "mathes_option = driver.find_element(By.CLASS_NAME, \"SetCustomDropdown\")\n",
    "mathes_option.click()\n",
    "time.sleep(2)\n",
    "mathes_option.find_elements(\n",
    "    By.XPATH,\n",
    "    \"./div[@id='RGDropDown']/div[@class='dropdown-container']/div[@class='sublink-container']/*\",\n",
    ")[current_set].click()"
   ]
  },
  {
   "cell_type": "code",
   "execution_count": null,
   "metadata": {},
   "outputs": [],
   "source": [
    "driver.get(url)\n",
    "\n",
    "driver.maximize_window()\n",
    "time.sleep(1)\n",
    "driver.fullscreen_window()\n",
    "time.sleep(3)\n"
   ]
  },
  {
   "cell_type": "code",
   "execution_count": null,
   "metadata": {},
   "outputs": [],
   "source": [
    "court_ball = court_balls()[2]"
   ]
  },
  {
   "cell_type": "code",
   "execution_count": null,
   "metadata": {},
   "outputs": [],
   "source": [
    "court_ball.click()"
   ]
  },
  {
   "cell_type": "code",
   "execution_count": null,
   "metadata": {},
   "outputs": [],
   "source": [
    "get_selected_group_elements()"
   ]
  },
  {
   "cell_type": "code",
   "execution_count": null,
   "metadata": {},
   "outputs": [],
   "source": [
    "def click_on_court_ball():\n",
    "    court_ball.click()\n",
    "    try:\n",
    "        time.sleep(2)\n",
    "        get_selected_group_elements().find_element(By.XPATH, r'./*')\n",
    "        court_ball.click()\n",
    "    except (NoSuchElementException, ElementClickInterceptedException):\n",
    "        court_ball.click()"
   ]
  },
  {
   "cell_type": "code",
   "execution_count": null,
   "metadata": {},
   "outputs": [],
   "source": [
    "get_selected_group_elements().find_element(By.XPATH, r'./*')\n"
   ]
  },
  {
   "cell_type": "code",
   "execution_count": null,
   "metadata": {},
   "outputs": [],
   "source": [
    "get_all_current_shots()"
   ]
  },
  {
   "cell_type": "code",
   "execution_count": null,
   "metadata": {},
   "outputs": [],
   "source": [
    "parse_court_vision()"
   ]
  },
  {
   "cell_type": "code",
   "execution_count": null,
   "metadata": {},
   "outputs": [],
   "source": [
    "def options_stable_iterator():\n",
    "    start_index = -1\n",
    "    while True:\n",
    "        start_index += 1\n",
    "        stroke_dropdown = driver.find_element(\n",
    "            By.XPATH, \"//div[contains(@class, 'DropdownFixWidth')]\"\n",
    "        )\n",
    "        \n",
    "        options_fact = lambda: stroke_dropdown.find_elements(\n",
    "            By.XPATH,\n",
    "            \"./div[@id='RGDropDown']/div[@class='dropdown-container']/div[@class='sublink-container']/*\",)\n",
    "        options = options_fact()\n",
    "        if len(options) == 0:\n",
    "            stroke_dropdown.click()\n",
    "            time.sleep(1)\n",
    "            options = options_fact()\n",
    "        \n",
    "        \n",
    "        \n",
    "        if start_index < len(options):\n",
    "            yield options[start_index]\n",
    "        else:\n",
    "            break\n"
   ]
  },
  {
   "cell_type": "code",
   "execution_count": null,
   "metadata": {},
   "outputs": [],
   "source": [
    "stroke_dropdown = driver.find_element(\n",
    "            By.XPATH, \"//div[contains(@class, 'DropdownFixWidth')]\"\n",
    "        )\n",
    "stroke_dropdown.click()\n",
    "stroke_dropdown.find_elements(\n",
    "            By.XPATH,\n",
    "            \"./div[@id='RGDropDown']/div[@class='dropdown-container']/div[@class='sublink-container']/*\",)\n",
    "        "
   ]
  },
  {
   "cell_type": "code",
   "execution_count": null,
   "metadata": {},
   "outputs": [],
   "source": [
    "stroke_dropdown = driver.find_element(\n",
    "    By.XPATH, \"//div[contains(@class, 'DropdownFixWidth')]\"\n",
    ")\n",
    "stroke_dropdown.click()"
   ]
  },
  {
   "cell_type": "code",
   "execution_count": null,
   "metadata": {},
   "outputs": [],
   "source": [
    "options = stroke_dropdown.find_elements(\n",
    "            By.XPATH,\n",
    "            \"./div[@id='RGDropDown']/div[@class='dropdown-container']/div[@class='sublink-container']/*\",)"
   ]
  },
  {
   "cell_type": "code",
   "execution_count": null,
   "metadata": {},
   "outputs": [],
   "source": [
    "[el.text for el in ]"
   ]
  },
  {
   "cell_type": "code",
   "execution_count": null,
   "metadata": {},
   "outputs": [],
   "source": [
    "a = options_stable_iterator()"
   ]
  },
  {
   "cell_type": "code",
   "execution_count": null,
   "metadata": {},
   "outputs": [],
   "source": [
    "g = a.__next__()\n",
    "print(g.text)"
   ]
  },
  {
   "cell_type": "code",
   "execution_count": null,
   "metadata": {},
   "outputs": [],
   "source": [
    "driver.find_element(By.XPATH, \"//button[text()='2D']\").click()"
   ]
  },
  {
   "cell_type": "code",
   "execution_count": null,
   "metadata": {},
   "outputs": [],
   "source": [
    "stroke_dropdown = driver.find_element(By.XPATH, \"//div[contains(@class, 'DropdownFixWidth')]\")\n",
    "stroke_dropdown.click()"
   ]
  },
  {
   "cell_type": "code",
   "execution_count": null,
   "metadata": {},
   "outputs": [],
   "source": [
    "options = stroke_dropdown.find_elements(By.XPATH, \"./div[@id='RGDropDown']/div[@class='dropdown-container']/div[@class='sublink-container']/*\")"
   ]
  },
  {
   "cell_type": "code",
   "execution_count": null,
   "metadata": {},
   "outputs": [],
   "source": [
    "import re"
   ]
  },
  {
   "cell_type": "code",
   "execution_count": null,
   "metadata": {},
   "outputs": [],
   "source": [
    "for option in options:\n",
    "    print (format_description(option.text))\n",
    "    \n",
    "    \n",
    "    option.click()\n",
    "    \n",
    "    get_all"
   ]
  },
  {
   "cell_type": "code",
   "execution_count": null,
   "metadata": {},
   "outputs": [],
   "source": [
    "def to_camel_case(_s: str, /) -> str:\n",
    "    # Split the string into words\n",
    "    words = _s.split()\n",
    "    \n",
    "    # Convert the first word to lowercase and keep the rest of the words capitalized\n",
    "    camel_case = words[0].lower() + ''.join(word.capitalize() for word in words[1:])\n",
    "    \n",
    "    return camel_case\n",
    "\n",
    "def sibling_of_div_text(s: str, /):\n",
    "    s = s.replace('*', '')\n",
    "    return driver.find_element(By.XPATH, rf\"//div[contains(normalize-space(text()), '{s}')]/following-sibling::div[@class]\")\n",
    "\n",
    "def close_pop_ups():\n",
    "    active_element = driver.switch_to.active_element\n",
    "    active_element.send_keys(Keys.ESCAPE)"
   ]
  },
  {
   "cell_type": "code",
   "execution_count": null,
   "metadata": {},
   "outputs": [],
   "source": [
    "class Dictable:\n",
    "    @classmethod\n",
    "    def to_dict(cls):\n",
    "        return {k: v for k, v in cls.__dict__.items() if not k.startswith('_')}\n",
    "    \n",
    "class Court(Dictable):\n",
    "    heightM: float = 8.23\n",
    "    widthM: float = 23.77\n",
    "    \n",
    "    \n",
    "CourtType = type[Court] | Court"
   ]
  },
  {
   "cell_type": "code",
   "execution_count": null,
   "metadata": {},
   "outputs": [],
   "source": [
    "from typing import NotRequired  \n",
    "from typing import Literal\n",
    "\n",
    "\n",
    "class CourtVision(TypedDict):\n",
    "    playerSets: list[PlayerSet]\n",
    "\n",
    "\n",
    "class PlayerSet(TypedDict):\n",
    "    player: str\n",
    "    playerIndex: Literal[1, 2]\n",
    "    set: Literal[1, 2]\n",
    "    shotTypes: list[ShotType]\n",
    "    \n",
    "class ShotType(TypedDict):\n",
    "    label: str\n",
    "    shots: list[Shot]\n",
    "    \n",
    "  \n",
    "class Shot(TypedDict):\n",
    "    shotDescription: str\n",
    "    type: str\n",
    "    player: str\n",
    "\n",
    "    balls: list[Ball]\n",
    "    \n",
    "    currentScore: CurrentScore\n",
    "    attributes: dict[str, str]\n",
    "\n",
    "\n",
    "class Ball(TypedDict):\n",
    "    type: str\n",
    "    x: float\n",
    "    y: float\n",
    "    rotate: NotRequired[float]\n",
    "    \n",
    "\n",
    "class CurrentScore(TypedDict):\n",
    "    player1: Score\n",
    "    player2: Score\n",
    "    \n",
    "    \n",
    "class Score(TypedDict):\n",
    "    game_score: int\n",
    "    set_score_1: int\n",
    "    set_score_2: int | None"
   ]
  },
  {
   "cell_type": "code",
   "execution_count": null,
   "metadata": {},
   "outputs": [],
   "source": [
    "player1, player2 = driver.find_elements(By.CLASS_NAME, \"playerName\")[:2]"
   ]
  },
  {
   "cell_type": "code",
   "execution_count": null,
   "metadata": {},
   "outputs": [],
   "source": [
    "scroll_to_the_header()\n",
    "player1.click()"
   ]
  },
  {
   "cell_type": "code",
   "execution_count": null,
   "metadata": {},
   "outputs": [],
   "source": [
    "player1.text"
   ]
  },
  {
   "cell_type": "code",
   "execution_count": null,
   "metadata": {},
   "outputs": [],
   "source": [
    "\n",
    "import re\n",
    "\n",
    "def to_real_pos(x: float, y: float, width: float, height: float, court: CourtType):\n",
    "    x_real = (x / width + 0.5) * court.widthM\n",
    "    y_real = (0.5 - y / height) * court.heightM \n",
    "    \n",
    "    return x_real, y_real\n",
    "\n",
    "def extract_first_number(string: str, /):\n",
    "    numbers = re.findall(r'-?\\d+\\.\\d+|-?\\d+', string)\n",
    "    # Convert the first found number to a float and return it\n",
    "    if numbers:\n",
    "        return float(numbers[0])\n",
    "    return None\n",
    "\n",
    "\n",
    "def get_selected_group_elements():\n",
    "    return driver.find_element(By.ID, \"plottedBallsSelected\")\n",
    "\n",
    "def get_balls(passed_balls: set[str], court: CourtType) -> list[Ball]:\n",
    "    height, width = driver.find_element(By.XPATH, '//*[@id=\"CourtDoublesAlley\"]').size.values()\n",
    "    selected = get_selected_group_elements()\n",
    "    \n",
    "    selected_balls = selected.find_elements(By.XPATH, r\".//*[local-name()='g']\")\n",
    "    balls: list[Ball] = []\n",
    "    for ballEl in selected_balls:\n",
    "        passed_balls.add(ballEl.get_attribute('class').strip())\n",
    "        \n",
    "        \n",
    "        components = ballEl.find_elements(By.XPATH, r'./*')\n",
    "        angle = None\n",
    "        while len(components) > 1:\n",
    "            for component in components:\n",
    "                if component.get_attribute('transform') is not None:\n",
    "                    angle = extract_first_number(component.get_attribute('transform'))\n",
    "                    components.remove(component)\n",
    "        if len(components) == 1:\n",
    "            component = components[0]\n",
    "            xlinkhref = component.get_attribute('xlink:href')\n",
    "            typ = xlinkhref.replace('#', '').replace('Selected', '')\n",
    "            \n",
    "            x, y = component.get_attribute('x'), component.get_attribute('y')\n",
    "            x, y = to_real_pos(float(x), float(y), width, height, court)\n",
    "            balls.append(\n",
    "                {'x': x,\n",
    "                'y': y,\n",
    "                'type': typ}\n",
    "                )\n",
    "            \n",
    "            if angle:\n",
    "                balls[-1]['rotate'] = angle\n",
    "        \n",
    "    return balls"
   ]
  },
  {
   "cell_type": "code",
   "execution_count": null,
   "metadata": {},
   "outputs": [],
   "source": [
    "selected = driver.find_element(By.ID, \"plottedBallsSelected\")"
   ]
  },
  {
   "cell_type": "code",
   "execution_count": null,
   "metadata": {},
   "outputs": [],
   "source": [
    "selected_balls = selected.find_elements(By.XPATH, r\".//*[local-name()='g']/*\")\n",
    "[el.get_attribute('xlink:href') for el in selected_balls]\n"
   ]
  },
  {
   "cell_type": "code",
   "execution_count": null,
   "metadata": {},
   "outputs": [],
   "source": [
    "selected_balls = selected.find_elements(By.XPATH, r\".//*[local-name()='g']\")"
   ]
  },
  {
   "cell_type": "code",
   "execution_count": null,
   "metadata": {},
   "outputs": [],
   "source": [
    "ballEl = selected_balls[0]"
   ]
  },
  {
   "cell_type": "code",
   "execution_count": null,
   "metadata": {},
   "outputs": [],
   "source": [
    "component = ballEl.find_elements(By.XPATH, r'./*')[0]"
   ]
  },
  {
   "cell_type": "code",
   "execution_count": null,
   "metadata": {},
   "outputs": [],
   "source": [
    "component.get_attribute('x')"
   ]
  },
  {
   "cell_type": "code",
   "execution_count": null,
   "metadata": {},
   "outputs": [],
   "source": [
    "extract_first_number(component.get_attribute('transform'))"
   ]
  },
  {
   "cell_type": "code",
   "execution_count": null,
   "metadata": {},
   "outputs": [],
   "source": [
    "height, width = driver.find_element(By.XPATH, '//*[@id=\"CourtDoublesAlley\"]').size.values()"
   ]
  },
  {
   "cell_type": "code",
   "execution_count": null,
   "metadata": {},
   "outputs": [],
   "source": [
    "height/ width"
   ]
  },
  {
   "cell_type": "code",
   "execution_count": null,
   "metadata": {},
   "outputs": [],
   "source": [
    "Court.heightM/ Court.widthM"
   ]
  },
  {
   "cell_type": "code",
   "execution_count": null,
   "metadata": {},
   "outputs": [],
   "source": [
    "to_real_pos(0, 0, width, height, Court)"
   ]
  },
  {
   "cell_type": "code",
   "execution_count": null,
   "metadata": {},
   "outputs": [],
   "source": [
    "width, height"
   ]
  },
  {
   "cell_type": "code",
   "execution_count": null,
   "metadata": {},
   "outputs": [],
   "source": [
    "to_real_pos(-460, 96.68677287884401, width, height, Court)"
   ]
  },
  {
   "cell_type": "code",
   "execution_count": null,
   "metadata": {},
   "outputs": [],
   "source": [
    "def format_description(input_string):\n",
    "    # Remove brackets and numbers inside\n",
    "    formatted_string = re.sub(r'\\s*\\([^)]*\\)', '', input_string)\n",
    "    # Capitalize each word\n",
    "    capitalized_string = formatted_string.title()\n",
    "    return capitalized_string.strip()\n"
   ]
  },
  {
   "cell_type": "code",
   "execution_count": null,
   "metadata": {},
   "outputs": [],
   "source": [
    "def get_curret_score_from_pop_up():\n",
    "    game_scores = driver.find_element(By.CLASS_NAME, 'game-scores').text.split('\\n')\n",
    "    set_score_1 = tuple(map(int, driver.find_element(By.CLASS_NAME, 'set-scores-1').text.split('\\n')))\n",
    "\n",
    "    try:\n",
    "        set_score_2 = tuple(map(int, driver.find_element(By.CLASS_NAME, 'set-scores-2').text.split('\\n')))\n",
    "    except:\n",
    "        set_score_2 = None, None\n",
    "        \n",
    "    currentScore: CurrentScore =  {\n",
    "        'player1': {\n",
    "            'game_score': game_scores[0],\n",
    "            'set_score_1':set_score_1[0],\n",
    "            'set_score_2':set_score_2[0]\n",
    "        },\n",
    "        'player2': {\n",
    "            'game_score': game_scores[1],\n",
    "            'set_score_1':set_score_1[1],\n",
    "            'set_score_2':set_score_2[1]\n",
    "        }\n",
    "    }\n",
    "\n",
    "    return currentScore"
   ]
  },
  {
   "cell_type": "code",
   "execution_count": null,
   "metadata": {},
   "outputs": [],
   "source": [
    "def get_selected_shot(passed_balls: set[str], court: CourtType) -> Shot:\n",
    "    \n",
    "    try:\n",
    "        shot_description = format_description(driver.find_element(By.CLASS_NAME, 'shot-description').text)\n",
    "        player, typ = shot_description.lower().replace(' ','').split(\"'s\")\n",
    "    except:\n",
    "        shot_description = \"\"\n",
    "        player = \"\"\n",
    "        typ = \"notavailable\"\n",
    "        \n",
    "    \n",
    "    shot_description, player, typ\n",
    "\n",
    "    shot: Shot =  {'shotDescription': shot_description, 'player': player, 'type': typ}\n",
    "    \n",
    "    # get all attributes\n",
    "    attributes = {}\n",
    "\n",
    "    elements = driver.find_elements(By.XPATH, \"//div[@class='header' and normalize-space(text())]\")\n",
    "    for element in elements:\n",
    "        key = to_camel_case(element.text)\n",
    "        value = sibling_of_div_text(element.text).text\n",
    "        \n",
    "        if value == 'NA':\n",
    "            \n",
    "            value = None\n",
    "        attributes[key] = value\n",
    "\n",
    "\n",
    "    shot['attributes'] = attributes\n",
    "    shot['currentScore'] = get_curret_score_from_pop_up()\n",
    "    shot['balls'] = get_balls(passed_balls, court)\n",
    "        \n",
    "    return shot\n",
    "    "
   ]
  },
  {
   "cell_type": "code",
   "execution_count": null,
   "metadata": {},
   "outputs": [],
   "source": [
    "{'label': 'second serve', 'shots': []}"
   ]
  },
  {
   "cell_type": "code",
   "execution_count": null,
   "metadata": {},
   "outputs": [],
   "source": [
    "def scroll_to_the_court():\n",
    "    scroll_to(driver.find_element(By.CLASS_NAME, 'filter-description-text'))\n",
    "    \n",
    "def scroll_to_the_header():\n",
    "    scroll_to(driver.find_element(By.ID, 'tabCourtVision'))\n",
    "    \n",
    "def scroll_to(el: WebElement):\n",
    "    driver.execute_script(\"arguments[0].scrollIntoView(true);\", el)"
   ]
  },
  {
   "cell_type": "code",
   "execution_count": null,
   "metadata": {},
   "outputs": [],
   "source": [
    "def get_all_current_shots(passed_balls: set[str] | None = None) -> list[Shot]:\n",
    "    current_shots: list[Shot] = []\n",
    "\n",
    "    court_balls = lambda : driver.find_elements(By.XPATH, \"//*[local-name()='g' and starts-with(@class, 'court-ball-')]\")\n",
    "        \n",
    "    passed_balls: set[str] = passed_balls or set()\n",
    "\n",
    "    for i in range(len(court_balls())):\n",
    "        court_ball = court_balls()[i]\n",
    "        \n",
    "        cls = court_ball.get_attribute('class').strip()\n",
    "        if cls in passed_balls:\n",
    "            continue\n",
    "        \n",
    "        \n",
    "        passed_balls.add(cls)\n",
    "        \n",
    "        \n",
    "        \n",
    "        scroll_to_the_court()\n",
    "        court_ball.click()\n",
    "        current_shots.append(get_selected_shot(passed_balls, Court))\n",
    "\n",
    "        time.sleep(1)\n",
    "\n",
    "        get_selected_group_elements().find_element(By.XPATH, r\".//*[local-name()='g']\").click()\n",
    "        \n",
    "        \n",
    "        \n",
    "        time.sleep(1)\n",
    "    print(passed_balls)\n",
    "    return current_shots\n",
    "    "
   ]
  },
  {
   "cell_type": "code",
   "execution_count": null,
   "metadata": {},
   "outputs": [],
   "source": [
    "court_balls = lambda : driver.find_elements(By.XPATH, \"//*[local-name()='g' and starts-with(@class, 'court-ball-')]\")\n",
    "g = court_balls()[5]      \n",
    "driver.execute_script(\"arguments[0].scrollIntoView(true);\", driver.find_element(By.CLASS_NAME, 'filter-description-text'))"
   ]
  },
  {
   "cell_type": "code",
   "execution_count": null,
   "metadata": {},
   "outputs": [],
   "source": [
    "g.click()"
   ]
  },
  {
   "cell_type": "code",
   "execution_count": null,
   "metadata": {},
   "outputs": [],
   "source": [
    "with open('data.json', 'w') as file:\n",
    "    json.dump(get_all_current_shots(),file,indent=4)\n"
   ]
  },
  {
   "cell_type": "code",
   "execution_count": null,
   "metadata": {},
   "outputs": [],
   "source": [
    "player1, player2 = (el.text for el in driver.find_elements(By.XPATH, r\"//div[@class='player-info']/div[@class='name']/a\"))\n",
    "player1, player2"
   ]
  },
  {
   "cell_type": "code",
   "execution_count": null,
   "metadata": {},
   "outputs": [],
   "source": [
    "scroll_to_the_court()"
   ]
  },
  {
   "cell_type": "code",
   "execution_count": null,
   "metadata": {},
   "outputs": [],
   "source": [
    "driver.find_element(By.XPATH, r'//*[@id=\"RGDropDown\"]/div[2]/div/div/div[1]')"
   ]
  },
  {
   "cell_type": "code",
   "execution_count": null,
   "metadata": {},
   "outputs": [],
   "source": [
    "driver.find_element(By.XPATH, r\"//div[contains(@class, 'SetCustomDropdown')]\").click()"
   ]
  },
  {
   "cell_type": "code",
   "execution_count": null,
   "metadata": {},
   "outputs": [],
   "source": [
    "mathes_option = driver.find_element(By.XPATH, r\"/html/body/div[3]/div/div[2]/div/div[4]/div/div/div[3]/div/div[5]/div[1]/div[2]/div[2]/div\")\n",
    "mathes_option.click()"
   ]
  },
  {
   "cell_type": "code",
   "execution_count": null,
   "metadata": {},
   "outputs": [],
   "source": [
    "mathes_option = driver.find_element(By.CLASS_NAME, 'SetCustomDropdown')\n",
    "mathes_option.click()"
   ]
  },
  {
   "cell_type": "code",
   "execution_count": null,
   "metadata": {},
   "outputs": [],
   "source": [
    "mathes_option.find_elements(\n",
    "            By.XPATH,\n",
    "            \"./div[@id='RGDropDown']/div[@class='dropdown-container']/div[@class='sublink-container']/*\",\n",
    "        )"
   ]
  },
  {
   "cell_type": "markdown",
   "metadata": {},
   "source": [
    "### Stroke Summary"
   ]
  },
  {
   "cell_type": "code",
   "execution_count": null,
   "metadata": {},
   "outputs": [],
   "source": [
    "from typing import Mapping\n",
    "\n",
    "\n",
    "class StrokeSummary(TypedDict):\n",
    "    strokes: list[Stroke]\n",
    "    \n",
    "class Stroke(TypedDict):\n",
    "    strokeLabel: str\n",
    "    player1: Hands\n",
    "    player2: Hands\n",
    "    \n",
    "\n",
    "class Hand(TypedDict):\n",
    "    backhand: int\n",
    "    forehand: int    \n",
    "\n",
    "class Hands(Mapping[str, Hand]):\n",
    "    winners: Hand\n",
    "    forcingShots: Hand\n",
    "    unforcedErrors: Hand\n",
    "    ralliesContinued: Hand\n",
    "\n",
    "\n",
    "\n"
   ]
  },
  {
   "cell_type": "code",
   "execution_count": null,
   "metadata": {},
   "outputs": [],
   "source": [
    "data: StrokeSummary = {'strokes': []}\n",
    "\n",
    "stats_wrapper = driver.find_element(By.CLASS_NAME, r\"stats-wrapper\")\n",
    "strokes = stats_wrapper.find_elements(By.XPATH, './*')\n",
    "len(strokes)"
   ]
  },
  {
   "cell_type": "code",
   "execution_count": null,
   "metadata": {},
   "outputs": [],
   "source": [
    "if 'expand all' in driver.find_element(By.CLASS_NAME, 'expand-all').text.lower():\n",
    "    driver.find_element(By.CLASS_NAME, 'expand-all').click()"
   ]
  },
  {
   "cell_type": "code",
   "execution_count": null,
   "metadata": {},
   "outputs": [],
   "source": [
    "handsLabes = [\n",
    "    \"winners\",\n",
    "    \"forcingShots\",\n",
    "    \"unforcedErrors\",\n",
    "    \"ralliesContinued\"\n",
    "]\n"
   ]
  },
  {
   "cell_type": "code",
   "execution_count": null,
   "metadata": {},
   "outputs": [],
   "source": [
    "for stroke in strokes:\n",
    "    strokeData: Stroke = {}\n",
    "    strokeData[\"strokeLabel\"] = stroke.find_element(By.XPATH, \".//div[@class='stroke-label-us']\").text\n",
    "    \n",
    "    \n",
    "    for player, i in (('player1', 1), ('player2', 3)):\n",
    "        handsData: Hands = {}\n",
    "\n",
    "        for hand, shot_label in zip(stroke.find_elements(By.XPATH, rf\"./div/div[1]/div[1]/div[2]/div/div[3]/div[{i}]/div/*\"), handsLabes):\n",
    "            backhand, forehand = map(int, ' '.join(el.text for el in hand.find_elements(By.XPATH, './span')).split())            \n",
    "            handsData[shot_label] = {\"backhand\": backhand, \"forehand\" : forehand}\n",
    "            \n",
    "\n",
    "        strokeData[player] = handsData\n",
    "    data['strokes'].append(strokeData)\n",
    "\n",
    "\n"
   ]
  },
  {
   "cell_type": "code",
   "execution_count": null,
   "metadata": {},
   "outputs": [],
   "source": [
    "from typing import Literal\n",
    "\n",
    "\n",
    "handsData: Hands = {}\n",
    "\n",
    "for hand, shot_label in zip(stroke.find_elements(By.XPATH, r\"./div/div[1]/div[1]/div[2]/div/div[3]/div[1]/div/*\"), handsLabes):\n",
    "    backhand, forehand = map(int, ' '.join(el.text for el in hand.find_elements(By.XPATH, './span')).split())\n",
    "    \n",
    "    print(f\"{backhand=} {forehand=}\", shot_label)\n",
    "    \n",
    "    handsData[shot_label] = {\"backhand\": backhand, \"forehand\" : forehand}\n",
    "    \n",
    "\n",
    "handsData"
   ]
  },
  {
   "cell_type": "code",
   "execution_count": null,
   "metadata": {},
   "outputs": [],
   "source": [
    "# labels = stroke.find_elements(By.XPATH, r\"./div/div[1]/div[1]/div[2]/div/div[3]/div[2]/*\")\n",
    "# labels = [_lbl.text for _lbl in labels]\n",
    "# labels"
   ]
  },
  {
   "cell_type": "code",
   "execution_count": null,
   "metadata": {},
   "outputs": [],
   "source": [
    "for hand in stroke.find_elements(By.XPATH, r\"./div/div[1]/div[1]/div[2]/div/div[3]/div[3]/div/*\"):\n",
    "    backhand, forehand = map(int, ' '.join(el.text for el in hand.find_elements(By.XPATH, './span')).split())\n",
    "    print(f\"{backhand=} {forehand=}\")"
   ]
  },
  {
   "cell_type": "code",
   "execution_count": null,
   "metadata": {},
   "outputs": [],
   "source": [
    "Stroke()['player1']['forcingShots']['forehand']"
   ]
  },
  {
   "cell_type": "markdown",
   "metadata": {},
   "source": [
    "### Rally Analysis"
   ]
  },
  {
   "cell_type": "code",
   "execution_count": null,
   "metadata": {},
   "outputs": [],
   "source": [
    "try:\n",
    "    driver.find_element(By.XPATH, r\"//button[text()='Expand All (X+E)']\").click()\n",
    "except NoSuchElementException:\n",
    "    pass"
   ]
  },
  {
   "cell_type": "code",
   "execution_count": null,
   "metadata": {},
   "outputs": [],
   "source": [
    "class RallyAnalysis(TypedDict):\n",
    "    shortRally: list[Shot]\n",
    "    mediumRally: list[Shot]\n",
    "    longRally: list[Shot]\n",
    "    \n",
    "class Shot(TypedDict):\n",
    "    i: int\n",
    "    label: str\n",
    "    player1: Point\n",
    "    player2: Point\n",
    "        \n",
    "class Point(TypedDict):\n",
    "    type: str\n",
    "    count: int"
   ]
  },
  {
   "cell_type": "code",
   "execution_count": null,
   "metadata": {},
   "outputs": [],
   "source": [
    "rallies = driver.find_element(By.CLASS_NAME, 'rallies')\n",
    "\n",
    "shortRally = driver.find_element(By.ID, \"shortRally\")\n",
    "mediumRally = driver.find_element(By.ID, \"mediumRally\")\n",
    "longRally = driver.find_element(By.ID, \"longRally\")\n",
    "\n",
    "rallies = [shortRally, mediumRally, longRally]\n",
    "ralliesLabels = ['shortRally', 'mediumRally', 'longRally']\n"
   ]
  },
  {
   "cell_type": "code",
   "execution_count": null,
   "metadata": {},
   "outputs": [],
   "source": [
    "data: RallyAnalysis = {}\n",
    "\n",
    "for rally, rally_label in zip(rallies, ralliesLabels):\n",
    "    shotTypes = rally.find_elements(By.XPATH, r\"./div/div[4]/div[2]/div[2]/*\")\n",
    "    data[rally_label] = []\n",
    "    \n",
    "    for i, shot in enumerate(shotTypes):\n",
    "        shotData: Shot = {}\n",
    "        \n",
    "        player1, shot_label, player2 = shot.find_elements(By.XPATH, './*')\n",
    "        \n",
    "        shotData['i'] = i\n",
    "        shotData['label'] = shot_label.find_element(By.XPATH, r\"./div\").text\n",
    "        \n",
    "        for player, playerLabel in ((player1, 'player1'), (player2, 'player2')):\n",
    "            shotData[playerLabel] = []    \n",
    "            \n",
    "            points = player.find_elements(By.XPATH,'./div')\n",
    "            for point in points:\n",
    "                count, type = point.find_element(By.XPATH, r'./div/div').text.split('\\n')\n",
    "                point: Point = {'count': int(count), 'type': type}\n",
    "                shotData[playerLabel].append(point)\n",
    "        \n",
    "        data[rally_label].append(shotData)\n",
    "with open('rally_analysis.json', mode='w') as file:\n",
    "    json.dump(data, file, indent=4)\n"
   ]
  },
  {
   "cell_type": "code",
   "execution_count": null,
   "metadata": {},
   "outputs": [],
   "source": [
    "shot = shotTypes[0]"
   ]
  },
  {
   "cell_type": "code",
   "execution_count": null,
   "metadata": {},
   "outputs": [],
   "source": []
  },
  {
   "cell_type": "code",
   "execution_count": null,
   "metadata": {},
   "outputs": [],
   "source": [
    "player1, shot_label, player2 = shot.find_elements(By.XPATH, './*')"
   ]
  },
  {
   "cell_type": "code",
   "execution_count": null,
   "metadata": {},
   "outputs": [],
   "source": [
    "pointsEl = player1.find_elements(By.XPATH,'./div')"
   ]
  },
  {
   "cell_type": "code",
   "execution_count": null,
   "metadata": {},
   "outputs": [],
   "source": [
    "for pointEl in pointsEl:\n",
    "    print(pointEl.find_element(By.XPATH, r'./div/div').text)\n",
    "    print()"
   ]
  },
  {
   "cell_type": "markdown",
   "metadata": {},
   "source": [
    "### MatchBeats"
   ]
  },
  {
   "cell_type": "code",
   "execution_count": 3,
   "metadata": {},
   "outputs": [],
   "source": [
    "from matchbeats import *"
   ]
  },
  {
   "cell_type": "code",
   "execution_count": null,
   "metadata": {},
   "outputs": [],
   "source": []
  },
  {
   "cell_type": "code",
   "execution_count": 4,
   "metadata": {},
   "outputs": [],
   "source": [
    "State.driver.get(url)"
   ]
  },
  {
   "cell_type": "code",
   "execution_count": 4,
   "metadata": {},
   "outputs": [],
   "source": [
    "driver.get('https://www.atptour.com/en/scores/stats-centre/live/2024/6242/MS005?tab=MatchBeats')"
   ]
  },
  {
   "cell_type": "code",
   "execution_count": 7,
   "metadata": {},
   "outputs": [],
   "source": [
    "driver.find_element(By.XPATH, r\"//button[text()='MatchBeats']\").click()\n"
   ]
  },
  {
   "cell_type": "code",
   "execution_count": 6,
   "metadata": {},
   "outputs": [],
   "source": [
    "cookies_ok()"
   ]
  },
  {
   "cell_type": "code",
   "execution_count": 32,
   "metadata": {},
   "outputs": [],
   "source": [
    "driver.find_element(By.XPATH, r\"//div[@class='dd-label' and text()='Serve']\").click()"
   ]
  },
  {
   "cell_type": "code",
   "execution_count": 18,
   "metadata": {},
   "outputs": [],
   "source": [
    "serve_button = driver.find_elements(By.CLASS_NAME, 'dropdown-item')[-1]\n",
    "serve_button.click()"
   ]
  },
  {
   "cell_type": "code",
   "execution_count": 24,
   "metadata": {},
   "outputs": [
    {
     "ename": "NoSuchElementException",
     "evalue": "Message: no such element: Unable to locate element: {\"method\":\"css selector\",\"selector\":\".sublink-container\"}\n  (Session info: chrome=129.0.6668.70); For documentation on this error, please visit: https://www.selenium.dev/documentation/webdriver/troubleshooting/errors#no-such-element-exception\nStacktrace:\n\tGetHandleVerifier [0x00007FF60C46B125+29573]\n\t(No symbol) [0x00007FF60C3DFF50]\n\t(No symbol) [0x00007FF60C29B6EA]\n\t(No symbol) [0x00007FF60C2EF815]\n\t(No symbol) [0x00007FF60C2EFA6C]\n\t(No symbol) [0x00007FF60C33B917]\n\t(No symbol) [0x00007FF60C31733F]\n\t(No symbol) [0x00007FF60C3386BC]\n\t(No symbol) [0x00007FF60C3170A3]\n\t(No symbol) [0x00007FF60C2E12DF]\n\t(No symbol) [0x00007FF60C2E2441]\n\tGetHandleVerifier [0x00007FF60C79C76D+3377613]\n\tGetHandleVerifier [0x00007FF60C7E7B67+3685831]\n\tGetHandleVerifier [0x00007FF60C7DCF8B+3641835]\n\tGetHandleVerifier [0x00007FF60C52B2A6+816390]\n\t(No symbol) [0x00007FF60C3EB25F]\n\t(No symbol) [0x00007FF60C3E7084]\n\t(No symbol) [0x00007FF60C3E7220]\n\t(No symbol) [0x00007FF60C3D607F]\n\tBaseThreadInitThunk [0x00007FF9B6CE257D+29]\n\tRtlUserThreadStart [0x00007FF9B7AAAF28+40]\n",
     "output_type": "error",
     "traceback": [
      "\u001b[1;31m---------------------------------------------------------------------------\u001b[0m",
      "\u001b[1;31mNoSuchElementException\u001b[0m                    Traceback (most recent call last)",
      "Cell \u001b[1;32mIn[24], line 1\u001b[0m\n\u001b[1;32m----> 1\u001b[0m options \u001b[38;5;241m=\u001b[39m \u001b[43mdriver\u001b[49m\u001b[38;5;241;43m.\u001b[39;49m\u001b[43mfind_element\u001b[49m\u001b[43m(\u001b[49m\u001b[43mBy\u001b[49m\u001b[38;5;241;43m.\u001b[39;49m\u001b[43mCLASS_NAME\u001b[49m\u001b[43m,\u001b[49m\u001b[43m \u001b[49m\u001b[38;5;124;43m\"\u001b[39;49m\u001b[38;5;124;43msublink-container\u001b[39;49m\u001b[38;5;124;43m\"\u001b[39;49m\u001b[43m)\u001b[49m\u001b[38;5;241m.\u001b[39mfind_elements(By\u001b[38;5;241m.\u001b[39mXPATH, \u001b[38;5;124m'\u001b[39m\u001b[38;5;124m./*\u001b[39m\u001b[38;5;124m'\u001b[39m)\n",
      "File \u001b[1;32mc:\\Users\\iliya\\Repositories\\projects\\atptour-parser\\.venv\\Lib\\site-packages\\selenium\\webdriver\\remote\\webdriver.py:748\u001b[0m, in \u001b[0;36mWebDriver.find_element\u001b[1;34m(self, by, value)\u001b[0m\n\u001b[0;32m    745\u001b[0m     by \u001b[38;5;241m=\u001b[39m By\u001b[38;5;241m.\u001b[39mCSS_SELECTOR\n\u001b[0;32m    746\u001b[0m     value \u001b[38;5;241m=\u001b[39m \u001b[38;5;124mf\u001b[39m\u001b[38;5;124m'\u001b[39m\u001b[38;5;124m[name=\u001b[39m\u001b[38;5;124m\"\u001b[39m\u001b[38;5;132;01m{\u001b[39;00mvalue\u001b[38;5;132;01m}\u001b[39;00m\u001b[38;5;124m\"\u001b[39m\u001b[38;5;124m]\u001b[39m\u001b[38;5;124m'\u001b[39m\n\u001b[1;32m--> 748\u001b[0m \u001b[38;5;28;01mreturn\u001b[39;00m \u001b[38;5;28;43mself\u001b[39;49m\u001b[38;5;241;43m.\u001b[39;49m\u001b[43mexecute\u001b[49m\u001b[43m(\u001b[49m\u001b[43mCommand\u001b[49m\u001b[38;5;241;43m.\u001b[39;49m\u001b[43mFIND_ELEMENT\u001b[49m\u001b[43m,\u001b[49m\u001b[43m \u001b[49m\u001b[43m{\u001b[49m\u001b[38;5;124;43m\"\u001b[39;49m\u001b[38;5;124;43musing\u001b[39;49m\u001b[38;5;124;43m\"\u001b[39;49m\u001b[43m:\u001b[49m\u001b[43m \u001b[49m\u001b[43mby\u001b[49m\u001b[43m,\u001b[49m\u001b[43m \u001b[49m\u001b[38;5;124;43m\"\u001b[39;49m\u001b[38;5;124;43mvalue\u001b[39;49m\u001b[38;5;124;43m\"\u001b[39;49m\u001b[43m:\u001b[49m\u001b[43m \u001b[49m\u001b[43mvalue\u001b[49m\u001b[43m}\u001b[49m\u001b[43m)\u001b[49m[\u001b[38;5;124m\"\u001b[39m\u001b[38;5;124mvalue\u001b[39m\u001b[38;5;124m\"\u001b[39m]\n",
      "File \u001b[1;32mc:\\Users\\iliya\\Repositories\\projects\\atptour-parser\\.venv\\Lib\\site-packages\\selenium\\webdriver\\remote\\webdriver.py:354\u001b[0m, in \u001b[0;36mWebDriver.execute\u001b[1;34m(self, driver_command, params)\u001b[0m\n\u001b[0;32m    352\u001b[0m response \u001b[38;5;241m=\u001b[39m \u001b[38;5;28mself\u001b[39m\u001b[38;5;241m.\u001b[39mcommand_executor\u001b[38;5;241m.\u001b[39mexecute(driver_command, params)\n\u001b[0;32m    353\u001b[0m \u001b[38;5;28;01mif\u001b[39;00m response:\n\u001b[1;32m--> 354\u001b[0m     \u001b[38;5;28;43mself\u001b[39;49m\u001b[38;5;241;43m.\u001b[39;49m\u001b[43merror_handler\u001b[49m\u001b[38;5;241;43m.\u001b[39;49m\u001b[43mcheck_response\u001b[49m\u001b[43m(\u001b[49m\u001b[43mresponse\u001b[49m\u001b[43m)\u001b[49m\n\u001b[0;32m    355\u001b[0m     response[\u001b[38;5;124m\"\u001b[39m\u001b[38;5;124mvalue\u001b[39m\u001b[38;5;124m\"\u001b[39m] \u001b[38;5;241m=\u001b[39m \u001b[38;5;28mself\u001b[39m\u001b[38;5;241m.\u001b[39m_unwrap_value(response\u001b[38;5;241m.\u001b[39mget(\u001b[38;5;124m\"\u001b[39m\u001b[38;5;124mvalue\u001b[39m\u001b[38;5;124m\"\u001b[39m, \u001b[38;5;28;01mNone\u001b[39;00m))\n\u001b[0;32m    356\u001b[0m     \u001b[38;5;28;01mreturn\u001b[39;00m response\n",
      "File \u001b[1;32mc:\\Users\\iliya\\Repositories\\projects\\atptour-parser\\.venv\\Lib\\site-packages\\selenium\\webdriver\\remote\\errorhandler.py:229\u001b[0m, in \u001b[0;36mErrorHandler.check_response\u001b[1;34m(self, response)\u001b[0m\n\u001b[0;32m    227\u001b[0m         alert_text \u001b[38;5;241m=\u001b[39m value[\u001b[38;5;124m\"\u001b[39m\u001b[38;5;124malert\u001b[39m\u001b[38;5;124m\"\u001b[39m]\u001b[38;5;241m.\u001b[39mget(\u001b[38;5;124m\"\u001b[39m\u001b[38;5;124mtext\u001b[39m\u001b[38;5;124m\"\u001b[39m)\n\u001b[0;32m    228\u001b[0m     \u001b[38;5;28;01mraise\u001b[39;00m exception_class(message, screen, stacktrace, alert_text)  \u001b[38;5;66;03m# type: ignore[call-arg]  # mypy is not smart enough here\u001b[39;00m\n\u001b[1;32m--> 229\u001b[0m \u001b[38;5;28;01mraise\u001b[39;00m exception_class(message, screen, stacktrace)\n",
      "\u001b[1;31mNoSuchElementException\u001b[0m: Message: no such element: Unable to locate element: {\"method\":\"css selector\",\"selector\":\".sublink-container\"}\n  (Session info: chrome=129.0.6668.70); For documentation on this error, please visit: https://www.selenium.dev/documentation/webdriver/troubleshooting/errors#no-such-element-exception\nStacktrace:\n\tGetHandleVerifier [0x00007FF60C46B125+29573]\n\t(No symbol) [0x00007FF60C3DFF50]\n\t(No symbol) [0x00007FF60C29B6EA]\n\t(No symbol) [0x00007FF60C2EF815]\n\t(No symbol) [0x00007FF60C2EFA6C]\n\t(No symbol) [0x00007FF60C33B917]\n\t(No symbol) [0x00007FF60C31733F]\n\t(No symbol) [0x00007FF60C3386BC]\n\t(No symbol) [0x00007FF60C3170A3]\n\t(No symbol) [0x00007FF60C2E12DF]\n\t(No symbol) [0x00007FF60C2E2441]\n\tGetHandleVerifier [0x00007FF60C79C76D+3377613]\n\tGetHandleVerifier [0x00007FF60C7E7B67+3685831]\n\tGetHandleVerifier [0x00007FF60C7DCF8B+3641835]\n\tGetHandleVerifier [0x00007FF60C52B2A6+816390]\n\t(No symbol) [0x00007FF60C3EB25F]\n\t(No symbol) [0x00007FF60C3E7084]\n\t(No symbol) [0x00007FF60C3E7220]\n\t(No symbol) [0x00007FF60C3D607F]\n\tBaseThreadInitThunk [0x00007FF9B6CE257D+29]\n\tRtlUserThreadStart [0x00007FF9B7AAAF28+40]\n"
     ]
    }
   ],
   "source": [
    "options = driver.find_element(By.CLASS_NAME, \"sublink-container\").find_elements(By.XPATH, './*')"
   ]
  },
  {
   "cell_type": "code",
   "execution_count": 13,
   "metadata": {},
   "outputs": [
    {
     "data": {
      "text/plain": [
       "['BOTH', 'P. KOTOV', 'L. SONEGO']"
      ]
     },
     "execution_count": 13,
     "metadata": {},
     "output_type": "execute_result"
    }
   ],
   "source": [
    "[option.text for option in options]"
   ]
  },
  {
   "cell_type": "code",
   "execution_count": 10,
   "metadata": {},
   "outputs": [],
   "source": [
    "player1, _, player2, _ = driver.find_element(By.CLASS_NAME, 'player-name-block').text.split('\\n')"
   ]
  },
  {
   "cell_type": "code",
   "execution_count": null,
   "metadata": {},
   "outputs": [],
   "source": []
  },
  {
   "cell_type": "code",
   "execution_count": 15,
   "metadata": {},
   "outputs": [],
   "source": [
    "player = player2"
   ]
  },
  {
   "cell_type": "code",
   "execution_count": 20,
   "metadata": {},
   "outputs": [],
   "source": [
    "options[2].click()\n"
   ]
  },
  {
   "cell_type": "code",
   "execution_count": 15,
   "metadata": {},
   "outputs": [
    {
     "data": {
      "text/plain": [
       "['0', '1']"
      ]
     },
     "execution_count": 15,
     "metadata": {},
     "output_type": "execute_result"
    }
   ],
   "source": [
    "setScore = game_block.find_element(By.XPATH, \n",
    "                        r\"./*[contains(@class, 'Card-wrapper')]\"\n",
    "                        r\"/div[contains(@class, 'score-container')]\").text.split('\\n')\n",
    "setScore"
   ]
  },
  {
   "cell_type": "code",
   "execution_count": 40,
   "metadata": {},
   "outputs": [
    {
     "data": {
      "text/plain": [
       "'05:08'"
      ]
     },
     "execution_count": 40,
     "metadata": {},
     "output_type": "execute_result"
    }
   ],
   "source": [
    "duration = game_block.find_element(By.XPATH,\n",
    "                     r\"./*[contains(@class, 'Card-wrapper')]\" \n",
    "                     r\"//span[@class='duration dur-black']\"\n",
    "                     ).text\n",
    "\n",
    "duration"
   ]
  },
  {
   "cell_type": "code",
   "execution_count": null,
   "metadata": {},
   "outputs": [],
   "source": []
  },
  {
   "cell_type": "code",
   "execution_count": 52,
   "metadata": {},
   "outputs": [],
   "source": [
    "def speed():\n",
    "    return driver.find_element(By.CLASS_NAME, 'kph-value').text\n",
    "\n"
   ]
  },
  {
   "cell_type": "code",
   "execution_count": 8,
   "metadata": {},
   "outputs": [],
   "source": [
    "games: list[Game] =[]"
   ]
  },
  {
   "cell_type": "code",
   "execution_count": 9,
   "metadata": {},
   "outputs": [],
   "source": [
    "\n",
    "for game_block in driver.find_elements(By.CLASS_NAME, 'game-block'):\n",
    "    scroll_to(game_block, align_to_bottom=False)\n",
    "    duration = game_block.find_element(By.XPATH,\n",
    "                     r\"./*[contains(@class, 'Card-wrapper')]\" \n",
    "                     r\"//span[@class='duration dur-black']\"\n",
    "                     ).text\n",
    "\n",
    "    setScore = game_block.find_element(By.XPATH, \n",
    "                        r\"./*[contains(@class, 'Card-wrapper')]\"\n",
    "                        r\"/div[contains(@class, 'score-container')]\").text.split('\\n')\n",
    "\n",
    "    game: Game = {\n",
    "        'id' : game_block.get_attribute('id'),\n",
    "        # 'whoServes': player1\n",
    "        'serves': [],\n",
    "\n",
    "        \n",
    "        'duration': duration,\n",
    "        'setScore': setScore,\n",
    "        }\n",
    "\n",
    "    gs = game_block.find_elements(By.XPATH, \n",
    "            r\"./*[contains(@class, 'game-wrapper')]\"\n",
    "            r\"/*[local-name()='g']\"\n",
    "            # r\"[contains(@class, 'serve-speed-graph-wrapper')]\"\n",
    "            # r\"/*[local-name()='g']\"\n",
    "            # r\"[contains(@class, 'serve-spd')]\"\n",
    "            )\n",
    "    \n",
    "\n",
    "    \n",
    "    for g in gs:\n",
    "        game_score = g.text.split('\\n')\n",
    "        \n",
    "        ActionChains(driver).move_to_element(g).perform()\n",
    "\n",
    "        serve: Serve = {'gameScore': \n",
    "                        list(filter(\n",
    "            lambda item: \n",
    "                item.isdigit() or item == 'Game',\n",
    "            game_score)\n",
    "            )}\n",
    "\n",
    "        try:\n",
    "            rally_length = driver.find_element(By.XPATH, \n",
    "                            r\"//span[contains(text(), 'Rally length')]/..\"\n",
    "                            r\"/span[@class='mb-data-value']\").text\n",
    "            try:\n",
    "                info = driver.find_element(By.CLASS_NAME, 'Info').text\n",
    "            except NoSuchElementException:\n",
    "                info = ''\n",
    "\n",
    "            \n",
    "            serve['rallyLength'] =rally_length\n",
    "            serve['info'] = info\n",
    "        except NoSuchElementException:\n",
    "            try:\n",
    "                serve['speed'] = driver.find_element(By.CLASS_NAME, 'KphSpeed').text\n",
    "                serve['type'] = 'A'\n",
    "            except NoSuchElementException:\n",
    "                # Break point convert\n",
    "                continue\n",
    "        game['serves'].append(serve)\n",
    "\n",
    "    games.append(game)\n",
    "\n",
    "    # [g.get_attribute('id') for g in gs]"
   ]
  },
  {
   "cell_type": "code",
   "execution_count": 21,
   "metadata": {},
   "outputs": [
    {
     "name": "stdout",
     "output_type": "stream",
     "text": [
      "1_7 2 A\n"
     ]
    }
   ],
   "source": [
    "for game_block in driver.find_elements(By.CLASS_NAME, 'game-block'):\n",
    "    scroll_to(game_block, align_to_bottom=False)\n",
    "    id = game_block.get_attribute('id')\n",
    "    circles = game_block.find_elements(By.XPATH, \n",
    "        r\"./*[contains(@class, 'game-wrapper')]\"\n",
    "        r\"/*[local-name()='g']\"\n",
    "        r\"[contains(@class, 'serve-speed-graph-wrapper')]\"\n",
    "        r\"/*[local-name()='g']\"\n",
    "        r\"[contains(@class, 'serve-spd')]\"\n",
    "        )\n",
    "    \n",
    "    for game in games:\n",
    "        if id == game[\"id\"]:\n",
    "            break\n",
    "    else: #nonbreak\n",
    "        raise ValueError(f\"Didn't find game {id} in both player view\")\n",
    "    \n",
    "    for g, serve in zip(circles, game[\"serves\"]):\n",
    "        ActionChains(driver).move_to_element(g).perform()\n",
    "        type, speed = g.text, driver.find_element(By.CLASS_NAME, 'KphSpeed').text\n",
    "        \n",
    "        if 'type' in serve and serve['type'] != type:\n",
    "            print(id, type, serve['type'])\n",
    "            serve['type'] = f\"{serve['type']} ({type})\"\n",
    "\n",
    "        serve['type'] = type\n",
    "        serve[\"speed\"] = speed\n",
    "    \n",
    "    game[\"whoServes\"] = player\n",
    "    "
   ]
  },
  {
   "cell_type": "code",
   "execution_count": 23,
   "metadata": {},
   "outputs": [
    {
     "data": {
      "text/plain": [
       "'P. Kotov'"
      ]
     },
     "execution_count": 23,
     "metadata": {},
     "output_type": "execute_result"
    }
   ],
   "source": [
    "player"
   ]
  },
  {
   "cell_type": "code",
   "execution_count": 101,
   "metadata": {},
   "outputs": [
    {
     "data": {
      "text/plain": [
       "['1', 'A', '1', '1']"
      ]
     },
     "execution_count": 101,
     "metadata": {},
     "output_type": "execute_result"
    }
   ],
   "source": [
    "[c.text for c in circles]"
   ]
  },
  {
   "cell_type": "code",
   "execution_count": null,
   "metadata": {},
   "outputs": [],
   "source": [
    "import http"
   ]
  },
  {
   "cell_type": "code",
   "execution_count": 22,
   "metadata": {},
   "outputs": [],
   "source": [
    "with open('output.json', mode='w') as f:\n",
    "    json.dump(games, f,indent=4)"
   ]
  },
  {
   "cell_type": "code",
   "execution_count": 3,
   "metadata": {},
   "outputs": [
    {
     "ename": "FileNotFoundError",
     "evalue": "[Errno 2] No such file or directory: 'hello/my/name/is/fuck.txt'",
     "output_type": "error",
     "traceback": [
      "\u001b[1;31m---------------------------------------------------------------------------\u001b[0m",
      "\u001b[1;31mFileNotFoundError\u001b[0m                         Traceback (most recent call last)",
      "Cell \u001b[1;32mIn[3], line 1\u001b[0m\n\u001b[1;32m----> 1\u001b[0m \u001b[38;5;28;01mwith\u001b[39;00m \u001b[38;5;28;43mopen\u001b[39;49m\u001b[43m(\u001b[49m\u001b[38;5;124;43m'\u001b[39;49m\u001b[38;5;124;43mhello/my/name/is/fuck.txt\u001b[39;49m\u001b[38;5;124;43m'\u001b[39;49m\u001b[43m,\u001b[49m\u001b[43m \u001b[49m\u001b[38;5;124;43m'\u001b[39;49m\u001b[38;5;124;43mw\u001b[39;49m\u001b[38;5;124;43m'\u001b[39;49m\u001b[43m)\u001b[49m \u001b[38;5;28;01mas\u001b[39;00m f:\n\u001b[0;32m      2\u001b[0m     f\u001b[38;5;241m.\u001b[39mwrite(\u001b[38;5;124m'\u001b[39m\u001b[38;5;124mhi!\u001b[39m\u001b[38;5;124m'\u001b[39m)\n",
      "File \u001b[1;32mc:\\Users\\iliya\\Repositories\\projects\\atptour-parser\\.venv\\Lib\\site-packages\\IPython\\core\\interactiveshell.py:324\u001b[0m, in \u001b[0;36m_modified_open\u001b[1;34m(file, *args, **kwargs)\u001b[0m\n\u001b[0;32m    317\u001b[0m \u001b[38;5;28;01mif\u001b[39;00m file \u001b[38;5;129;01min\u001b[39;00m {\u001b[38;5;241m0\u001b[39m, \u001b[38;5;241m1\u001b[39m, \u001b[38;5;241m2\u001b[39m}:\n\u001b[0;32m    318\u001b[0m     \u001b[38;5;28;01mraise\u001b[39;00m \u001b[38;5;167;01mValueError\u001b[39;00m(\n\u001b[0;32m    319\u001b[0m         \u001b[38;5;124mf\u001b[39m\u001b[38;5;124m\"\u001b[39m\u001b[38;5;124mIPython won\u001b[39m\u001b[38;5;124m'\u001b[39m\u001b[38;5;124mt let you open fd=\u001b[39m\u001b[38;5;132;01m{\u001b[39;00mfile\u001b[38;5;132;01m}\u001b[39;00m\u001b[38;5;124m by default \u001b[39m\u001b[38;5;124m\"\u001b[39m\n\u001b[0;32m    320\u001b[0m         \u001b[38;5;124m\"\u001b[39m\u001b[38;5;124mas it is likely to crash IPython. If you know what you are doing, \u001b[39m\u001b[38;5;124m\"\u001b[39m\n\u001b[0;32m    321\u001b[0m         \u001b[38;5;124m\"\u001b[39m\u001b[38;5;124myou can use builtins\u001b[39m\u001b[38;5;124m'\u001b[39m\u001b[38;5;124m open.\u001b[39m\u001b[38;5;124m\"\u001b[39m\n\u001b[0;32m    322\u001b[0m     )\n\u001b[1;32m--> 324\u001b[0m \u001b[38;5;28;01mreturn\u001b[39;00m \u001b[43mio_open\u001b[49m\u001b[43m(\u001b[49m\u001b[43mfile\u001b[49m\u001b[43m,\u001b[49m\u001b[43m \u001b[49m\u001b[38;5;241;43m*\u001b[39;49m\u001b[43margs\u001b[49m\u001b[43m,\u001b[49m\u001b[43m \u001b[49m\u001b[38;5;241;43m*\u001b[39;49m\u001b[38;5;241;43m*\u001b[39;49m\u001b[43mkwargs\u001b[49m\u001b[43m)\u001b[49m\n",
      "\u001b[1;31mFileNotFoundError\u001b[0m: [Errno 2] No such file or directory: 'hello/my/name/is/fuck.txt'"
     ]
    }
   ],
   "source": [
    "with open('hello/my/name/is/fuck.txt', 'w') as f:\n",
    "    f.write('hi!')"
   ]
  },
  {
   "cell_type": "code",
   "execution_count": 1,
   "metadata": {},
   "outputs": [],
   "source": [
    "from stroke_summary import *"
   ]
  },
  {
   "cell_type": "code",
   "execution_count": 2,
   "metadata": {},
   "outputs": [
    {
     "data": {
      "text/plain": [
       "{'return': 'StrokeSummary'}"
      ]
     },
     "execution_count": 2,
     "metadata": {},
     "output_type": "execute_result"
    }
   ],
   "source": [
    "parse_stroke_summary.__annotations__"
   ]
  },
  {
   "cell_type": "code",
   "execution_count": 79,
   "metadata": {},
   "outputs": [
    {
     "data": {
      "text/plain": [
       "['mid-horz-line',\n",
       " 'tick-lines',\n",
       " 'tick-lines',\n",
       " 'tick-lines',\n",
       " 'tick-lines',\n",
       " None,\n",
       " 'point-plot-wrapper  infy-mb-point point-disable',\n",
       " 'point-plot-wrapper   point-disable',\n",
       " 'point-plot-wrapper  infy-mb-point point-disable',\n",
       " 'point-plot-wrapper  infy-mb-point point-disable',\n",
       " 'serve-speed-graph-wrapper ']"
      ]
     },
     "execution_count": 79,
     "metadata": {},
     "output_type": "execute_result"
    }
   ],
   "source": [
    "[el.get_attribute('class') for el in game_block.find_element(By.XPATH, r\"./*[contains(@class, 'game-wrapper')]\").find_elements(By.XPATH, './*')\n",
    "]"
   ]
  },
  {
   "cell_type": "code",
   "execution_count": 73,
   "metadata": {},
   "outputs": [
    {
     "data": {
      "text/plain": [
       "['infy-mb-game-bg game-wrapper   ',\n",
       " 'game-card-wrapper info-game-card info-mb-hold-card   t1w-border  Card-wrapper ']"
      ]
     },
     "execution_count": 73,
     "metadata": {},
     "output_type": "execute_result"
    }
   ],
   "source": [
    "[el.get_attribute('class') for el in game_block.find_elements(By.XPATH, r\"./*\")]"
   ]
  },
  {
   "cell_type": "code",
   "execution_count": 4,
   "metadata": {},
   "outputs": [],
   "source": [
    "*x, a, b,c = 'абвгдеёж'"
   ]
  },
  {
   "cell_type": "code",
   "execution_count": 5,
   "metadata": {},
   "outputs": [
    {
     "data": {
      "text/plain": [
       "(['а', 'б', 'в', 'г', 'д'], 'е', 'ё', 'ж')"
      ]
     },
     "execution_count": 5,
     "metadata": {},
     "output_type": "execute_result"
    }
   ],
   "source": [
    "x, a, b, c"
   ]
  }
 ],
 "metadata": {
  "kernelspec": {
   "display_name": ".venv",
   "language": "python",
   "name": "python3"
  },
  "language_info": {
   "codemirror_mode": {
    "name": "ipython",
    "version": 3
   },
   "file_extension": ".py",
   "mimetype": "text/x-python",
   "name": "python",
   "nbconvert_exporter": "python",
   "pygments_lexer": "ipython3",
   "version": "3.12.6"
  }
 },
 "nbformat": 4,
 "nbformat_minor": 2
}
