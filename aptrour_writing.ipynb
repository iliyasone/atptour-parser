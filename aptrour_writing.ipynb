{
 "cells": [
  {
   "cell_type": "code",
   "execution_count": null,
   "metadata": {},
   "outputs": [],
   "source": [
    "from selenium import webdriver\n",
    "from selenium.webdriver.common.by import By\n",
    "from selenium.webdriver.common.keys import Keys\n",
    "from selenium.webdriver.support.ui import WebDriverWait\n",
    "from selenium.webdriver.support import expected_conditions as EC\n",
    "from selenium.webdriver.common.action_chains import ActionChains\n",
    "from selenium.webdriver.support.ui import WebDriverWait\n",
    "from selenium.webdriver.support import expected_conditions \n",
    "from selenium.common.exceptions import TimeoutException, NoSuchElementException, ElementClickInterceptedException\n",
    "from selenium.webdriver.common.keys import Keys\n",
    "\n",
    "import time\n",
    "\n"
   ]
  },
  {
   "cell_type": "code",
   "execution_count": 47,
   "metadata": {},
   "outputs": [],
   "source": [
    "from typing import TypedDict, NamedTuple\n",
    "from __future__ import annotations"
   ]
  },
  {
   "cell_type": "code",
   "execution_count": 1,
   "metadata": {},
   "outputs": [],
   "source": [
    "from atptour import *"
   ]
  },
  {
   "cell_type": "code",
   "execution_count": 2,
   "metadata": {},
   "outputs": [],
   "source": [
    "driver.get(url)"
   ]
  },
  {
   "cell_type": "code",
   "execution_count": null,
   "metadata": {},
   "outputs": [],
   "source": [
    "driver.find_element(By.XPATH, \"//button[text()='2D']\").click()\n"
   ]
  },
  {
   "cell_type": "code",
   "execution_count": null,
   "metadata": {},
   "outputs": [],
   "source": [
    "stroke = driver.find_element(By.XPATH, \"//div[contains(@class, 'DropdownFixWidth')]\")\n",
    "stroke.click()"
   ]
  },
  {
   "cell_type": "code",
   "execution_count": null,
   "metadata": {},
   "outputs": [],
   "source": [
    "options = stroke.find_elements(By.XPATH, \"./div[@id='RGDropDown']/div[@class='dropdown-container']/div[@class='sublink-container']/*\")"
   ]
  },
  {
   "cell_type": "code",
   "execution_count": 3,
   "metadata": {},
   "outputs": [],
   "source": [
    "driver.find_element(By.XPATH, r\"//a[text()='Continue']\").click()"
   ]
  },
  {
   "cell_type": "code",
   "execution_count": null,
   "metadata": {},
   "outputs": [],
   "source": [
    "for option in options:\n",
    "    print (option.text)\n",
    "    \n",
    "    \n",
    "option.click()"
   ]
  },
  {
   "cell_type": "code",
   "execution_count": null,
   "metadata": {},
   "outputs": [],
   "source": [
    "def close_pop_ups():\n",
    "    active_element = driver.switch_to.active_element\n",
    "    active_element.send_keys(Keys.ESCAPE)"
   ]
  },
  {
   "cell_type": "code",
   "execution_count": null,
   "metadata": {},
   "outputs": [],
   "source": [
    "def sibling_of_div_text(s: str, /):\n",
    "    s = s.replace('*', '')\n",
    "    return driver.find_element(By.XPATH, rf\"//div[contains(normalize-space(text()), '{s}')]/following-sibling::div[@class]\")"
   ]
  },
  {
   "cell_type": "code",
   "execution_count": null,
   "metadata": {},
   "outputs": [],
   "source": []
  },
  {
   "cell_type": "markdown",
   "metadata": {},
   "source": []
  },
  {
   "cell_type": "code",
   "execution_count": null,
   "metadata": {},
   "outputs": [],
   "source": [
    "court_balls = lambda : driver.find_elements(By.XPATH, \"//*[local-name()='g' and starts-with(@class, 'court-ball-')]\")\n",
    "    \n",
    "for i in range(len(court_balls())):\n",
    "    court_ball = court_balls()[i]\n",
    "        \n",
    "    child = court_ball.find_element(By.XPATH, r'./*')\n",
    "    x, y = child.get_attribute('x'), child.get_attribute('y')\n",
    "    print(x,y)\n",
    "    child.click()\n",
    "\n",
    "    print('super text',driver.find_element(By.ID, \"plottedBallsSelected\").text,'end')\n",
    "    \n",
    "    height_above_ground = sibling_of_div_text('Height Above Ground').text\n",
    "    bounce_height = sibling_of_div_text('Bounce Height').text\n",
    "    speed = sibling_of_div_text('Speed').text\n",
    "    print(height_above_ground, bounce_height, speed)\n",
    "    time.sleep(1)\n",
    "    \n",
    "    driver.find_element(By.ID, \"plottedBallsSelected\").click()\n",
    "    \n",
    "    \n",
    "    time.sleep(1)"
   ]
  },
  {
   "cell_type": "code",
   "execution_count": null,
   "metadata": {},
   "outputs": [],
   "source": [
    "elements = driver.find_elements(By.XPATH, \"//div[@class='header' and normalize-space(text())]\")\n",
    "for element in elements:\n",
    "    print(element.text)\n",
    "    print(sibling_of_div_text(element.text).text)\n",
    "    print()\n",
    "\n",
    "\n"
   ]
  },
  {
   "cell_type": "markdown",
   "metadata": {},
   "source": [
    "### Stroke Summary"
   ]
  },
  {
   "cell_type": "code",
   "execution_count": null,
   "metadata": {},
   "outputs": [],
   "source": [
    "from typing import Mapping\n",
    "\n",
    "\n",
    "class StrokeSummary(TypedDict):\n",
    "    strokes: list[Stroke]\n",
    "    \n",
    "class Stroke(TypedDict):\n",
    "    strokeLabel: str\n",
    "    player1: Hands\n",
    "    player2: Hands\n",
    "    \n",
    "\n",
    "class Hand(TypedDict):\n",
    "    backhand: int\n",
    "    forehand: int    \n",
    "\n",
    "class Hands(Mapping[str, Hand]):\n",
    "    winners: Hand\n",
    "    forcingShots: Hand\n",
    "    unforcedErrors: Hand\n",
    "    ralliesContinued: Hand\n",
    "\n",
    "\n",
    "\n"
   ]
  },
  {
   "cell_type": "code",
   "execution_count": 68,
   "metadata": {},
   "outputs": [
    {
     "data": {
      "text/plain": [
       "7"
      ]
     },
     "execution_count": 68,
     "metadata": {},
     "output_type": "execute_result"
    }
   ],
   "source": [
    "data: StrokeSummary = {'strokes': []}\n",
    "\n",
    "stats_wrapper = driver.find_element(By.CLASS_NAME, r\"stats-wrapper\")\n",
    "strokes = stats_wrapper.find_elements(By.XPATH, './*')\n",
    "len(strokes)"
   ]
  },
  {
   "cell_type": "code",
   "execution_count": 53,
   "metadata": {},
   "outputs": [],
   "source": [
    "if 'expand all' in driver.find_element(By.CLASS_NAME, 'expand-all').text.lower():\n",
    "    driver.find_element(By.CLASS_NAME, 'expand-all').click()"
   ]
  },
  {
   "cell_type": "code",
   "execution_count": 64,
   "metadata": {},
   "outputs": [],
   "source": [
    "handsLabes = [\n",
    "    \"winners\",\n",
    "    \"forcingShots\",\n",
    "    \"unforcedErrors\",\n",
    "    \"ralliesContinued\"\n",
    "]\n"
   ]
  },
  {
   "cell_type": "code",
   "execution_count": 70,
   "metadata": {},
   "outputs": [
    {
     "data": {
      "text/plain": [
       "7"
      ]
     },
     "execution_count": 70,
     "metadata": {},
     "output_type": "execute_result"
    }
   ],
   "source": [
    "for stroke in strokes:\n",
    "    strokeData: Stroke = {}\n",
    "    strokeData[\"strokeLabel\"] = stroke.find_element(By.XPATH, \".//div[@class='stroke-label-us']\").text\n",
    "    \n",
    "    \n",
    "    for player, i in (('player1', 1), ('player2', 3)):\n",
    "        handsData: Hands = {}\n",
    "\n",
    "        for hand, label in zip(stroke.find_elements(By.XPATH, rf\"./div/div[1]/div[1]/div[2]/div/div[3]/div[{i}]/div/*\"), handsLabes):\n",
    "            backhand, forehand = map(int, ' '.join(el.text for el in hand.find_elements(By.XPATH, './span')).split())            \n",
    "            handsData[label] = {\"backhand\": backhand, \"forehand\" : forehand}\n",
    "            \n",
    "\n",
    "        strokeData[player] = handsData\n",
    "    data['strokes'].append(strokeData)\n",
    "\n",
    "\n"
   ]
  },
  {
   "cell_type": "code",
   "execution_count": 59,
   "metadata": {},
   "outputs": [
    {
     "name": "stdout",
     "output_type": "stream",
     "text": [
      "backhand=3 forehand=3 winners\n",
      "backhand=7 forehand=10 forcingShots\n",
      "backhand=4 forehand=5 unforcedErrors\n",
      "backhand=55 forehand=81 ralliesContinued\n"
     ]
    },
    {
     "data": {
      "text/plain": [
       "{'winners': {'backhand': 3, 'forehand': 3},\n",
       " 'forcingShots': {'backhand': 7, 'forehand': 10},\n",
       " 'unforcedErrors': {'backhand': 4, 'forehand': 5},\n",
       " 'ralliesContinued': {'backhand': 55, 'forehand': 81}}"
      ]
     },
     "execution_count": 59,
     "metadata": {},
     "output_type": "execute_result"
    }
   ],
   "source": [
    "from typing import Literal\n",
    "\n",
    "\n",
    "handsData: Hands = {}\n",
    "\n",
    "for hand, label in zip(stroke.find_elements(By.XPATH, r\"./div/div[1]/div[1]/div[2]/div/div[3]/div[1]/div/*\"), handsLabes):\n",
    "    backhand, forehand = map(int, ' '.join(el.text for el in hand.find_elements(By.XPATH, './span')).split())\n",
    "    \n",
    "    print(f\"{backhand=} {forehand=}\", label)\n",
    "    \n",
    "    handsData[label] = {\"backhand\": backhand, \"forehand\" : forehand}\n",
    "    \n",
    "\n",
    "handsData"
   ]
  },
  {
   "cell_type": "code",
   "execution_count": 57,
   "metadata": {},
   "outputs": [
    {
     "data": {
      "text/plain": [
       "['WINNERS', 'FORCING SHOTS', 'UNFORCED ERRORS', 'RALLIES CONTINUED']"
      ]
     },
     "execution_count": 57,
     "metadata": {},
     "output_type": "execute_result"
    }
   ],
   "source": [
    "# labels = stroke.find_elements(By.XPATH, r\"./div/div[1]/div[1]/div[2]/div/div[3]/div[2]/*\")\n",
    "# labels = [_lbl.text for _lbl in labels]\n",
    "# labels"
   ]
  },
  {
   "cell_type": "code",
   "execution_count": 45,
   "metadata": {},
   "outputs": [
    {
     "name": "stdout",
     "output_type": "stream",
     "text": [
      "backhand=2 forehand=9\n",
      "backhand=2 forehand=11\n",
      "backhand=2 forehand=3\n",
      "backhand=59 forehand=85\n"
     ]
    }
   ],
   "source": [
    "for hand in stroke.find_elements(By.XPATH, r\"./div/div[1]/div[1]/div[2]/div/div[3]/div[3]/div/*\"):\n",
    "    backhand, forehand = map(int, ' '.join(el.text for el in hand.find_elements(By.XPATH, './span')).split())\n",
    "    print(f\"{backhand=} {forehand=}\")"
   ]
  },
  {
   "cell_type": "code",
   "execution_count": null,
   "metadata": {},
   "outputs": [],
   "source": [
    "Stroke()['player1']['forcingShots']['forehand']"
   ]
  }
 ],
 "metadata": {
  "kernelspec": {
   "display_name": ".venv",
   "language": "python",
   "name": "python3"
  },
  "language_info": {
   "codemirror_mode": {
    "name": "ipython",
    "version": 3
   },
   "file_extension": ".py",
   "mimetype": "text/x-python",
   "name": "python",
   "nbconvert_exporter": "python",
   "pygments_lexer": "ipython3",
   "version": "3.12.5"
  }
 },
 "nbformat": 4,
 "nbformat_minor": 2
}
