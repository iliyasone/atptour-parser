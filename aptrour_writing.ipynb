{
 "cells": [
  {
   "cell_type": "code",
   "execution_count": 1,
   "metadata": {},
   "outputs": [],
   "source": [
    "from typing import TypedDict, NamedTuple\n",
    "from __future__ import annotations"
   ]
  },
  {
   "cell_type": "code",
   "execution_count": 1,
   "metadata": {},
   "outputs": [],
   "source": [
    "import json\n",
    "from tournament_traversal import Tournaments\n",
    "\n",
    "with open('traverse.json') as f:\n",
    "    data: Tournaments = json.load(f)"
   ]
  },
  {
   "cell_type": "code",
   "execution_count": 2,
   "metadata": {},
   "outputs": [],
   "source": [
    "exit = [[m['link'] for m in t['matches']] for t in data['tournaments']]\n",
    "\n",
    "with open('only_links.json','w') as f:\n",
    "    json.dump(exit,f)"
   ]
  },
  {
   "cell_type": "markdown",
   "metadata": {},
   "source": [
    "### Обход"
   ]
  },
  {
   "cell_type": "code",
   "execution_count": 2,
   "metadata": {},
   "outputs": [],
   "source": [
    "from atptour import *"
   ]
  },
  {
   "cell_type": "code",
   "execution_count": null,
   "metadata": {},
   "outputs": [],
   "source": [
    "driver.find_element(By.ID, 'serve-spd-0')"
   ]
  },
  {
   "cell_type": "code",
   "execution_count": null,
   "metadata": {},
   "outputs": [],
   "source": [
    "for g in driver.find_elements(By.ID, 'serve-spd-0'):\n",
    "    scroll_to(g)\n",
    "    ActionChains(driver).move_to_element(g).perform()\n",
    "    print(driver.find_element(By.CLASS_NAME, 'KphSpeed').text)"
   ]
  },
  {
   "cell_type": "code",
   "execution_count": null,
   "metadata": {},
   "outputs": [],
   "source": [
    "# KphSpeed"
   ]
  },
  {
   "cell_type": "code",
   "execution_count": 2,
   "metadata": {},
   "outputs": [],
   "source": [
    "driver.get(url)"
   ]
  },
  {
   "cell_type": "code",
   "execution_count": null,
   "metadata": {},
   "outputs": [],
   "source": [
    "months_elements = driver.find_elements(By.XPATH, \"//h3[contains(text(), '2024')]\")\n"
   ]
  },
  {
   "cell_type": "code",
   "execution_count": null,
   "metadata": {},
   "outputs": [],
   "source": [
    "cur_month = 9"
   ]
  },
  {
   "cell_type": "code",
   "execution_count": null,
   "metadata": {},
   "outputs": [],
   "source": [
    "[el.text for el in months_elements][:cur_month-1]"
   ]
  },
  {
   "cell_type": "code",
   "execution_count": null,
   "metadata": {},
   "outputs": [],
   "source": [
    "months_elements[0].click()"
   ]
  },
  {
   "cell_type": "code",
   "execution_count": null,
   "metadata": {},
   "outputs": [],
   "source": [
    "months_elements[0].click()"
   ]
  },
  {
   "cell_type": "code",
   "execution_count": 2,
   "metadata": {},
   "outputs": [],
   "source": [
    "from typing import Literal\n",
    "\n",
    "CHEVRON_TYPE = Literal['chevron ', 'icon-chevron-']\n",
    "DIRECTION = Literal['down','up']\n",
    "\n",
    "\n",
    "def toggle(\n",
    "    chevron: CHEVRON_TYPE = 'chevron ', \n",
    "    direction: DIRECTION = 'down'):\n",
    "    \n",
    "    xpath = rf\"//span[@class='{chevron}{direction}']/.\"\n",
    "    toggled = driver.find_elements(By.XPATH, xpath)\n",
    "    while toggled:\n",
    "        scroll_to(toggled[0], align_to_bottom=False)\n",
    "        toggled[0].click()\n",
    "        toggled = driver.find_elements(By.XPATH, xpath)\n",
    "        \n",
    "toggle()"
   ]
  },
  {
   "cell_type": "code",
   "execution_count": null,
   "metadata": {},
   "outputs": [],
   "source": []
  },
  {
   "cell_type": "code",
   "execution_count": null,
   "metadata": {},
   "outputs": [],
   "source": [
    "chevron = 'icon-chevron-'\n",
    "direction = 'down'\n",
    "\n",
    "xpath = rf\"//span[@class='{chevron}{direction}']/*\"\n",
    "g = driver.find_elements(By.XPATH, xpath)\n",
    "g"
   ]
  },
  {
   "cell_type": "code",
   "execution_count": null,
   "metadata": {},
   "outputs": [],
   "source": [
    "g.get_attribute('class')"
   ]
  },
  {
   "cell_type": "code",
   "execution_count": null,
   "metadata": {},
   "outputs": [],
   "source": []
  },
  {
   "cell_type": "code",
   "execution_count": null,
   "metadata": {},
   "outputs": [],
   "source": [
    "scroll_to(driver.find_element(By.XPATH, xpath))"
   ]
  },
  {
   "cell_type": "code",
   "execution_count": null,
   "metadata": {},
   "outputs": [],
   "source": [
    "driver.find_element(By.CLASS_NAME, 'tournament-day').click()"
   ]
  },
  {
   "cell_type": "code",
   "execution_count": null,
   "metadata": {},
   "outputs": [],
   "source": [
    "g.click()"
   ]
  },
  {
   "cell_type": "code",
   "execution_count": null,
   "metadata": {},
   "outputs": [],
   "source": [
    "g"
   ]
  },
  {
   "cell_type": "code",
   "execution_count": null,
   "metadata": {},
   "outputs": [],
   "source": []
  },
  {
   "cell_type": "markdown",
   "metadata": {},
   "source": [
    "### Tournaments list parser"
   ]
  },
  {
   "cell_type": "code",
   "execution_count": 1,
   "metadata": {},
   "outputs": [],
   "source": [
    "from typing import TypedDict, NamedTuple\n",
    "from __future__ import annotations\n",
    "from atptour import *"
   ]
  },
  {
   "cell_type": "code",
   "execution_count": 3,
   "metadata": {},
   "outputs": [],
   "source": [
    "driver.get('https://www.atptour.com/en/scores/results-archive?tournamentType=atpgs')\n",
    "time.sleep(5)\n",
    "accept_cookies()"
   ]
  },
  {
   "cell_type": "code",
   "execution_count": 5,
   "metadata": {},
   "outputs": [],
   "source": [
    "events_show = driver.find_element(By.XPATH, r\"//ul[contains(@class, 'events')]\")"
   ]
  },
  {
   "cell_type": "code",
   "execution_count": null,
   "metadata": {},
   "outputs": [],
   "source": [
    "tournaments = [el.find_element(By.XPATH, './*').get_attribute('href') for el in driver.find_elements(By.CLASS_NAME, 'non-live-cta')]"
   ]
  },
  {
   "cell_type": "code",
   "execution_count": 9,
   "metadata": {},
   "outputs": [],
   "source": [
    "results_button = driver.find_elements(By.XPATH, r\"//a[contains(@class, 'results atp_button') and text()='Results' and @href]\")"
   ]
  },
  {
   "cell_type": "code",
   "execution_count": 10,
   "metadata": {},
   "outputs": [],
   "source": [
    "tournaments = [el.get_attribute('href') for el in results_button]"
   ]
  },
  {
   "cell_type": "code",
   "execution_count": 11,
   "metadata": {},
   "outputs": [
    {
     "data": {
      "text/plain": [
       "['https://www.atptour.com/en/scores/current/perth-sydney/9900/country-results',\n",
       " 'https://www.atptour.com/en/scores/archive/brisbane/339/2024/results',\n",
       " 'https://www.atptour.com/en/scores/archive/hong-kong/336/2024/results',\n",
       " 'https://www.atptour.com/en/scores/archive/adelaide/8998/2024/results',\n",
       " 'https://www.atptour.com/en/scores/archive/auckland/301/2024/results',\n",
       " 'https://www.atptour.com/en/scores/archive/australian-open/580/2024/results',\n",
       " 'https://www.atptour.com/en/scores/archive/montpellier/375/2024/results',\n",
       " 'https://www.atptour.com/en/scores/archive/dallas/424/2024/results',\n",
       " 'https://www.atptour.com/en/scores/archive/marseille/496/2024/results',\n",
       " 'https://www.atptour.com/en/scores/archive/cordoba/9158/2024/results',\n",
       " 'https://www.atptour.com/en/scores/archive/rotterdam/407/2024/results',\n",
       " 'https://www.atptour.com/en/scores/archive/delray-beach/499/2024/results',\n",
       " 'https://www.atptour.com/en/scores/archive/buenos-aires/506/2024/results',\n",
       " 'https://www.atptour.com/en/scores/archive/rio-de-janeiro/6932/2024/results',\n",
       " 'https://www.atptour.com/en/scores/archive/doha/451/2024/results',\n",
       " 'https://www.atptour.com/en/scores/archive/los-cabos/7480/2024/results',\n",
       " 'https://www.atptour.com/en/scores/archive/dubai/495/2024/results',\n",
       " 'https://www.atptour.com/en/scores/archive/acapulco/807/2024/results',\n",
       " 'https://www.atptour.com/en/scores/archive/santiago/8996/2024/results',\n",
       " 'https://www.atptour.com/en/scores/archive/indian-wells/404/2024/results',\n",
       " 'https://www.atptour.com/en/scores/archive/miami/403/2024/results',\n",
       " 'https://www.atptour.com/en/scores/archive/houston/717/2024/results',\n",
       " 'https://www.atptour.com/en/scores/archive/marrakech/360/2024/results',\n",
       " 'https://www.atptour.com/en/scores/archive/estoril/7290/2024/results',\n",
       " 'https://www.atptour.com/en/scores/archive/monte-carlo/410/2024/results',\n",
       " 'https://www.atptour.com/en/scores/archive/barcelona/425/2024/results',\n",
       " 'https://www.atptour.com/en/scores/archive/munich/308/2024/results',\n",
       " 'https://www.atptour.com/en/scores/archive/bucharest/4462/2024/results',\n",
       " 'https://www.atptour.com/en/scores/archive/madrid/1536/2024/results',\n",
       " 'https://www.atptour.com/en/scores/archive/rome/416/2024/results',\n",
       " 'https://www.atptour.com/en/scores/archive/geneva/322/2024/results',\n",
       " 'https://www.atptour.com/en/scores/archive/lyon/7694/2024/results',\n",
       " 'https://www.atptour.com/en/scores/archive/roland-garros/520/2024/results',\n",
       " 'https://www.atptour.com/en/scores/archive/stuttgart/321/2024/results',\n",
       " 'https://www.atptour.com/en/scores/archive/s-hertogenbosch/440/2024/results',\n",
       " 'https://www.atptour.com/en/scores/archive/london/311/2024/results',\n",
       " 'https://www.atptour.com/en/scores/archive/halle/500/2024/results',\n",
       " 'https://www.atptour.com/en/scores/archive/mallorca/8994/2024/results',\n",
       " 'https://www.atptour.com/en/scores/archive/eastbourne/741/2024/results',\n",
       " 'https://www.atptour.com/en/scores/archive/wimbledon/540/2024/results',\n",
       " 'https://www.atptour.com/en/scores/archive/hamburg/414/2024/results',\n",
       " 'https://www.atptour.com/en/scores/archive/newport/315/2024/results',\n",
       " 'https://www.atptour.com/en/scores/archive/gstaad/314/2024/results',\n",
       " 'https://www.atptour.com/en/scores/archive/bastad/316/2024/results',\n",
       " 'https://www.atptour.com/en/scores/archive/umag/439/2024/results',\n",
       " 'https://www.atptour.com/en/scores/archive/atlanta/6116/2024/results',\n",
       " 'https://www.atptour.com/en/scores/archive/kitzbuhel/319/2024/results',\n",
       " 'https://www.atptour.com/en/scores/archive/paris/96/2024/results',\n",
       " 'https://www.atptour.com/en/scores/archive/washington/418/2024/results',\n",
       " 'https://www.atptour.com/en/scores/archive/toronto/421/2024/results',\n",
       " 'https://www.atptour.com/en/scores/archive/cincinnati/422/2024/results',\n",
       " 'https://www.atptour.com/en/scores/archive/winston-salem/6242/2024/results',\n",
       " 'https://www.atptour.com/en/scores/archive/us-open/560/2024/results',\n",
       " 'https://www.atptour.com/en/scores/archive/chengdu/7581/2024/results',\n",
       " 'https://www.atptour.com/en/scores/archive/hangzhou/4713/2024/results',\n",
       " 'https://www.atptour.com/en/scores/archive/laver-cup/9210/2024/country-results',\n",
       " 'https://www.atptour.com/en/scores/archive/tokyo/329/2024/results',\n",
       " 'https://www.atptour.com/en/scores/archive/beijing/747/2024/results',\n",
       " 'https://www.atptour.com/en/scores/archive/shanghai/5014/2024/results',\n",
       " 'https://www.atptour.com/en/scores/archive/almaty/9410/2024/results',\n",
       " 'https://www.atptour.com/en/scores/archive/stockholm/429/2024/results',\n",
       " 'https://www.atptour.com/en/scores/archive/antwerp/7485/2024/results',\n",
       " 'https://www.atptour.com/en/scores/archive/vienna/337/2024/results',\n",
       " 'https://www.atptour.com/en/scores/archive/basel/328/2024/results',\n",
       " 'https://www.atptour.com/en/scores/archive/paris/352/2024/results',\n",
       " 'https://www.atptour.com/en/scores/archive/belgrade/4787/2024/results',\n",
       " 'https://www.atptour.com/en/scores/archive/metz/341/2024/results',\n",
       " 'https://www.atptour.com/en/scores/archive/nitto-atp-finals/605/2024/results',\n",
       " 'https://www.atptour.com/en/scores/archive/next-gen-atp-finals/7696/2024/results']"
      ]
     },
     "execution_count": 11,
     "metadata": {},
     "output_type": "execute_result"
    }
   ],
   "source": [
    "tournaments"
   ]
  },
  {
   "cell_type": "code",
   "execution_count": 12,
   "metadata": {},
   "outputs": [],
   "source": [
    "with open('temp/tournaments.txt', 'w') as file:\n",
    "    file.write('\\n'.join(tournaments))"
   ]
  },
  {
   "cell_type": "code",
   "execution_count": 30,
   "metadata": {},
   "outputs": [],
   "source": [
    "driver.get(tournaments[1])"
   ]
  },
  {
   "cell_type": "code",
   "execution_count": null,
   "metadata": {},
   "outputs": [],
   "source": [
    "driver.refresh()"
   ]
  },
  {
   "cell_type": "code",
   "execution_count": null,
   "metadata": {},
   "outputs": [],
   "source": []
  },
  {
   "cell_type": "code",
   "execution_count": null,
   "metadata": {},
   "outputs": [],
   "source": [
    "toggle('icon-chevron-')"
   ]
  },
  {
   "cell_type": "code",
   "execution_count": null,
   "metadata": {},
   "outputs": [],
   "source": [
    "scroll_to(driver.find_elements(By.CLASS_NAME, 'non-live-cta')[0], align_to_bottom=False)"
   ]
  },
  {
   "cell_type": "code",
   "execution_count": null,
   "metadata": {},
   "outputs": [],
   "source": [
    "driver.find_elements(By.CLASS_NAME, 'non-live-cta')[0].click()"
   ]
  },
  {
   "cell_type": "code",
   "execution_count": 83,
   "metadata": {},
   "outputs": [],
   "source": [
    "driver.switch_to.window(\n",
    "        driver.window_handles[0]\n",
    "    )"
   ]
  },
  {
   "cell_type": "code",
   "execution_count": 86,
   "metadata": {},
   "outputs": [],
   "source": [
    "    driver.execute_script(\"window.open('')\")  # Create a separate tab than the main one\n",
    "    driver.switch_to.window(\n",
    "        driver.window_handles[-1]\n",
    "    )  # Switch window to the second tab\n",
    "    time.sleep(2)\n",
    "    driver.get(\"chrome://settings/clearBrowserData\")  # Open your chrome settings.\n",
    "    time.sleep(1)\n",
    "\n",
    "    with open(\"findClearButton.js\") as f:\n",
    "        findClearButton = f.read()\n",
    "    with open(\"findDeleteBrowserData.js\") as f:\n",
    "        findDeleteBrowserData = f.read()\n",
    "        \n",
    "\n",
    "    try:\n",
    "        driver.execute_script(findClearButton).click()\n",
    "    except (AttributeError, NoSuchElementException, ElementNotInteractableException):\n",
    "        driver.execute_script(findDeleteBrowserData).click()\n",
    "        driver.execute_script(findClearButton).click()\n",
    "        \n",
    "        \n",
    "    driver.close()  # Close that window\n",
    "    driver.switch_to.window(\n",
    "        driver.window_handles[0]\n",
    "    )"
   ]
  },
  {
   "cell_type": "code",
   "execution_count": null,
   "metadata": {},
   "outputs": [],
   "source": [
    "driver.find_elements(By.XPATH, r\"//h2[contains(text(), 'Verify you are human')]\")"
   ]
  },
  {
   "cell_type": "code",
   "execution_count": null,
   "metadata": {},
   "outputs": [],
   "source": [
    "driver.find_elements(By.CLASS_NAME, 'action-button')"
   ]
  },
  {
   "cell_type": "code",
   "execution_count": null,
   "metadata": {},
   "outputs": [],
   "source": [
    "driver.refresh()"
   ]
  },
  {
   "cell_type": "code",
   "execution_count": null,
   "metadata": {},
   "outputs": [],
   "source": [
    "driver.switch_to.window(driver.window_handles[0])"
   ]
  },
  {
   "cell_type": "code",
   "execution_count": 13,
   "metadata": {},
   "outputs": [],
   "source": [
    "def delete_cache():\n",
    "    driver.execute_script(\"window.open('')\")  # Create a separate tab than the main one\n",
    "    driver.switch_to.window(driver.window_handles[-1])  # Switch window to the second tab\n",
    "    driver.get('chrome://settings/clearBrowserData')  # Open your chrome settings.\n",
    "    time.sleep(5)\n",
    "    \n",
    "    \n",
    "    with open('findClearButton.js') as f:\n",
    "        scr = f.read()\n",
    "\n",
    "    driver.execute_script(scr).click()\n",
    "    \n",
    "    driver.close()  # Close that window\n",
    "    driver.switch_to.window(driver.window_handles[0])  # Switch Selenium controls to the original tab to continue normal functionality.\n",
    "\n",
    "delete_cache()\n"
   ]
  },
  {
   "cell_type": "code",
   "execution_count": 14,
   "metadata": {},
   "outputs": [],
   "source": [
    "cookies_ok()"
   ]
  },
  {
   "cell_type": "code",
   "execution_count": 26,
   "metadata": {},
   "outputs": [],
   "source": [
    "driver.find_elements(By.CLASS_NAME, \"icon-chevron-down\")[2].click()"
   ]
  },
  {
   "cell_type": "code",
   "execution_count": 33,
   "metadata": {},
   "outputs": [],
   "source": [
    "chevrons = driver.find_elements(By.CLASS_NAME, \"icon-chevron-down\")\n",
    "\n",
    "for chevron in chevrons[1:]:\n",
    "    try:\n",
    "        scroll_to(chevron, align_to_bottom=False)\n",
    "        chevron.click()\n",
    "    except (ElementClickInterceptedException, ElementNotInteractableException):\n",
    "        pass\n"
   ]
  },
  {
   "cell_type": "code",
   "execution_count": 34,
   "metadata": {},
   "outputs": [],
   "source": []
  },
  {
   "cell_type": "code",
   "execution_count": null,
   "metadata": {},
   "outputs": [],
   "source": [
    "def is_apt_tournament():\n",
    "    logo_name = driver.find_element(By.XPATH, r\"//div[@class='badge']/*\").get_attribute('src').split('/')[-1].split('.')[0]\n",
    "    if logo_name.isnumeric():\n",
    "        return True\n",
    "    return False\n",
    "    \n",
    "is_apt_tournament()"
   ]
  },
  {
   "cell_type": "code",
   "execution_count": null,
   "metadata": {},
   "outputs": [],
   "source": [
    "tournament_name, info = driver.find_element(By.CLASS_NAME, 'schedule').text.split('\\n')\n",
    "location, date = map(str.strip, info.split('|'))\n",
    "date, year = date.split(',')\n",
    "year = int(year)\n",
    "print(location, date,year, tournament_name, sep='\\n')"
   ]
  },
  {
   "cell_type": "code",
   "execution_count": 55,
   "metadata": {},
   "outputs": [],
   "source": [
    "match = driver.find_elements(By.CLASS_NAME, 'match')[0]"
   ]
  },
  {
   "cell_type": "code",
   "execution_count": null,
   "metadata": {},
   "outputs": [],
   "source": [
    "match.find_element(By.XPATH, r\"./div[@class='match-footer']/div[@class='match-cta']/a[text()='Stats']\").get_attribute('href')"
   ]
  },
  {
   "cell_type": "code",
   "execution_count": null,
   "metadata": {},
   "outputs": [],
   "source": [
    "match.find_element(By.XPATH, r\"./div[@class='match-header']\").text.split('\\n')"
   ]
  },
  {
   "cell_type": "code",
   "execution_count": null,
   "metadata": {},
   "outputs": [],
   "source": [
    "match.find_element(By.XPATH, r\"./div[@class='match-notes']\").text"
   ]
  },
  {
   "cell_type": "code",
   "execution_count": null,
   "metadata": {},
   "outputs": [],
   "source": [
    "match.find_element(By.XPATH, r\"./ancestor::div[contains(@class, 'atp_accordion-item')]/div[@class='atp_accordion-header']\").text"
   ]
  },
  {
   "cell_type": "code",
   "execution_count": null,
   "metadata": {},
   "outputs": [],
   "source": [
    "elements = driver.find_elements(By.XPATH, r'//a[text()=\"Stats\"]')\n",
    "\n",
    "[el.get_attribute('href') for el in elements]"
   ]
  },
  {
   "cell_type": "code",
   "execution_count": null,
   "metadata": {},
   "outputs": [],
   "source": [
    "driver.implicitly_wait(1)\n",
    "driver.find_element(By.XPATH, r\"//div[@class='badge']/*\").get_attribute(\"src\")"
   ]
  },
  {
   "cell_type": "code",
   "execution_count": null,
   "metadata": {},
   "outputs": [],
   "source": [
    "for match in driver.find_elements(By.CLASS_NAME, \"match\"):\n",
    "    print(link)\n",
    "    link = match.find_element(\n",
    "        By.XPATH,\n",
    "        r\"./div[@class='match-footer']/div[@class='match-cta']/a[text()='Stats']\",\n",
    "    ).get_attribute(\"href\")\n",
    "\n",
    "    arena, duration = match.find_element(\n",
    "        By.XPATH, r\"./div[@class='match-header']\"\n",
    "    ).text.split(\"\\n\")"
   ]
  },
  {
   "cell_type": "markdown",
   "metadata": {},
   "source": []
  },
  {
   "cell_type": "code",
   "execution_count": null,
   "metadata": {},
   "outputs": [],
   "source": [
    "from court_vision import *"
   ]
  },
  {
   "cell_type": "code",
   "execution_count": null,
   "metadata": {},
   "outputs": [],
   "source": []
  },
  {
   "cell_type": "markdown",
   "metadata": {},
   "source": [
    "## Stats"
   ]
  },
  {
   "cell_type": "code",
   "execution_count": null,
   "metadata": {},
   "outputs": [],
   "source": [
    "from stats import *"
   ]
  },
  {
   "cell_type": "code",
   "execution_count": null,
   "metadata": {},
   "outputs": [],
   "source": [
    "scroll_to_header_button()\n",
    "driver.find_element(By.ID, \"tabStats\").click()\n"
   ]
  },
  {
   "cell_type": "code",
   "execution_count": null,
   "metadata": {},
   "outputs": [],
   "source": [
    "element_exists = "
   ]
  },
  {
   "cell_type": "code",
   "execution_count": null,
   "metadata": {},
   "outputs": [],
   "source": [
    "driver.find_element(By.XPATH, r\"//div[@class='dd-label']\").click()"
   ]
  },
  {
   "cell_type": "code",
   "execution_count": null,
   "metadata": {},
   "outputs": [],
   "source": [
    "driver.find_elements(By.XPATH, r\"//div[@class='dropdown-link']\")"
   ]
  },
  {
   "cell_type": "code",
   "execution_count": null,
   "metadata": {},
   "outputs": [],
   "source": [
    "for topStatsWrapper in driver.find_elements(By.CLASS_NAME, 'topStatsWrapper'):\n",
    "    stat_section = topStatsWrapper.find_element(By.XPATH, r\"./div[contains(@class, 'stat-section')]\")\n",
    "    \n",
    "    statsTiles = stat_section.find_elements(By.XPATH, r'./*')\n",
    "    print(statsTiles[0].text)\n",
    "    \n",
    "    for statTileWrapper in statsTiles[1:]:\n",
    "        tile = tuple(\n",
    "        el.text for el in statTileWrapper.find_element(By.XPATH, r'./*').find_elements(By.XPATH, r'./*'))\n",
    "        \n",
    "        print(tile)"
   ]
  },
  {
   "cell_type": "code",
   "execution_count": null,
   "metadata": {},
   "outputs": [],
   "source": []
  },
  {
   "cell_type": "code",
   "execution_count": null,
   "metadata": {},
   "outputs": [],
   "source": [
    "driver.fullscreen_window()"
   ]
  },
  {
   "cell_type": "code",
   "execution_count": null,
   "metadata": {},
   "outputs": [],
   "source": [
    "parse_court_vision()"
   ]
  },
  {
   "cell_type": "code",
   "execution_count": null,
   "metadata": {},
   "outputs": [],
   "source": [
    "current_set = 1"
   ]
  },
  {
   "cell_type": "code",
   "execution_count": null,
   "metadata": {},
   "outputs": [],
   "source": [
    "mathes_option = driver.find_element(By.CLASS_NAME, \"SetCustomDropdown\")\n",
    "mathes_option.click()\n",
    "time.sleep(2)\n",
    "mathes_option.find_elements(\n",
    "    By.XPATH,\n",
    "    \"./div[@id='RGDropDown']/div[@class='dropdown-container']/div[@class='sublink-container']/*\",\n",
    ")[current_set].click()"
   ]
  },
  {
   "cell_type": "code",
   "execution_count": null,
   "metadata": {},
   "outputs": [],
   "source": [
    "driver.get(url)\n",
    "\n",
    "driver.maximize_window()\n",
    "time.sleep(1)\n",
    "driver.fullscreen_window()\n",
    "time.sleep(3)\n"
   ]
  },
  {
   "cell_type": "code",
   "execution_count": null,
   "metadata": {},
   "outputs": [],
   "source": [
    "court_ball = court_balls()[2]"
   ]
  },
  {
   "cell_type": "code",
   "execution_count": null,
   "metadata": {},
   "outputs": [],
   "source": [
    "court_ball.click()"
   ]
  },
  {
   "cell_type": "code",
   "execution_count": null,
   "metadata": {},
   "outputs": [],
   "source": [
    "get_selected_group_elements()"
   ]
  },
  {
   "cell_type": "code",
   "execution_count": null,
   "metadata": {},
   "outputs": [],
   "source": [
    "def click_on_court_ball():\n",
    "    court_ball.click()\n",
    "    try:\n",
    "        time.sleep(2)\n",
    "        get_selected_group_elements().find_element(By.XPATH, r'./*')\n",
    "        court_ball.click()\n",
    "    except (NoSuchElementException, ElementClickInterceptedException):\n",
    "        court_ball.click()"
   ]
  },
  {
   "cell_type": "code",
   "execution_count": null,
   "metadata": {},
   "outputs": [],
   "source": [
    "get_selected_group_elements().find_element(By.XPATH, r'./*')\n"
   ]
  },
  {
   "cell_type": "code",
   "execution_count": null,
   "metadata": {},
   "outputs": [],
   "source": [
    "get_all_current_shots()"
   ]
  },
  {
   "cell_type": "code",
   "execution_count": null,
   "metadata": {},
   "outputs": [],
   "source": [
    "parse_court_vision()"
   ]
  },
  {
   "cell_type": "code",
   "execution_count": null,
   "metadata": {},
   "outputs": [],
   "source": [
    "def options_stable_iterator():\n",
    "    start_index = -1\n",
    "    while True:\n",
    "        start_index += 1\n",
    "        stroke_dropdown = driver.find_element(\n",
    "            By.XPATH, \"//div[contains(@class, 'DropdownFixWidth')]\"\n",
    "        )\n",
    "        \n",
    "        options_fact = lambda: stroke_dropdown.find_elements(\n",
    "            By.XPATH,\n",
    "            \"./div[@id='RGDropDown']/div[@class='dropdown-container']/div[@class='sublink-container']/*\",)\n",
    "        options = options_fact()\n",
    "        if len(options) == 0:\n",
    "            stroke_dropdown.click()\n",
    "            time.sleep(1)\n",
    "            options = options_fact()\n",
    "        \n",
    "        \n",
    "        \n",
    "        if start_index < len(options):\n",
    "            yield options[start_index]\n",
    "        else:\n",
    "            break\n"
   ]
  },
  {
   "cell_type": "code",
   "execution_count": null,
   "metadata": {},
   "outputs": [],
   "source": [
    "stroke_dropdown = driver.find_element(\n",
    "            By.XPATH, \"//div[contains(@class, 'DropdownFixWidth')]\"\n",
    "        )\n",
    "stroke_dropdown.click()\n",
    "stroke_dropdown.find_elements(\n",
    "            By.XPATH,\n",
    "            \"./div[@id='RGDropDown']/div[@class='dropdown-container']/div[@class='sublink-container']/*\",)\n",
    "        "
   ]
  },
  {
   "cell_type": "code",
   "execution_count": null,
   "metadata": {},
   "outputs": [],
   "source": [
    "stroke_dropdown = driver.find_element(\n",
    "    By.XPATH, \"//div[contains(@class, 'DropdownFixWidth')]\"\n",
    ")\n",
    "stroke_dropdown.click()"
   ]
  },
  {
   "cell_type": "code",
   "execution_count": null,
   "metadata": {},
   "outputs": [],
   "source": [
    "options = stroke_dropdown.find_elements(\n",
    "            By.XPATH,\n",
    "            \"./div[@id='RGDropDown']/div[@class='dropdown-container']/div[@class='sublink-container']/*\",)"
   ]
  },
  {
   "cell_type": "code",
   "execution_count": null,
   "metadata": {},
   "outputs": [],
   "source": [
    "[el.text for el in ]"
   ]
  },
  {
   "cell_type": "code",
   "execution_count": null,
   "metadata": {},
   "outputs": [],
   "source": [
    "a = options_stable_iterator()"
   ]
  },
  {
   "cell_type": "code",
   "execution_count": null,
   "metadata": {},
   "outputs": [],
   "source": [
    "g = a.__next__()\n",
    "print(g.text)"
   ]
  },
  {
   "cell_type": "code",
   "execution_count": null,
   "metadata": {},
   "outputs": [],
   "source": [
    "driver.find_element(By.XPATH, \"//button[text()='2D']\").click()"
   ]
  },
  {
   "cell_type": "code",
   "execution_count": null,
   "metadata": {},
   "outputs": [],
   "source": [
    "stroke_dropdown = driver.find_element(By.XPATH, \"//div[contains(@class, 'DropdownFixWidth')]\")\n",
    "stroke_dropdown.click()"
   ]
  },
  {
   "cell_type": "code",
   "execution_count": null,
   "metadata": {},
   "outputs": [],
   "source": [
    "options = stroke_dropdown.find_elements(By.XPATH, \"./div[@id='RGDropDown']/div[@class='dropdown-container']/div[@class='sublink-container']/*\")"
   ]
  },
  {
   "cell_type": "code",
   "execution_count": null,
   "metadata": {},
   "outputs": [],
   "source": [
    "import re"
   ]
  },
  {
   "cell_type": "code",
   "execution_count": null,
   "metadata": {},
   "outputs": [],
   "source": [
    "for option in options:\n",
    "    print (format_description(option.text))\n",
    "    \n",
    "    \n",
    "    option.click()\n",
    "    \n",
    "    get_all"
   ]
  },
  {
   "cell_type": "code",
   "execution_count": null,
   "metadata": {},
   "outputs": [],
   "source": [
    "def to_camel_case(_s: str, /) -> str:\n",
    "    # Split the string into words\n",
    "    words = _s.split()\n",
    "    \n",
    "    # Convert the first word to lowercase and keep the rest of the words capitalized\n",
    "    camel_case = words[0].lower() + ''.join(word.capitalize() for word in words[1:])\n",
    "    \n",
    "    return camel_case\n",
    "\n",
    "def sibling_of_div_text(s: str, /):\n",
    "    s = s.replace('*', '')\n",
    "    return driver.find_element(By.XPATH, rf\"//div[contains(normalize-space(text()), '{s}')]/following-sibling::div[@class]\")\n",
    "\n",
    "def close_pop_ups():\n",
    "    active_element = driver.switch_to.active_element\n",
    "    active_element.send_keys(Keys.ESCAPE)"
   ]
  },
  {
   "cell_type": "code",
   "execution_count": null,
   "metadata": {},
   "outputs": [],
   "source": [
    "class Dictable:\n",
    "    @classmethod\n",
    "    def to_dict(cls):\n",
    "        return {k: v for k, v in cls.__dict__.items() if not k.startswith('_')}\n",
    "    \n",
    "class Court(Dictable):\n",
    "    heightM: float = 8.23\n",
    "    widthM: float = 23.77\n",
    "    \n",
    "    \n",
    "CourtType = type[Court] | Court"
   ]
  },
  {
   "cell_type": "code",
   "execution_count": null,
   "metadata": {},
   "outputs": [],
   "source": [
    "from typing import NotRequired  \n",
    "from typing import Literal\n",
    "\n",
    "\n",
    "class CourtVision(TypedDict):\n",
    "    playerSets: list[PlayerSet]\n",
    "\n",
    "\n",
    "class PlayerSet(TypedDict):\n",
    "    player: str\n",
    "    playerIndex: Literal[1, 2]\n",
    "    set: Literal[1, 2]\n",
    "    shotTypes: list[ShotType]\n",
    "    \n",
    "class ShotType(TypedDict):\n",
    "    label: str\n",
    "    shots: list[Shot]\n",
    "    \n",
    "  \n",
    "class Shot(TypedDict):\n",
    "    shotDescription: str\n",
    "    type: str\n",
    "    player: str\n",
    "\n",
    "    balls: list[Ball]\n",
    "    \n",
    "    currentScore: CurrentScore\n",
    "    attributes: dict[str, str]\n",
    "\n",
    "\n",
    "class Ball(TypedDict):\n",
    "    type: str\n",
    "    x: float\n",
    "    y: float\n",
    "    rotate: NotRequired[float]\n",
    "    \n",
    "\n",
    "class CurrentScore(TypedDict):\n",
    "    player1: Score\n",
    "    player2: Score\n",
    "    \n",
    "    \n",
    "class Score(TypedDict):\n",
    "    game_score: int\n",
    "    set_score_1: int\n",
    "    set_score_2: int | None"
   ]
  },
  {
   "cell_type": "code",
   "execution_count": null,
   "metadata": {},
   "outputs": [],
   "source": [
    "player1, player2 = driver.find_elements(By.CLASS_NAME, \"playerName\")[:2]"
   ]
  },
  {
   "cell_type": "code",
   "execution_count": null,
   "metadata": {},
   "outputs": [],
   "source": [
    "scroll_to_the_header()\n",
    "player1.click()"
   ]
  },
  {
   "cell_type": "code",
   "execution_count": null,
   "metadata": {},
   "outputs": [],
   "source": [
    "player1.text"
   ]
  },
  {
   "cell_type": "code",
   "execution_count": null,
   "metadata": {},
   "outputs": [],
   "source": [
    "\n",
    "import re\n",
    "\n",
    "def to_real_pos(x: float, y: float, width: float, height: float, court: CourtType):\n",
    "    x_real = (x / width + 0.5) * court.widthM\n",
    "    y_real = (0.5 - y / height) * court.heightM \n",
    "    \n",
    "    return x_real, y_real\n",
    "\n",
    "def extract_first_number(string: str, /):\n",
    "    numbers = re.findall(r'-?\\d+\\.\\d+|-?\\d+', string)\n",
    "    # Convert the first found number to a float and return it\n",
    "    if numbers:\n",
    "        return float(numbers[0])\n",
    "    return None\n",
    "\n",
    "\n",
    "def get_selected_group_elements():\n",
    "    return driver.find_element(By.ID, \"plottedBallsSelected\")\n",
    "\n",
    "def get_balls(passed_balls: set[str], court: CourtType) -> list[Ball]:\n",
    "    height, width = driver.find_element(By.XPATH, '//*[@id=\"CourtDoublesAlley\"]').size.values()\n",
    "    selected = get_selected_group_elements()\n",
    "    \n",
    "    selected_balls = selected.find_elements(By.XPATH, r\".//*[local-name()='g']\")\n",
    "    balls: list[Ball] = []\n",
    "    for ballEl in selected_balls:\n",
    "        passed_balls.add(ballEl.get_attribute('class').strip())\n",
    "        \n",
    "        \n",
    "        components = ballEl.find_elements(By.XPATH, r'./*')\n",
    "        angle = None\n",
    "        while len(components) > 1:\n",
    "            for component in components:\n",
    "                if component.get_attribute('transform') is not None:\n",
    "                    angle = extract_first_number(component.get_attribute('transform'))\n",
    "                    components.remove(component)\n",
    "        if len(components) == 1:\n",
    "            component = components[0]\n",
    "            xlinkhref = component.get_attribute('xlink:href')\n",
    "            typ = xlinkhref.replace('#', '').replace('Selected', '')\n",
    "            \n",
    "            x, y = component.get_attribute('x'), component.get_attribute('y')\n",
    "            x, y = to_real_pos(float(x), float(y), width, height, court)\n",
    "            balls.append(\n",
    "                {'x': x,\n",
    "                'y': y,\n",
    "                'type': typ}\n",
    "                )\n",
    "            \n",
    "            if angle:\n",
    "                balls[-1]['rotate'] = angle\n",
    "        \n",
    "    return balls"
   ]
  },
  {
   "cell_type": "code",
   "execution_count": null,
   "metadata": {},
   "outputs": [],
   "source": [
    "selected = driver.find_element(By.ID, \"plottedBallsSelected\")"
   ]
  },
  {
   "cell_type": "code",
   "execution_count": null,
   "metadata": {},
   "outputs": [],
   "source": [
    "selected_balls = selected.find_elements(By.XPATH, r\".//*[local-name()='g']/*\")\n",
    "[el.get_attribute('xlink:href') for el in selected_balls]\n"
   ]
  },
  {
   "cell_type": "code",
   "execution_count": null,
   "metadata": {},
   "outputs": [],
   "source": [
    "selected_balls = selected.find_elements(By.XPATH, r\".//*[local-name()='g']\")"
   ]
  },
  {
   "cell_type": "code",
   "execution_count": null,
   "metadata": {},
   "outputs": [],
   "source": [
    "ballEl = selected_balls[0]"
   ]
  },
  {
   "cell_type": "code",
   "execution_count": null,
   "metadata": {},
   "outputs": [],
   "source": [
    "component = ballEl.find_elements(By.XPATH, r'./*')[0]"
   ]
  },
  {
   "cell_type": "code",
   "execution_count": null,
   "metadata": {},
   "outputs": [],
   "source": [
    "component.get_attribute('x')"
   ]
  },
  {
   "cell_type": "code",
   "execution_count": null,
   "metadata": {},
   "outputs": [],
   "source": [
    "extract_first_number(component.get_attribute('transform'))"
   ]
  },
  {
   "cell_type": "code",
   "execution_count": null,
   "metadata": {},
   "outputs": [],
   "source": [
    "height, width = driver.find_element(By.XPATH, '//*[@id=\"CourtDoublesAlley\"]').size.values()"
   ]
  },
  {
   "cell_type": "code",
   "execution_count": null,
   "metadata": {},
   "outputs": [],
   "source": [
    "height/ width"
   ]
  },
  {
   "cell_type": "code",
   "execution_count": null,
   "metadata": {},
   "outputs": [],
   "source": [
    "Court.heightM/ Court.widthM"
   ]
  },
  {
   "cell_type": "code",
   "execution_count": null,
   "metadata": {},
   "outputs": [],
   "source": [
    "to_real_pos(0, 0, width, height, Court)"
   ]
  },
  {
   "cell_type": "code",
   "execution_count": null,
   "metadata": {},
   "outputs": [],
   "source": [
    "width, height"
   ]
  },
  {
   "cell_type": "code",
   "execution_count": null,
   "metadata": {},
   "outputs": [],
   "source": [
    "to_real_pos(-460, 96.68677287884401, width, height, Court)"
   ]
  },
  {
   "cell_type": "code",
   "execution_count": null,
   "metadata": {},
   "outputs": [],
   "source": [
    "def format_description(input_string):\n",
    "    # Remove brackets and numbers inside\n",
    "    formatted_string = re.sub(r'\\s*\\([^)]*\\)', '', input_string)\n",
    "    # Capitalize each word\n",
    "    capitalized_string = formatted_string.title()\n",
    "    return capitalized_string.strip()\n"
   ]
  },
  {
   "cell_type": "code",
   "execution_count": null,
   "metadata": {},
   "outputs": [],
   "source": [
    "def get_curret_score_from_pop_up():\n",
    "    game_scores = driver.find_element(By.CLASS_NAME, 'game-scores').text.split('\\n')\n",
    "    set_score_1 = tuple(map(int, driver.find_element(By.CLASS_NAME, 'set-scores-1').text.split('\\n')))\n",
    "\n",
    "    try:\n",
    "        set_score_2 = tuple(map(int, driver.find_element(By.CLASS_NAME, 'set-scores-2').text.split('\\n')))\n",
    "    except:\n",
    "        set_score_2 = None, None\n",
    "        \n",
    "    currentScore: CurrentScore =  {\n",
    "        'player1': {\n",
    "            'game_score': game_scores[0],\n",
    "            'set_score_1':set_score_1[0],\n",
    "            'set_score_2':set_score_2[0]\n",
    "        },\n",
    "        'player2': {\n",
    "            'game_score': game_scores[1],\n",
    "            'set_score_1':set_score_1[1],\n",
    "            'set_score_2':set_score_2[1]\n",
    "        }\n",
    "    }\n",
    "\n",
    "    return currentScore"
   ]
  },
  {
   "cell_type": "code",
   "execution_count": null,
   "metadata": {},
   "outputs": [],
   "source": [
    "def get_selected_shot(passed_balls: set[str], court: CourtType) -> Shot:\n",
    "    \n",
    "    try:\n",
    "        shot_description = format_description(driver.find_element(By.CLASS_NAME, 'shot-description').text)\n",
    "        player, typ = shot_description.lower().replace(' ','').split(\"'s\")\n",
    "    except:\n",
    "        shot_description = \"\"\n",
    "        player = \"\"\n",
    "        typ = \"notavailable\"\n",
    "        \n",
    "    \n",
    "    shot_description, player, typ\n",
    "\n",
    "    shot: Shot =  {'shotDescription': shot_description, 'player': player, 'type': typ}\n",
    "    \n",
    "    # get all attributes\n",
    "    attributes = {}\n",
    "\n",
    "    elements = driver.find_elements(By.XPATH, \"//div[@class='header' and normalize-space(text())]\")\n",
    "    for element in elements:\n",
    "        key = to_camel_case(element.text)\n",
    "        value = sibling_of_div_text(element.text).text\n",
    "        \n",
    "        if value == 'NA':\n",
    "            \n",
    "            value = None\n",
    "        attributes[key] = value\n",
    "\n",
    "\n",
    "    shot['attributes'] = attributes\n",
    "    shot['currentScore'] = get_curret_score_from_pop_up()\n",
    "    shot['balls'] = get_balls(passed_balls, court)\n",
    "        \n",
    "    return shot\n",
    "    "
   ]
  },
  {
   "cell_type": "code",
   "execution_count": null,
   "metadata": {},
   "outputs": [],
   "source": [
    "{'label': 'second serve', 'shots': []}"
   ]
  },
  {
   "cell_type": "code",
   "execution_count": null,
   "metadata": {},
   "outputs": [],
   "source": [
    "def scroll_to_the_court():\n",
    "    scroll_to(driver.find_element(By.CLASS_NAME, 'filter-description-text'))\n",
    "    \n",
    "def scroll_to_the_header():\n",
    "    scroll_to(driver.find_element(By.ID, 'tabCourtVision'))\n",
    "    \n",
    "def scroll_to(el: WebElement):\n",
    "    driver.execute_script(\"arguments[0].scrollIntoView(true);\", el)"
   ]
  },
  {
   "cell_type": "code",
   "execution_count": null,
   "metadata": {},
   "outputs": [],
   "source": [
    "def get_all_current_shots(passed_balls: set[str] | None = None) -> list[Shot]:\n",
    "    current_shots: list[Shot] = []\n",
    "\n",
    "    court_balls = lambda : driver.find_elements(By.XPATH, \"//*[local-name()='g' and starts-with(@class, 'court-ball-')]\")\n",
    "        \n",
    "    passed_balls: set[str] = passed_balls or set()\n",
    "\n",
    "    for i in range(len(court_balls())):\n",
    "        court_ball = court_balls()[i]\n",
    "        \n",
    "        cls = court_ball.get_attribute('class').strip()\n",
    "        if cls in passed_balls:\n",
    "            continue\n",
    "        \n",
    "        \n",
    "        passed_balls.add(cls)\n",
    "        \n",
    "        \n",
    "        \n",
    "        scroll_to_the_court()\n",
    "        court_ball.click()\n",
    "        current_shots.append(get_selected_shot(passed_balls, Court))\n",
    "\n",
    "        time.sleep(1)\n",
    "\n",
    "        get_selected_group_elements().find_element(By.XPATH, r\".//*[local-name()='g']\").click()\n",
    "        \n",
    "        \n",
    "        \n",
    "        time.sleep(1)\n",
    "    print(passed_balls)\n",
    "    return current_shots\n",
    "    "
   ]
  },
  {
   "cell_type": "code",
   "execution_count": null,
   "metadata": {},
   "outputs": [],
   "source": [
    "court_balls = lambda : driver.find_elements(By.XPATH, \"//*[local-name()='g' and starts-with(@class, 'court-ball-')]\")\n",
    "g = court_balls()[5]      \n",
    "driver.execute_script(\"arguments[0].scrollIntoView(true);\", driver.find_element(By.CLASS_NAME, 'filter-description-text'))"
   ]
  },
  {
   "cell_type": "code",
   "execution_count": null,
   "metadata": {},
   "outputs": [],
   "source": [
    "g.click()"
   ]
  },
  {
   "cell_type": "code",
   "execution_count": null,
   "metadata": {},
   "outputs": [],
   "source": [
    "with open('data.json', 'w') as file:\n",
    "    json.dump(get_all_current_shots(),file,indent=4)\n"
   ]
  },
  {
   "cell_type": "code",
   "execution_count": null,
   "metadata": {},
   "outputs": [],
   "source": [
    "player1, player2 = (el.text for el in driver.find_elements(By.XPATH, r\"//div[@class='player-info']/div[@class='name']/a\"))\n",
    "player1, player2"
   ]
  },
  {
   "cell_type": "code",
   "execution_count": null,
   "metadata": {},
   "outputs": [],
   "source": [
    "scroll_to_the_court()"
   ]
  },
  {
   "cell_type": "code",
   "execution_count": null,
   "metadata": {},
   "outputs": [],
   "source": [
    "driver.find_element(By.XPATH, r'//*[@id=\"RGDropDown\"]/div[2]/div/div/div[1]')"
   ]
  },
  {
   "cell_type": "code",
   "execution_count": null,
   "metadata": {},
   "outputs": [],
   "source": [
    "driver.find_element(By.XPATH, r\"//div[contains(@class, 'SetCustomDropdown')]\").click()"
   ]
  },
  {
   "cell_type": "code",
   "execution_count": null,
   "metadata": {},
   "outputs": [],
   "source": [
    "mathes_option = driver.find_element(By.XPATH, r\"/html/body/div[3]/div/div[2]/div/div[4]/div/div/div[3]/div/div[5]/div[1]/div[2]/div[2]/div\")\n",
    "mathes_option.click()"
   ]
  },
  {
   "cell_type": "code",
   "execution_count": null,
   "metadata": {},
   "outputs": [],
   "source": [
    "mathes_option = driver.find_element(By.CLASS_NAME, 'SetCustomDropdown')\n",
    "mathes_option.click()"
   ]
  },
  {
   "cell_type": "code",
   "execution_count": null,
   "metadata": {},
   "outputs": [],
   "source": [
    "mathes_option.find_elements(\n",
    "            By.XPATH,\n",
    "            \"./div[@id='RGDropDown']/div[@class='dropdown-container']/div[@class='sublink-container']/*\",\n",
    "        )"
   ]
  },
  {
   "cell_type": "markdown",
   "metadata": {},
   "source": [
    "### Stroke Summary"
   ]
  },
  {
   "cell_type": "code",
   "execution_count": null,
   "metadata": {},
   "outputs": [],
   "source": [
    "from typing import Mapping\n",
    "\n",
    "\n",
    "class StrokeSummary(TypedDict):\n",
    "    strokes: list[Stroke]\n",
    "    \n",
    "class Stroke(TypedDict):\n",
    "    strokeLabel: str\n",
    "    player1: Hands\n",
    "    player2: Hands\n",
    "    \n",
    "\n",
    "class Hand(TypedDict):\n",
    "    backhand: int\n",
    "    forehand: int    \n",
    "\n",
    "class Hands(Mapping[str, Hand]):\n",
    "    winners: Hand\n",
    "    forcingShots: Hand\n",
    "    unforcedErrors: Hand\n",
    "    ralliesContinued: Hand\n",
    "\n",
    "\n",
    "\n"
   ]
  },
  {
   "cell_type": "code",
   "execution_count": null,
   "metadata": {},
   "outputs": [],
   "source": [
    "data: StrokeSummary = {'strokes': []}\n",
    "\n",
    "stats_wrapper = driver.find_element(By.CLASS_NAME, r\"stats-wrapper\")\n",
    "strokes = stats_wrapper.find_elements(By.XPATH, './*')\n",
    "len(strokes)"
   ]
  },
  {
   "cell_type": "code",
   "execution_count": null,
   "metadata": {},
   "outputs": [],
   "source": [
    "if 'expand all' in driver.find_element(By.CLASS_NAME, 'expand-all').text.lower():\n",
    "    driver.find_element(By.CLASS_NAME, 'expand-all').click()"
   ]
  },
  {
   "cell_type": "code",
   "execution_count": null,
   "metadata": {},
   "outputs": [],
   "source": [
    "handsLabes = [\n",
    "    \"winners\",\n",
    "    \"forcingShots\",\n",
    "    \"unforcedErrors\",\n",
    "    \"ralliesContinued\"\n",
    "]\n"
   ]
  },
  {
   "cell_type": "code",
   "execution_count": null,
   "metadata": {},
   "outputs": [],
   "source": [
    "for stroke in strokes:\n",
    "    strokeData: Stroke = {}\n",
    "    strokeData[\"strokeLabel\"] = stroke.find_element(By.XPATH, \".//div[@class='stroke-label-us']\").text\n",
    "    \n",
    "    \n",
    "    for player, i in (('player1', 1), ('player2', 3)):\n",
    "        handsData: Hands = {}\n",
    "\n",
    "        for hand, shot_label in zip(stroke.find_elements(By.XPATH, rf\"./div/div[1]/div[1]/div[2]/div/div[3]/div[{i}]/div/*\"), handsLabes):\n",
    "            backhand, forehand = map(int, ' '.join(el.text for el in hand.find_elements(By.XPATH, './span')).split())            \n",
    "            handsData[shot_label] = {\"backhand\": backhand, \"forehand\" : forehand}\n",
    "            \n",
    "\n",
    "        strokeData[player] = handsData\n",
    "    data['strokes'].append(strokeData)\n",
    "\n",
    "\n"
   ]
  },
  {
   "cell_type": "code",
   "execution_count": null,
   "metadata": {},
   "outputs": [],
   "source": [
    "from typing import Literal\n",
    "\n",
    "\n",
    "handsData: Hands = {}\n",
    "\n",
    "for hand, shot_label in zip(stroke.find_elements(By.XPATH, r\"./div/div[1]/div[1]/div[2]/div/div[3]/div[1]/div/*\"), handsLabes):\n",
    "    backhand, forehand = map(int, ' '.join(el.text for el in hand.find_elements(By.XPATH, './span')).split())\n",
    "    \n",
    "    print(f\"{backhand=} {forehand=}\", shot_label)\n",
    "    \n",
    "    handsData[shot_label] = {\"backhand\": backhand, \"forehand\" : forehand}\n",
    "    \n",
    "\n",
    "handsData"
   ]
  },
  {
   "cell_type": "code",
   "execution_count": null,
   "metadata": {},
   "outputs": [],
   "source": [
    "# labels = stroke.find_elements(By.XPATH, r\"./div/div[1]/div[1]/div[2]/div/div[3]/div[2]/*\")\n",
    "# labels = [_lbl.text for _lbl in labels]\n",
    "# labels"
   ]
  },
  {
   "cell_type": "code",
   "execution_count": null,
   "metadata": {},
   "outputs": [],
   "source": [
    "for hand in stroke.find_elements(By.XPATH, r\"./div/div[1]/div[1]/div[2]/div/div[3]/div[3]/div/*\"):\n",
    "    backhand, forehand = map(int, ' '.join(el.text for el in hand.find_elements(By.XPATH, './span')).split())\n",
    "    print(f\"{backhand=} {forehand=}\")"
   ]
  },
  {
   "cell_type": "code",
   "execution_count": null,
   "metadata": {},
   "outputs": [],
   "source": [
    "Stroke()['player1']['forcingShots']['forehand']"
   ]
  },
  {
   "cell_type": "markdown",
   "metadata": {},
   "source": [
    "### Rally Analysis"
   ]
  },
  {
   "cell_type": "code",
   "execution_count": null,
   "metadata": {},
   "outputs": [],
   "source": [
    "try:\n",
    "    driver.find_element(By.XPATH, r\"//button[text()='Expand All (X+E)']\").click()\n",
    "except NoSuchElementException:\n",
    "    pass"
   ]
  },
  {
   "cell_type": "code",
   "execution_count": null,
   "metadata": {},
   "outputs": [],
   "source": [
    "class RallyAnalysis(TypedDict):\n",
    "    shortRally: list[Shot]\n",
    "    mediumRally: list[Shot]\n",
    "    longRally: list[Shot]\n",
    "    \n",
    "class Shot(TypedDict):\n",
    "    i: int\n",
    "    label: str\n",
    "    player1: Point\n",
    "    player2: Point\n",
    "        \n",
    "class Point(TypedDict):\n",
    "    type: str\n",
    "    count: int"
   ]
  },
  {
   "cell_type": "code",
   "execution_count": null,
   "metadata": {},
   "outputs": [],
   "source": [
    "rallies = driver.find_element(By.CLASS_NAME, 'rallies')\n",
    "\n",
    "shortRally = driver.find_element(By.ID, \"shortRally\")\n",
    "mediumRally = driver.find_element(By.ID, \"mediumRally\")\n",
    "longRally = driver.find_element(By.ID, \"longRally\")\n",
    "\n",
    "rallies = [shortRally, mediumRally, longRally]\n",
    "ralliesLabels = ['shortRally', 'mediumRally', 'longRally']\n"
   ]
  },
  {
   "cell_type": "code",
   "execution_count": null,
   "metadata": {},
   "outputs": [],
   "source": [
    "data: RallyAnalysis = {}\n",
    "\n",
    "for rally, rally_label in zip(rallies, ralliesLabels):\n",
    "    shotTypes = rally.find_elements(By.XPATH, r\"./div/div[4]/div[2]/div[2]/*\")\n",
    "    data[rally_label] = []\n",
    "    \n",
    "    for i, shot in enumerate(shotTypes):\n",
    "        shotData: Shot = {}\n",
    "        \n",
    "        player1, shot_label, player2 = shot.find_elements(By.XPATH, './*')\n",
    "        \n",
    "        shotData['i'] = i\n",
    "        shotData['label'] = shot_label.find_element(By.XPATH, r\"./div\").text\n",
    "        \n",
    "        for player, playerLabel in ((player1, 'player1'), (player2, 'player2')):\n",
    "            shotData[playerLabel] = []    \n",
    "            \n",
    "            points = player.find_elements(By.XPATH,'./div')\n",
    "            for point in points:\n",
    "                count, type = point.find_element(By.XPATH, r'./div/div').text.split('\\n')\n",
    "                point: Point = {'count': int(count), 'type': type}\n",
    "                shotData[playerLabel].append(point)\n",
    "        \n",
    "        data[rally_label].append(shotData)\n",
    "with open('rally_analysis.json', mode='w') as file:\n",
    "    json.dump(data, file, indent=4)\n"
   ]
  },
  {
   "cell_type": "code",
   "execution_count": null,
   "metadata": {},
   "outputs": [],
   "source": [
    "shot = shotTypes[0]"
   ]
  },
  {
   "cell_type": "code",
   "execution_count": null,
   "metadata": {},
   "outputs": [],
   "source": []
  },
  {
   "cell_type": "code",
   "execution_count": null,
   "metadata": {},
   "outputs": [],
   "source": [
    "player1, shot_label, player2 = shot.find_elements(By.XPATH, './*')"
   ]
  },
  {
   "cell_type": "code",
   "execution_count": null,
   "metadata": {},
   "outputs": [],
   "source": [
    "pointsEl = player1.find_elements(By.XPATH,'./div')"
   ]
  },
  {
   "cell_type": "code",
   "execution_count": null,
   "metadata": {},
   "outputs": [],
   "source": [
    "for pointEl in pointsEl:\n",
    "    print(pointEl.find_element(By.XPATH, r'./div/div').text)\n",
    "    print()"
   ]
  },
  {
   "cell_type": "markdown",
   "metadata": {},
   "source": [
    "### MatchBeats"
   ]
  },
  {
   "cell_type": "code",
   "execution_count": 3,
   "metadata": {},
   "outputs": [],
   "source": [
    "from matchbeats import *"
   ]
  },
  {
   "cell_type": "code",
   "execution_count": null,
   "metadata": {},
   "outputs": [],
   "source": []
  },
  {
   "cell_type": "code",
   "execution_count": 4,
   "metadata": {},
   "outputs": [],
   "source": [
    "State.driver.get(url)"
   ]
  },
  {
   "cell_type": "code",
   "execution_count": 4,
   "metadata": {},
   "outputs": [],
   "source": [
    "driver.get('https://www.atptour.com/en/scores/stats-centre/live/2024/6242/MS005?tab=MatchBeats')"
   ]
  },
  {
   "cell_type": "code",
   "execution_count": 7,
   "metadata": {},
   "outputs": [],
   "source": [
    "driver.find_element(By.XPATH, r\"//button[text()='MatchBeats']\").click()\n"
   ]
  },
  {
   "cell_type": "code",
   "execution_count": 6,
   "metadata": {},
   "outputs": [],
   "source": [
    "cookies_ok()"
   ]
  },
  {
   "cell_type": "code",
   "execution_count": 32,
   "metadata": {},
   "outputs": [],
   "source": [
    "driver.find_element(By.XPATH, r\"//div[@class='dd-label' and text()='Serve']\").click()"
   ]
  },
  {
   "cell_type": "code",
   "execution_count": 18,
   "metadata": {},
   "outputs": [],
   "source": [
    "serve_button = driver.find_elements(By.CLASS_NAME, 'dropdown-item')[-1]\n",
    "serve_button.click()"
   ]
  },
  {
   "cell_type": "code",
   "execution_count": null,
   "metadata": {},
   "outputs": [],
   "source": [
    "options = driver.find_element(By.CLASS_NAME, \"sublink-container\").find_elements(By.XPATH, './*')"
   ]
  },
  {
   "cell_type": "code",
   "execution_count": null,
   "metadata": {},
   "outputs": [],
   "source": [
    "[option.text for option in options]"
   ]
  },
  {
   "cell_type": "code",
   "execution_count": 10,
   "metadata": {},
   "outputs": [],
   "source": [
    "player1, _, player2, _ = driver.find_element(By.CLASS_NAME, 'player-name-block').text.split('\\n')"
   ]
  },
  {
   "cell_type": "code",
   "execution_count": null,
   "metadata": {},
   "outputs": [],
   "source": []
  },
  {
   "cell_type": "code",
   "execution_count": 15,
   "metadata": {},
   "outputs": [],
   "source": [
    "player = player2"
   ]
  },
  {
   "cell_type": "code",
   "execution_count": 20,
   "metadata": {},
   "outputs": [],
   "source": [
    "options[2].click()\n"
   ]
  },
  {
   "cell_type": "code",
   "execution_count": null,
   "metadata": {},
   "outputs": [],
   "source": [
    "setScore = game_block.find_element(By.XPATH, \n",
    "                        r\"./*[contains(@class, 'Card-wrapper')]\"\n",
    "                        r\"/div[contains(@class, 'score-container')]\").text.split('\\n')\n",
    "setScore"
   ]
  },
  {
   "cell_type": "code",
   "execution_count": null,
   "metadata": {},
   "outputs": [],
   "source": [
    "duration = game_block.find_element(By.XPATH,\n",
    "                     r\"./*[contains(@class, 'Card-wrapper')]\" \n",
    "                     r\"//span[@class='duration dur-black']\"\n",
    "                     ).text\n",
    "\n",
    "duration"
   ]
  },
  {
   "cell_type": "code",
   "execution_count": null,
   "metadata": {},
   "outputs": [],
   "source": []
  },
  {
   "cell_type": "code",
   "execution_count": 52,
   "metadata": {},
   "outputs": [],
   "source": [
    "def speed():\n",
    "    return driver.find_element(By.CLASS_NAME, 'kph-value').text\n",
    "\n"
   ]
  },
  {
   "cell_type": "code",
   "execution_count": 8,
   "metadata": {},
   "outputs": [],
   "source": [
    "games: list[Game] =[]"
   ]
  },
  {
   "cell_type": "code",
   "execution_count": 9,
   "metadata": {},
   "outputs": [],
   "source": [
    "\n",
    "for game_block in driver.find_elements(By.CLASS_NAME, 'game-block'):\n",
    "    scroll_to(game_block, align_to_bottom=False)\n",
    "    duration = game_block.find_element(By.XPATH,\n",
    "                     r\"./*[contains(@class, 'Card-wrapper')]\" \n",
    "                     r\"//span[@class='duration dur-black']\"\n",
    "                     ).text\n",
    "\n",
    "    setScore = game_block.find_element(By.XPATH, \n",
    "                        r\"./*[contains(@class, 'Card-wrapper')]\"\n",
    "                        r\"/div[contains(@class, 'score-container')]\").text.split('\\n')\n",
    "\n",
    "    game: Game = {\n",
    "        'id' : game_block.get_attribute('id'),\n",
    "        # 'whoServes': player1\n",
    "        'serves': [],\n",
    "\n",
    "        \n",
    "        'duration': duration,\n",
    "        'setScore': setScore,\n",
    "        }\n",
    "\n",
    "    gs = game_block.find_elements(By.XPATH, \n",
    "            r\"./*[contains(@class, 'game-wrapper')]\"\n",
    "            r\"/*[local-name()='g']\"\n",
    "            # r\"[contains(@class, 'serve-speed-graph-wrapper')]\"\n",
    "            # r\"/*[local-name()='g']\"\n",
    "            # r\"[contains(@class, 'serve-spd')]\"\n",
    "            )\n",
    "    \n",
    "\n",
    "    \n",
    "    for g in gs:\n",
    "        game_score = g.text.split('\\n')\n",
    "        \n",
    "        ActionChains(driver).move_to_element(g).perform()\n",
    "\n",
    "        serve: Serve = {'gameScore': \n",
    "                        list(filter(\n",
    "            lambda item: \n",
    "                item.isdigit() or item == 'Game',\n",
    "            game_score)\n",
    "            )}\n",
    "\n",
    "        try:\n",
    "            rally_length = driver.find_element(By.XPATH, \n",
    "                            r\"//span[contains(text(), 'Rally length')]/..\"\n",
    "                            r\"/span[@class='mb-data-value']\").text\n",
    "            try:\n",
    "                info = driver.find_element(By.CLASS_NAME, 'Info').text\n",
    "            except NoSuchElementException:\n",
    "                info = ''\n",
    "\n",
    "            \n",
    "            serve['rallyLength'] =rally_length\n",
    "            serve['info'] = info\n",
    "        except NoSuchElementException:\n",
    "            try:\n",
    "                serve['speed'] = driver.find_element(By.CLASS_NAME, 'KphSpeed').text\n",
    "                serve['type'] = 'A'\n",
    "            except NoSuchElementException:\n",
    "                # Break point convert\n",
    "                continue\n",
    "        game['serves'].append(serve)\n",
    "\n",
    "    games.append(game)\n",
    "\n",
    "    # [g.get_attribute('id') for g in gs]"
   ]
  },
  {
   "cell_type": "code",
   "execution_count": null,
   "metadata": {},
   "outputs": [],
   "source": [
    "for game_block in driver.find_elements(By.CLASS_NAME, 'game-block'):\n",
    "    scroll_to(game_block, align_to_bottom=False)\n",
    "    id = game_block.get_attribute('id')\n",
    "    circles = game_block.find_elements(By.XPATH, \n",
    "        r\"./*[contains(@class, 'game-wrapper')]\"\n",
    "        r\"/*[local-name()='g']\"\n",
    "        r\"[contains(@class, 'serve-speed-graph-wrapper')]\"\n",
    "        r\"/*[local-name()='g']\"\n",
    "        r\"[contains(@class, 'serve-spd')]\"\n",
    "        )\n",
    "    \n",
    "    for game in games:\n",
    "        if id == game[\"id\"]:\n",
    "            break\n",
    "    else: #nonbreak\n",
    "        raise ValueError(f\"Didn't find game {id} in both player view\")\n",
    "    \n",
    "    for g, serve in zip(circles, game[\"serves\"]):\n",
    "        ActionChains(driver).move_to_element(g).perform()\n",
    "        type, speed = g.text, driver.find_element(By.CLASS_NAME, 'KphSpeed').text\n",
    "        \n",
    "        if 'type' in serve and serve['type'] != type:\n",
    "            print(id, type, serve['type'])\n",
    "            serve['type'] = f\"{serve['type']} ({type})\"\n",
    "\n",
    "        serve['type'] = type\n",
    "        serve[\"speed\"] = speed\n",
    "    \n",
    "    game[\"whoServes\"] = player\n",
    "    "
   ]
  },
  {
   "cell_type": "code",
   "execution_count": null,
   "metadata": {},
   "outputs": [],
   "source": [
    "player"
   ]
  },
  {
   "cell_type": "code",
   "execution_count": null,
   "metadata": {},
   "outputs": [],
   "source": [
    "[c.text for c in circles]"
   ]
  },
  {
   "cell_type": "code",
   "execution_count": null,
   "metadata": {},
   "outputs": [],
   "source": [
    "import http"
   ]
  },
  {
   "cell_type": "code",
   "execution_count": 22,
   "metadata": {},
   "outputs": [],
   "source": [
    "with open('output.json', mode='w') as f:\n",
    "    json.dump(games, f,indent=4)"
   ]
  },
  {
   "cell_type": "code",
   "execution_count": null,
   "metadata": {},
   "outputs": [],
   "source": [
    "with open('hello/my/name/is/fuck.txt', 'w') as f:\n",
    "    f.write('hi!')"
   ]
  },
  {
   "cell_type": "code",
   "execution_count": 1,
   "metadata": {},
   "outputs": [],
   "source": [
    "from stroke_summary import *"
   ]
  },
  {
   "cell_type": "code",
   "execution_count": null,
   "metadata": {},
   "outputs": [],
   "source": [
    "parse_stroke_summary.__annotations__"
   ]
  },
  {
   "cell_type": "code",
   "execution_count": null,
   "metadata": {},
   "outputs": [],
   "source": [
    "[el.get_attribute('class') for el in game_block.find_element(By.XPATH, r\"./*[contains(@class, 'game-wrapper')]\").find_elements(By.XPATH, './*')\n",
    "]"
   ]
  },
  {
   "cell_type": "code",
   "execution_count": null,
   "metadata": {},
   "outputs": [],
   "source": [
    "[el.get_attribute('class') for el in game_block.find_elements(By.XPATH, r\"./*\")]"
   ]
  },
  {
   "cell_type": "code",
   "execution_count": 4,
   "metadata": {},
   "outputs": [],
   "source": [
    "*x, a, b,c = 'абвгдеёж'"
   ]
  },
  {
   "cell_type": "code",
   "execution_count": null,
   "metadata": {},
   "outputs": [],
   "source": [
    "x, a, b, c"
   ]
  },
  {
   "cell_type": "code",
   "execution_count": 1,
   "metadata": {},
   "outputs": [],
   "source": [
    "from imports import *"
   ]
  },
  {
   "cell_type": "code",
   "execution_count": null,
   "metadata": {},
   "outputs": [],
   "source": []
  }
 ],
 "metadata": {
  "kernelspec": {
   "display_name": ".venv",
   "language": "python",
   "name": "python3"
  },
  "language_info": {
   "codemirror_mode": {
    "name": "ipython",
    "version": 3
   },
   "file_extension": ".py",
   "mimetype": "text/x-python",
   "name": "python",
   "nbconvert_exporter": "python",
   "pygments_lexer": "ipython3",
   "version": "3.12.6"
  }
 },
 "nbformat": 4,
 "nbformat_minor": 2
}
