{
 "cells": [
  {
   "cell_type": "code",
   "execution_count": 1,
   "metadata": {},
   "outputs": [],
   "source": [
    "from typing import TypedDict, NamedTuple\n",
    "from __future__ import annotations"
   ]
  },
  {
   "cell_type": "code",
   "execution_count": 2,
   "metadata": {},
   "outputs": [],
   "source": [
    "from atptour import *"
   ]
  },
  {
   "cell_type": "code",
   "execution_count": null,
   "metadata": {},
   "outputs": [],
   "source": [
    "driver.find_element(By.XPATH, \"//button[text()='2D']\").click()\n"
   ]
  },
  {
   "cell_type": "code",
   "execution_count": null,
   "metadata": {},
   "outputs": [],
   "source": [
    "stroke_dropdown = driver.find_element(By.XPATH, \"//div[contains(@class, 'DropdownFixWidth')]\")\n",
    "stroke_dropdown.click()"
   ]
  },
  {
   "cell_type": "code",
   "execution_count": null,
   "metadata": {},
   "outputs": [],
   "source": [
    "options = stroke_dropdown.find_elements(By.XPATH, \"./div[@id='RGDropDown']/div[@class='dropdown-container']/div[@class='sublink-container']/*\")"
   ]
  },
  {
   "cell_type": "code",
   "execution_count": null,
   "metadata": {},
   "outputs": [],
   "source": [
    "for option in options:\n",
    "    print (option.text)\n",
    "    \n",
    "    \n",
    "option.click()"
   ]
  },
  {
   "cell_type": "code",
   "execution_count": 3,
   "metadata": {},
   "outputs": [],
   "source": [
    "def to_camel_case(_s: str, /) -> str:\n",
    "    # Split the string into words\n",
    "    words = _s.split()\n",
    "    \n",
    "    # Convert the first word to lowercase and keep the rest of the words capitalized\n",
    "    camel_case = words[0].lower() + ''.join(word.capitalize() for word in words[1:])\n",
    "    \n",
    "    return camel_case\n",
    "\n",
    "def sibling_of_div_text(s: str, /):\n",
    "    s = s.replace('*', '')\n",
    "    return driver.find_element(By.XPATH, rf\"//div[contains(normalize-space(text()), '{s}')]/following-sibling::div[@class]\")\n",
    "\n",
    "def close_pop_ups():\n",
    "    active_element = driver.switch_to.active_element\n",
    "    active_element.send_keys(Keys.ESCAPE)"
   ]
  },
  {
   "cell_type": "code",
   "execution_count": 4,
   "metadata": {},
   "outputs": [],
   "source": [
    "class Dictable:\n",
    "    @classmethod\n",
    "    def to_dict(cls):\n",
    "        return {k: v for k, v in cls.__dict__.items() if not k.startswith('_')}\n",
    "    \n",
    "class Court(Dictable):\n",
    "    heightM: float = 8.23\n",
    "    widthM: float = 23.77\n",
    "    \n",
    "    \n",
    "CourtType = type[Court] | Court"
   ]
  },
  {
   "cell_type": "code",
   "execution_count": 6,
   "metadata": {},
   "outputs": [],
   "source": [
    "from typing import NotRequired  \n",
    "from typing import Literal\n",
    "\n",
    "\n",
    "class CourtVision(TypedDict):\n",
    "    playerSets: list[PlayerSet]\n",
    "\n",
    "\n",
    "class PlayerSet(TypedDict):\n",
    "    player: str\n",
    "    player_index: Literal[1, 2]\n",
    "    set: Literal[1, 2]\n",
    "    events: list[Shots]\n",
    "    \n",
    "class Shots(TypedDict):\n",
    "    label: str\n",
    "    shots: list[Shot]\n",
    "    \n",
    "  \n",
    "class Shot(TypedDict):\n",
    "    shot_description: str\n",
    "    type: str\n",
    "    player: str\n",
    "\n",
    "    balls: list[Ball]\n",
    "    \n",
    "    currentScore: CurrentScore\n",
    "    attributes: dict[str, str]\n",
    "\n",
    "\n",
    "class Ball(TypedDict):\n",
    "    type: str\n",
    "    x: float\n",
    "    y: float\n",
    "    rotate: NotRequired[float]\n",
    "    \n",
    "\n",
    "class CurrentScore(TypedDict):\n",
    "    player1: Score\n",
    "    player2: Score\n",
    "    \n",
    "    \n",
    "class Score(TypedDict):\n",
    "    game_score: int\n",
    "    set_score_1: int\n",
    "    set_score_2: int | None"
   ]
  },
  {
   "cell_type": "code",
   "execution_count": null,
   "metadata": {},
   "outputs": [],
   "source": []
  },
  {
   "cell_type": "code",
   "execution_count": 7,
   "metadata": {},
   "outputs": [],
   "source": []
  },
  {
   "cell_type": "code",
   "execution_count": 9,
   "metadata": {},
   "outputs": [],
   "source": [
    "\n",
    "import re\n",
    "\n",
    "def to_real_pos(x: float, y: float, width: float, height: float, court: CourtType):\n",
    "    x_real = (x / width + 0.5) * court.widthM\n",
    "    y_real = (0.5 - y / height) * court.heightM \n",
    "    \n",
    "    return x_real, y_real\n",
    "\n",
    "def extract_first_number(string: str, /):\n",
    "    numbers = re.findall(r'-?\\d+\\.\\d+|-?\\d+', string)\n",
    "    # Convert the first found number to a float and return it\n",
    "    if numbers:\n",
    "        return float(numbers[0])\n",
    "    return None\n",
    "\n",
    "\n",
    "def get_selected_group_elements():\n",
    "    return driver.find_element(By.ID, \"plottedBallsSelected\")\n",
    "\n",
    "def get_balls(passed_balls: set[str], court: CourtType) -> list[Ball]:\n",
    "    height, width = driver.find_element(By.XPATH, '//*[@id=\"CourtDoublesAlley\"]').size.values()\n",
    "    selected = get_selected_group_elements()\n",
    "    \n",
    "    selected_balls = selected.find_elements(By.XPATH, r\".//*[local-name()='g']\")\n",
    "    balls: list[Ball] = []\n",
    "    for ballEl in selected_balls:\n",
    "        passed_balls.add(ballEl.get_attribute('class'))\n",
    "        \n",
    "        \n",
    "        components = ballEl.find_elements(By.XPATH, r'./*')\n",
    "        angle = None\n",
    "        while len(components) > 1:\n",
    "            for component in components:\n",
    "                if component.get_attribute('transform') is not None:\n",
    "                    angle = extract_first_number(component.get_attribute('transform'))\n",
    "                    components.remove(component)\n",
    "        if len(components) == 1:\n",
    "            component = components[0]\n",
    "            xlinkhref = component.get_attribute('xlink:href')\n",
    "            typ = xlinkhref.replace('#', '').replace('Selected', '')\n",
    "            \n",
    "            x, y = component.get_attribute('x'), component.get_attribute('y')\n",
    "            x, y = to_real_pos(float(x), float(y), width, height, court)\n",
    "            balls.append(\n",
    "                {'x': x,\n",
    "                'y': y,\n",
    "                'type': typ}\n",
    "                )\n",
    "            \n",
    "            if angle:\n",
    "                balls[-1]['rotate'] = angle\n",
    "        \n",
    "    return balls"
   ]
  },
  {
   "cell_type": "code",
   "execution_count": null,
   "metadata": {},
   "outputs": [],
   "source": [
    "shots: Shots = {'label': 'second serve', 'shots': []}\n",
    "\n",
    "court_balls = lambda : driver.find_elements(By.XPATH, \"//*[local-name()='g' and starts-with(@class, 'court-ball-')]\")\n",
    "    \n",
    "passed_balls: set[str] = set()\n",
    "\n",
    "for i in range(len(court_balls())):\n",
    "    court_ball = court_balls()[i]\n",
    "    \n",
    "    cls = court_ball.get_attribute('class')\n",
    "    if cls in passed_balls:\n",
    "        continue\n",
    "    \n",
    "    shot: Shot = {}\n",
    "    \n",
    "    passed_balls.append(cls)\n",
    "        \n",
    "    child = court_ball.find_element(By.XPATH, r'./*')\n",
    "    x, y = child.get_attribute('x'), child.get_attribute('y')\n",
    "    x, y = float(x), float(y)\n",
    "    x, y = to_real_pos(x, y, Court)\n",
    "    \n",
    "    \n",
    "    \n",
    "    court_ball.click()\n",
    "    \n",
    "    \n",
    "    \n",
    "\n",
    "    time.sleep(1)\n",
    "\n",
    "    get_selected_group_elements().click()\n",
    "    \n",
    "    \n",
    "    \n",
    "    time.sleep(1)\n",
    "    "
   ]
  },
  {
   "cell_type": "code",
   "execution_count": null,
   "metadata": {},
   "outputs": [],
   "source": [
    "def get_balls():\n",
    "    selected = driver.find_element(By.ID, \"plottedBallsSelected\")\n",
    "    selected_balls = selected.find_elements(By.XPATH, r\".//*[local-name()='g']/*\")\n",
    "    \n",
    "    "
   ]
  },
  {
   "cell_type": "code",
   "execution_count": null,
   "metadata": {},
   "outputs": [],
   "source": [
    "selected = driver.find_element(By.ID, \"plottedBallsSelected\")"
   ]
  },
  {
   "cell_type": "code",
   "execution_count": null,
   "metadata": {},
   "outputs": [],
   "source": [
    "selected_balls = selected.find_elements(By.XPATH, r\".//*[local-name()='g']/*\")\n",
    "[el.get_attribute('xlink:href') for el in selected_balls]\n"
   ]
  },
  {
   "cell_type": "code",
   "execution_count": null,
   "metadata": {},
   "outputs": [],
   "source": [
    "selected_balls = selected.find_elements(By.XPATH, r\".//*[local-name()='g']\")"
   ]
  },
  {
   "cell_type": "code",
   "execution_count": null,
   "metadata": {},
   "outputs": [],
   "source": [
    "ballEl = selected_balls[0]"
   ]
  },
  {
   "cell_type": "code",
   "execution_count": null,
   "metadata": {},
   "outputs": [],
   "source": [
    "component = ballEl.find_elements(By.XPATH, r'./*')[0]"
   ]
  },
  {
   "cell_type": "code",
   "execution_count": null,
   "metadata": {},
   "outputs": [],
   "source": [
    "component.get_attribute('x')"
   ]
  },
  {
   "cell_type": "code",
   "execution_count": null,
   "metadata": {},
   "outputs": [],
   "source": [
    "extract_first_number(component.get_attribute('transform'))"
   ]
  },
  {
   "cell_type": "code",
   "execution_count": null,
   "metadata": {},
   "outputs": [],
   "source": [
    "height, width = driver.find_element(By.XPATH, '//*[@id=\"CourtDoublesAlley\"]').size.values()"
   ]
  },
  {
   "cell_type": "code",
   "execution_count": null,
   "metadata": {},
   "outputs": [],
   "source": [
    "height/ width"
   ]
  },
  {
   "cell_type": "code",
   "execution_count": null,
   "metadata": {},
   "outputs": [],
   "source": [
    "Court.heightM/ Court.widthM"
   ]
  },
  {
   "cell_type": "code",
   "execution_count": null,
   "metadata": {},
   "outputs": [],
   "source": [
    "to_real_pos(0, 0, width, height, Court)"
   ]
  },
  {
   "cell_type": "code",
   "execution_count": null,
   "metadata": {},
   "outputs": [],
   "source": [
    "width, height"
   ]
  },
  {
   "cell_type": "code",
   "execution_count": null,
   "metadata": {},
   "outputs": [],
   "source": [
    "to_real_pos(-460, 96.68677287884401, width, height, Court)"
   ]
  },
  {
   "cell_type": "code",
   "execution_count": null,
   "metadata": {},
   "outputs": [],
   "source": []
  },
  {
   "cell_type": "code",
   "execution_count": null,
   "metadata": {},
   "outputs": [],
   "source": [
    "def get_curret_score_from_pop_up():\n",
    "    game_scores = driver.find_element(By.CLASS_NAME, 'game-scores').text.split('\\n')\n",
    "    set_score_1 = tuple(map(int, driver.find_element(By.CLASS_NAME, 'set-scores-1').text.split('\\n')))\n",
    "\n",
    "    try:\n",
    "        set_score_2 = tuple(map(int, driver.find_element(By.CLASS_NAME, 'set-scores-2').text.split('\\n')))\n",
    "    except:\n",
    "        set_score_2 = None, None\n",
    "        \n",
    "    currentScore: CurrentScore =  {\n",
    "        'player1': {\n",
    "            'game_score': game_scores[0],\n",
    "            'set_score_1':set_score_1[0],\n",
    "            'set_score_2':set_score_2[0]\n",
    "        },\n",
    "        'player2': {\n",
    "            'game_score': game_scores[1],\n",
    "            'set_score_1':set_score_1[1],\n",
    "            'set_score_2':set_score_2[1]\n",
    "        }\n",
    "    }\n",
    "\n",
    "    return currentScore"
   ]
  },
  {
   "cell_type": "code",
   "execution_count": null,
   "metadata": {},
   "outputs": [],
   "source": [
    "def get_current_shot(x: float, y: float):\n",
    "    shot_description = driver.find_element(By.CLASS_NAME, 'shot-description').text\n",
    "    player, typ = shot_description.lower().replace(' ','').split(\"'s\")\n",
    "\n",
    "    shot_description, player, typ\n",
    "\n",
    "    shot: Shot =  {'shot_description': shot_description, 'player': player, 'type': typ}\n",
    "    \n",
    "    \n",
    "    # get all attributes\n",
    "    attributes = {}\n",
    "\n",
    "    elements = driver.find_elements(By.XPATH, \"//div[@class='header' and normalize-space(text())]\")\n",
    "    for element in elements:\n",
    "        key = to_camel_case(element.text)\n",
    "        value = sibling_of_div_text(element.text).text\n",
    "        \n",
    "        if value == 'NA':\n",
    "            \n",
    "            value = None\n",
    "        attributes[key] = value\n",
    "\n",
    "\n",
    "    shot['attributes'] = attributes\n",
    "    shot['currentScore'] = get_curret_score_from_pop_up()\n",
    "    shot['balls'] = []\n",
    "    \n",
    "    shot['position'] = {'x' : x, 'y': y}\n",
    "    \n",
    "    return shot\n",
    "    "
   ]
  },
  {
   "cell_type": "code",
   "execution_count": null,
   "metadata": {},
   "outputs": [],
   "source": [
    "get_current_shot()"
   ]
  },
  {
   "cell_type": "code",
   "execution_count": null,
   "metadata": {},
   "outputs": [],
   "source": [
    "player1, player2 = (el.text for el in driver.find_elements(By.XPATH, r\"//div[@class='player-info']/div[@class='name']/a\"))\n",
    "player1, player2"
   ]
  },
  {
   "cell_type": "code",
   "execution_count": null,
   "metadata": {},
   "outputs": [],
   "source": [
    "import re\n",
    "\n",
    "def extract_numbers_from_str(s: str, /):\n",
    "    # Use regular expression to find all numbers inside brackets\n",
    "    numbers = re.findall(r'\\((\\d+)\\)', s)\n",
    "    # Convert the numbers from strings to integers and return as a tuple\n",
    "    return tuple(map(int, numbers))\n"
   ]
  },
  {
   "cell_type": "markdown",
   "metadata": {},
   "source": [
    "### Stroke Summary"
   ]
  },
  {
   "cell_type": "code",
   "execution_count": null,
   "metadata": {},
   "outputs": [],
   "source": [
    "from typing import Mapping\n",
    "\n",
    "\n",
    "class StrokeSummary(TypedDict):\n",
    "    strokes: list[Stroke]\n",
    "    \n",
    "class Stroke(TypedDict):\n",
    "    strokeLabel: str\n",
    "    player1: Hands\n",
    "    player2: Hands\n",
    "    \n",
    "\n",
    "class Hand(TypedDict):\n",
    "    backhand: int\n",
    "    forehand: int    \n",
    "\n",
    "class Hands(Mapping[str, Hand]):\n",
    "    winners: Hand\n",
    "    forcingShots: Hand\n",
    "    unforcedErrors: Hand\n",
    "    ralliesContinued: Hand\n",
    "\n",
    "\n",
    "\n"
   ]
  },
  {
   "cell_type": "code",
   "execution_count": null,
   "metadata": {},
   "outputs": [],
   "source": [
    "data: StrokeSummary = {'strokes': []}\n",
    "\n",
    "stats_wrapper = driver.find_element(By.CLASS_NAME, r\"stats-wrapper\")\n",
    "strokes = stats_wrapper.find_elements(By.XPATH, './*')\n",
    "len(strokes)"
   ]
  },
  {
   "cell_type": "code",
   "execution_count": null,
   "metadata": {},
   "outputs": [],
   "source": [
    "if 'expand all' in driver.find_element(By.CLASS_NAME, 'expand-all').text.lower():\n",
    "    driver.find_element(By.CLASS_NAME, 'expand-all').click()"
   ]
  },
  {
   "cell_type": "code",
   "execution_count": null,
   "metadata": {},
   "outputs": [],
   "source": [
    "handsLabes = [\n",
    "    \"winners\",\n",
    "    \"forcingShots\",\n",
    "    \"unforcedErrors\",\n",
    "    \"ralliesContinued\"\n",
    "]\n"
   ]
  },
  {
   "cell_type": "code",
   "execution_count": null,
   "metadata": {},
   "outputs": [],
   "source": [
    "for stroke in strokes:\n",
    "    strokeData: Stroke = {}\n",
    "    strokeData[\"strokeLabel\"] = stroke.find_element(By.XPATH, \".//div[@class='stroke-label-us']\").text\n",
    "    \n",
    "    \n",
    "    for player, i in (('player1', 1), ('player2', 3)):\n",
    "        handsData: Hands = {}\n",
    "\n",
    "        for hand, shot_label in zip(stroke.find_elements(By.XPATH, rf\"./div/div[1]/div[1]/div[2]/div/div[3]/div[{i}]/div/*\"), handsLabes):\n",
    "            backhand, forehand = map(int, ' '.join(el.text for el in hand.find_elements(By.XPATH, './span')).split())            \n",
    "            handsData[shot_label] = {\"backhand\": backhand, \"forehand\" : forehand}\n",
    "            \n",
    "\n",
    "        strokeData[player] = handsData\n",
    "    data['strokes'].append(strokeData)\n",
    "\n",
    "\n"
   ]
  },
  {
   "cell_type": "code",
   "execution_count": null,
   "metadata": {},
   "outputs": [],
   "source": [
    "from typing import Literal\n",
    "\n",
    "\n",
    "handsData: Hands = {}\n",
    "\n",
    "for hand, shot_label in zip(stroke.find_elements(By.XPATH, r\"./div/div[1]/div[1]/div[2]/div/div[3]/div[1]/div/*\"), handsLabes):\n",
    "    backhand, forehand = map(int, ' '.join(el.text for el in hand.find_elements(By.XPATH, './span')).split())\n",
    "    \n",
    "    print(f\"{backhand=} {forehand=}\", shot_label)\n",
    "    \n",
    "    handsData[shot_label] = {\"backhand\": backhand, \"forehand\" : forehand}\n",
    "    \n",
    "\n",
    "handsData"
   ]
  },
  {
   "cell_type": "code",
   "execution_count": null,
   "metadata": {},
   "outputs": [],
   "source": [
    "# labels = stroke.find_elements(By.XPATH, r\"./div/div[1]/div[1]/div[2]/div/div[3]/div[2]/*\")\n",
    "# labels = [_lbl.text for _lbl in labels]\n",
    "# labels"
   ]
  },
  {
   "cell_type": "code",
   "execution_count": null,
   "metadata": {},
   "outputs": [],
   "source": [
    "for hand in stroke.find_elements(By.XPATH, r\"./div/div[1]/div[1]/div[2]/div/div[3]/div[3]/div/*\"):\n",
    "    backhand, forehand = map(int, ' '.join(el.text for el in hand.find_elements(By.XPATH, './span')).split())\n",
    "    print(f\"{backhand=} {forehand=}\")"
   ]
  },
  {
   "cell_type": "code",
   "execution_count": null,
   "metadata": {},
   "outputs": [],
   "source": [
    "Stroke()['player1']['forcingShots']['forehand']"
   ]
  },
  {
   "cell_type": "markdown",
   "metadata": {},
   "source": [
    "### Rally Analysis"
   ]
  },
  {
   "cell_type": "code",
   "execution_count": null,
   "metadata": {},
   "outputs": [],
   "source": [
    "try:\n",
    "    driver.find_element(By.XPATH, r\"//button[text()='Expand All (X+E)']\").click()\n",
    "except NoSuchElementException:\n",
    "    pass"
   ]
  },
  {
   "cell_type": "code",
   "execution_count": null,
   "metadata": {},
   "outputs": [],
   "source": [
    "class RallyAnalysis(TypedDict):\n",
    "    shortRally: list[Shot]\n",
    "    mediumRally: list[Shot]\n",
    "    longRally: list[Shot]\n",
    "    \n",
    "class Shot(TypedDict):\n",
    "    i: int\n",
    "    label: str\n",
    "    player1: Point\n",
    "    player2: Point\n",
    "        \n",
    "class Point(TypedDict):\n",
    "    type: str\n",
    "    count: int"
   ]
  },
  {
   "cell_type": "code",
   "execution_count": null,
   "metadata": {},
   "outputs": [],
   "source": [
    "rallies = driver.find_element(By.CLASS_NAME, 'rallies')\n",
    "\n",
    "shortRally = driver.find_element(By.ID, \"shortRally\")\n",
    "mediumRally = driver.find_element(By.ID, \"mediumRally\")\n",
    "longRally = driver.find_element(By.ID, \"longRally\")\n",
    "\n",
    "rallies = [shortRally, mediumRally, longRally]\n",
    "ralliesLabels = ['shortRally', 'mediumRally', 'longRally']\n"
   ]
  },
  {
   "cell_type": "code",
   "execution_count": null,
   "metadata": {},
   "outputs": [],
   "source": [
    "data: RallyAnalysis = {}\n",
    "\n",
    "for rally, rally_label in zip(rallies, ralliesLabels):\n",
    "    shots = rally.find_elements(By.XPATH, r\"./div/div[4]/div[2]/div[2]/*\")\n",
    "    data[rally_label] = []\n",
    "    \n",
    "    for i, shot in enumerate(shots):\n",
    "        shotData: Shot = {}\n",
    "        \n",
    "        player1, shot_label, player2 = shot.find_elements(By.XPATH, './*')\n",
    "        \n",
    "        shotData['i'] = i\n",
    "        shotData['label'] = shot_label.find_element(By.XPATH, r\"./div\").text\n",
    "        \n",
    "        for player, playerLabel in ((player1, 'player1'), (player2, 'player2')):\n",
    "            shotData[playerLabel] = []    \n",
    "            \n",
    "            points = player.find_elements(By.XPATH,'./div')\n",
    "            for point in points:\n",
    "                count, type = point.find_element(By.XPATH, r'./div/div').text.split('\\n')\n",
    "                point: Point = {'count': int(count), 'type': type}\n",
    "                shotData[playerLabel].append(point)\n",
    "        \n",
    "        data[rally_label].append(shotData)\n",
    "with open('rally_analysis.json', mode='w') as file:\n",
    "    json.dump(data, file, indent=4)\n"
   ]
  },
  {
   "cell_type": "code",
   "execution_count": null,
   "metadata": {},
   "outputs": [],
   "source": [
    "shot = shots[0]"
   ]
  },
  {
   "cell_type": "code",
   "execution_count": null,
   "metadata": {},
   "outputs": [],
   "source": []
  },
  {
   "cell_type": "code",
   "execution_count": null,
   "metadata": {},
   "outputs": [],
   "source": [
    "player1, shot_label, player2 = shot.find_elements(By.XPATH, './*')"
   ]
  },
  {
   "cell_type": "code",
   "execution_count": null,
   "metadata": {},
   "outputs": [],
   "source": [
    "pointsEl = player1.find_elements(By.XPATH,'./div')"
   ]
  },
  {
   "cell_type": "code",
   "execution_count": null,
   "metadata": {},
   "outputs": [],
   "source": [
    "for pointEl in pointsEl:\n",
    "    print(pointEl.find_element(By.XPATH, r'./div/div').text)\n",
    "    print()"
   ]
  },
  {
   "cell_type": "code",
   "execution_count": null,
   "metadata": {},
   "outputs": [],
   "source": []
  }
 ],
 "metadata": {
  "kernelspec": {
   "display_name": ".venv",
   "language": "python",
   "name": "python3"
  },
  "language_info": {
   "codemirror_mode": {
    "name": "ipython",
    "version": 3
   },
   "file_extension": ".py",
   "mimetype": "text/x-python",
   "name": "python",
   "nbconvert_exporter": "python",
   "pygments_lexer": "ipython3",
   "version": "3.12.5"
  }
 },
 "nbformat": 4,
 "nbformat_minor": 2
}
