{
 "cells": [
  {
   "cell_type": "code",
   "execution_count": 3,
   "metadata": {},
   "outputs": [
    {
     "data": {
      "text/html": [
       "<pre style=\"white-space:pre;overflow-x:auto;line-height:normal;font-family:Menlo,'DejaVu Sans Mono',consolas,'Courier New',monospace\"><span style=\"font-style: italic\">           Tournaments and Matches Analytics           </span>\n",
       "┏━━━━━━━━━━━━━━━━━━━━━━━━━━━━━━━━┳━━━━━━━┳━━━━━━━━━━━━┓\n",
       "┃<span style=\"color: #800080; text-decoration-color: #800080; font-weight: bold\"> Category                       </span>┃<span style=\"color: #800080; text-decoration-color: #800080; font-weight: bold\"> Count </span>┃<span style=\"color: #800080; text-decoration-color: #800080; font-weight: bold\"> Percentage </span>┃\n",
       "┡━━━━━━━━━━━━━━━━━━━━━━━━━━━━━━━━╇━━━━━━━╇━━━━━━━━━━━━┩\n",
       "│<span style=\"color: #7f7f7f; text-decoration-color: #7f7f7f\"> Total Tournaments              </span>│    47 │            │\n",
       "│<span style=\"color: #7f7f7f; text-decoration-color: #7f7f7f\"> Total Matches                  </span>│  2406 │            │\n",
       "│<span style=\"color: #7f7f7f; text-decoration-color: #7f7f7f\"> courtVision Parsed             </span>│     0 │      0.00% │\n",
       "│<span style=\"color: #7f7f7f; text-decoration-color: #7f7f7f\"> matchBeats Parsed              </span>│    18 │      0.75% │\n",
       "│<span style=\"color: #7f7f7f; text-decoration-color: #7f7f7f\"> rallyAnalysis Parsed           </span>│    21 │      0.87% │\n",
       "│<span style=\"color: #7f7f7f; text-decoration-color: #7f7f7f\"> stats Parsed                   </span>│    21 │      0.87% │\n",
       "│<span style=\"color: #7f7f7f; text-decoration-color: #7f7f7f\"> strokeSummary Parsed           </span>│    21 │      0.87% │\n",
       "└────────────────────────────────┴───────┴────────────┘\n",
       "</pre>\n"
      ],
      "text/plain": [
       "\u001b[3m           Tournaments and Matches Analytics           \u001b[0m\n",
       "┏━━━━━━━━━━━━━━━━━━━━━━━━━━━━━━━━┳━━━━━━━┳━━━━━━━━━━━━┓\n",
       "┃\u001b[1;35m \u001b[0m\u001b[1;35mCategory                      \u001b[0m\u001b[1;35m \u001b[0m┃\u001b[1;35m \u001b[0m\u001b[1;35mCount\u001b[0m\u001b[1;35m \u001b[0m┃\u001b[1;35m \u001b[0m\u001b[1;35mPercentage\u001b[0m\u001b[1;35m \u001b[0m┃\n",
       "┡━━━━━━━━━━━━━━━━━━━━━━━━━━━━━━━━╇━━━━━━━╇━━━━━━━━━━━━┩\n",
       "│\u001b[2m \u001b[0m\u001b[2mTotal Tournaments             \u001b[0m\u001b[2m \u001b[0m│    47 │            │\n",
       "│\u001b[2m \u001b[0m\u001b[2mTotal Matches                 \u001b[0m\u001b[2m \u001b[0m│  2406 │            │\n",
       "│\u001b[2m \u001b[0m\u001b[2mcourtVision Parsed            \u001b[0m\u001b[2m \u001b[0m│     0 │      0.00% │\n",
       "│\u001b[2m \u001b[0m\u001b[2mmatchBeats Parsed             \u001b[0m\u001b[2m \u001b[0m│    18 │      0.75% │\n",
       "│\u001b[2m \u001b[0m\u001b[2mrallyAnalysis Parsed          \u001b[0m\u001b[2m \u001b[0m│    21 │      0.87% │\n",
       "│\u001b[2m \u001b[0m\u001b[2mstats Parsed                  \u001b[0m\u001b[2m \u001b[0m│    21 │      0.87% │\n",
       "│\u001b[2m \u001b[0m\u001b[2mstrokeSummary Parsed          \u001b[0m\u001b[2m \u001b[0m│    21 │      0.87% │\n",
       "└────────────────────────────────┴───────┴────────────┘\n"
      ]
     },
     "metadata": {},
     "output_type": "display_data"
    }
   ],
   "source": [
    "import json\n",
    "from rich.console import Console\n",
    "from rich.table import Table\n",
    "\n",
    "# Load the data from your JSON file\n",
    "with open(\"temp/traverse.json\", \"r\") as f:\n",
    "    data = json.load(f)\n",
    "\n",
    "console = Console()\n",
    "\n",
    "# Variables to keep track of statistics\n",
    "total_tournaments = len(data[\"tournaments\"])\n",
    "total_matches = 0\n",
    "parsed_fields = {\"courtVision\": 0, \"matchBeats\": 0, \"rallyAnalysis\": 0, \"stats\": 0, \"strokeSummary\": 0}\n",
    "total_fields = len(parsed_fields)\n",
    "\n",
    "# Iterate over the tournaments and matches to gather stats\n",
    "for tournament in data[\"tournaments\"]:\n",
    "    matches = tournament[\"matches\"]\n",
    "    total_matches += len(matches)\n",
    "    for match in matches:\n",
    "        for field in parsed_fields.keys():\n",
    "            if match[\"isParsed\"].get(field, False):\n",
    "                parsed_fields[field] += 1\n",
    "\n",
    "# Calculate percentages\n",
    "def percentage(part, whole):\n",
    "    return 100 * float(part)/float(whole)\n",
    "\n",
    "# Create a table for output\n",
    "table = Table(title=\"Tournaments and Matches Analytics\", show_header=True, header_style=\"bold magenta\")\n",
    "\n",
    "# Add columns\n",
    "table.add_column(\"Category\", style=\"dim\", width=30)\n",
    "table.add_column(\"Count\", justify=\"right\")\n",
    "table.add_column(\"Percentage\", justify=\"right\")\n",
    "\n",
    "# Populate table with data\n",
    "table.add_row(\"Total Tournaments\", str(total_tournaments), \"\")\n",
    "table.add_row(\"Total Matches\", str(total_matches), \"\")\n",
    "for field, count in parsed_fields.items():\n",
    "    table.add_row(f\"{field} Parsed\", str(count), f\"{percentage(count, total_matches):.2f}%\")\n",
    "\n",
    "# Print the table in color\n",
    "console.print(table)\n"
   ]
  }
 ],
 "metadata": {
  "kernelspec": {
   "display_name": ".venv",
   "language": "python",
   "name": "python3"
  },
  "language_info": {
   "codemirror_mode": {
    "name": "ipython",
    "version": 3
   },
   "file_extension": ".py",
   "mimetype": "text/x-python",
   "name": "python",
   "nbconvert_exporter": "python",
   "pygments_lexer": "ipython3",
   "version": "3.12.6"
  }
 },
 "nbformat": 4,
 "nbformat_minor": 2
}
